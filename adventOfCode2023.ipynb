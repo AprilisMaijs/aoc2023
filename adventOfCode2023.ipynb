{
  "nbformat": 4,
  "nbformat_minor": 0,
  "metadata": {
    "colab": {
      "provenance": [],
      "authorship_tag": "ABX9TyMwTLTNfBsqJOWmRMF67/7f",
      "include_colab_link": true
    },
    "kernelspec": {
      "name": "python3",
      "display_name": "Python 3"
    },
    "language_info": {
      "name": "python"
    }
  },
  "cells": [
    {
      "cell_type": "markdown",
      "metadata": {
        "id": "view-in-github",
        "colab_type": "text"
      },
      "source": [
        "<a href=\"https://colab.research.google.com/github/AprilisMaijs/aoc2023/blob/main/adventOfCode2023.ipynb\" target=\"_parent\"><img src=\"https://colab.research.google.com/assets/colab-badge.svg\" alt=\"Open In Colab\"/></a>"
      ]
    },
    {
      "cell_type": "code",
      "source": [
        "import pandas as pd\n",
        "import numpy as np\n",
        "digit_numbers = {'0', '1', '2', '3', '4', '5', '6', '7', '8', '9'}"
      ],
      "metadata": {
        "id": "YJqrL_j3_ioF"
      },
      "execution_count": null,
      "outputs": []
    },
    {
      "cell_type": "code",
      "source": [
        "#returns calculation for 1 line of input, these can then be summed for result\n",
        "def aoc11(my_string):\n",
        "    my_list = ['0', '1', '2', '3', '4', '5', '6', '7', '8', '9']\n",
        "    length = len(my_string)\n",
        "    rez=\"\"\n",
        "    firstDigit = False\n",
        "    secondDigit = False\n",
        "    for index, char in enumerate(my_string):\n",
        "        if char in my_list and not firstDigit:\n",
        "            rez = char + rez\n",
        "            firstDigit = True\n",
        "            if secondDigit:\n",
        "                break\n",
        "\n",
        "        rev_index = length - 1 - index\n",
        "        if my_string[rev_index] in my_list and not secondDigit:\n",
        "            rez = rez + my_string[rev_index]\n",
        "            secondDigit = True\n",
        "            if firstDigit:\n",
        "                break\n",
        "\n",
        "    return(int(rez))\n",
        "\n"
      ],
      "metadata": {
        "id": "tCLnK-4gLreI"
      },
      "execution_count": null,
      "outputs": []
    },
    {
      "cell_type": "code",
      "source": [
        "# returns the pattern that has the FIRST match in a string\n",
        "def find_first_match(input_string, string_list):\n",
        "    first_match = None\n",
        "    index = 999\n",
        "    for pattern in string_list:\n",
        "        if pattern in input_string:\n",
        "            if input_string.find(pattern)<index:\n",
        "                first_match = pattern\n",
        "                index = input_string.find(pattern)\n",
        "\n",
        "    return first_match"
      ],
      "metadata": {
        "id": "mYtg7SIITmSD"
      },
      "execution_count": null,
      "outputs": []
    },
    {
      "cell_type": "code",
      "source": [
        "# returns the pattern that has the LAST match in a string\n",
        "def find_last_match(input_string, string_list):\n",
        "    last_match = None\n",
        "    index = 0\n",
        "    for pattern in string_list:\n",
        "        if pattern in input_string:\n",
        "             if input_string.rfind(pattern)>index:\n",
        "                last_match = pattern\n",
        "                index = input_string.rfind(pattern)\n",
        "    return last_match"
      ],
      "metadata": {
        "id": "luBbGyULTsmr"
      },
      "execution_count": null,
      "outputs": []
    },
    {
      "cell_type": "code",
      "source": [
        "#returns calculation for 1 line of input, these can then be summed for result\n",
        "def aoc12(my_string):\n",
        "    digit_numbers = [\"0\", \"1\", \"2\", \"3\", \"4\", \"5\", \"6\", \"7\", \"8\", \"9\"]\n",
        "    digit_words = [\"one\", \"two\", \"three\", \"four\", \"five\", \"six\", \"seven\", \"eight\", \"nine\"]\n",
        "    combo = digit_numbers + digit_words\n",
        "    result=0\n",
        "    firstDigit = find_first_match(my_string, combo)\n",
        "    lastDigit = find_last_match(my_string, combo)\n",
        "    if (firstDigit == None):\n",
        "        firstDigit = lastDigit\n",
        "    if (lastDigit == None):\n",
        "        lastDigit = firstDigit\n",
        "\n",
        "    if firstDigit in digit_words:\n",
        "        firstDigit = digit_numbers[digit_words.index(firstDigit)+1]\n",
        "    if lastDigit in digit_words:\n",
        "        lastDigit = digit_numbers[digit_words.index(lastDigit)+1]\n",
        "    return firstDigit+lastDigit\n"
      ],
      "metadata": {
        "id": "b8CDbPITUK8l"
      },
      "execution_count": null,
      "outputs": []
    },
    {
      "cell_type": "code",
      "source": [
        "#returns calculation for 1 line of input, these can then be summed for result\n",
        "def aoc21 (gameList, constraints):\n",
        "    gameID = gameList[0]\n",
        "    for set in gameList[1:]:\n",
        "        colors = set.split(',')\n",
        "        for num_color in colors:\n",
        "            color = num_color[len(num_color)-1]\n",
        "            amount = int(num_color.replace(' ','').replace('r','').replace('g','').replace('b',''))\n",
        "            if (constraints[color]<amount):\n",
        "                return 0\n",
        "    return int(gameID)"
      ],
      "metadata": {
        "id": "qD_x4ZuV-vxk"
      },
      "execution_count": null,
      "outputs": []
    },
    {
      "cell_type": "code",
      "source": [
        "#returns calculation for 1 line of input, these can then be summed for result\n",
        "def aoc22 (gameList):\n",
        "    gameID = gameList[0]\n",
        "    minAmounts = {'r': 0, 'g': 0, 'b': 0}\n",
        "    for set in gameList[1:]:\n",
        "        colors = set.split(',')\n",
        "        for num_color in colors:\n",
        "            color = num_color[len(num_color)-1]\n",
        "            amount = int(num_color.replace(' ','').replace('r','').replace('g','').replace('b',''))\n",
        "            if (amount > minAmounts[color]):\n",
        "                minAmounts[color] = amount\n",
        "    power = minAmounts['r']*minAmounts['g']*minAmounts['b']\n",
        "    return power"
      ],
      "metadata": {
        "id": "AcPzV9veGq52"
      },
      "execution_count": null,
      "outputs": []
    },
    {
      "cell_type": "code",
      "source": [
        "def check_for_symbols(array, index, indexes):\n",
        "    valid_index_range = range(len(array))\n",
        "    valid_i_range = range(len(array[0][0]))\n",
        "    for i in indexes:\n",
        "        list_of_checks = [\n",
        "            [index, i-1],\n",
        "            [index-1, i-1],\n",
        "            [index-1, i],\n",
        "            [index-1, i+1],\n",
        "            [index, i+1],\n",
        "            [index+1, i-1],\n",
        "            [index+1, i],\n",
        "            [index+1, i+1]]\n",
        "        for pos in list_of_checks:\n",
        "            if(pos[0] in valid_index_range and pos[1] in valid_i_range):\n",
        "                symbol = array[pos[0]][0][pos[1]]\n",
        "                if(symbol != '.' and symbol not in digit_numbers):\n",
        "                    return True\n",
        "    return False"
      ],
      "metadata": {
        "id": "93pBWEuoO8J2"
      },
      "execution_count": null,
      "outputs": []
    },
    {
      "cell_type": "code",
      "source": [
        "def aoc31(array):\n",
        "    result = 0\n",
        "    digit_numbers = {'0', '1', '2', '3', '4', '5', '6', '7', '8', '9'}  # Use a set for faster membership checks\n",
        "\n",
        "    for i in range(len(array)):  # Iterate over rows directly\n",
        "        my_string = array[i][0]\n",
        "        j = 0\n",
        "        while(j<len(my_string)):\n",
        "            if my_string[j] in digit_numbers:\n",
        "                part_number, indexes = find_full_number(my_string, j)\n",
        "                j = indexes[-1] + 1\n",
        "                isPart = check_for_symbols(array, i, indexes)\n",
        "                if isPart:\n",
        "                    result += part_number\n",
        "            j+=1\n",
        "    return result"
      ],
      "metadata": {
        "id": "qtwuuPGnLW4B"
      },
      "execution_count": null,
      "outputs": []
    },
    {
      "cell_type": "code",
      "source": [
        "def check_for_numbers(array, row, column):\n",
        "    valid_row_range = range(len(array))\n",
        "    valid_column_range = range(len(array[0][0]))\n",
        "    found_numbers = []\n",
        "    do_not_check = {}\n",
        "    list_of_checks = [\n",
        "        [row, column-1],\n",
        "        [row-1, column-1],\n",
        "        [row-1, column],\n",
        "        [row-1, column+1],\n",
        "        [row, column+1],\n",
        "        [row+1, column-1],\n",
        "        [row+1, column],\n",
        "        [row+1, column+1]]\n",
        "    for pos in list_of_checks:\n",
        "        if(pos[0] in valid_row_range and pos[1] in valid_column_range):\n",
        "            if(pos[0] in do_not_check):\n",
        "                if(pos[1]  in do_not_check[pos[0]]):\n",
        "                    continue\n",
        "            symbol = array[pos[0]][0][pos[1]]\n",
        "            if(symbol in digit_numbers):\n",
        "                num, indexes = (find_full_number(array[pos[0]][0],pos[1]))\n",
        "                found_numbers.append(num)\n",
        "                do_not_check[pos[0]] = indexes\n",
        "    return found_numbers"
      ],
      "metadata": {
        "id": "4xt5uNKzgd8c"
      },
      "execution_count": null,
      "outputs": []
    },
    {
      "cell_type": "code",
      "source": [
        "def find_full_number(my_string, index):\n",
        "    beginningFound = False\n",
        "    while(not beginningFound):\n",
        "        if(index - 1 >= 0):\n",
        "            if(my_string[index - 1] not in digit_numbers):\n",
        "                beginningFound = True\n",
        "                break\n",
        "        else:\n",
        "            beginningFound = True\n",
        "            break\n",
        "        index += -1\n",
        "    char = my_string[index]\n",
        "    indexes = []\n",
        "    number = \"\"\n",
        "    while(char in digit_numbers and index < len(my_string)):\n",
        "        indexes.append(index)\n",
        "        number += char\n",
        "        index += 1\n",
        "        if (index < len(my_string)):\n",
        "            char = my_string[index]\n",
        "    return int(number), indexes"
      ],
      "metadata": {
        "id": "Z_FKmionNAns"
      },
      "execution_count": null,
      "outputs": []
    },
    {
      "cell_type": "code",
      "source": [
        "def aoc32(array):\n",
        "    result = 0\n",
        "    for i in range(len(array)):  # Iterate over rows directly\n",
        "        my_string = array[i][0]\n",
        "        j = 0\n",
        "        while(j<len(my_string)):\n",
        "            if my_string[j] == '*':\n",
        "                print('gear found...')\n",
        "                unique_values = check_for_numbers(array, i, j)\n",
        "                print('part numbers found ')\n",
        "                print(unique_values)\n",
        "                if(len(unique_values) == 2):\n",
        "                    result += unique_values[0]*unique_values[1]\n",
        "            j+=1\n",
        "    return result"
      ],
      "metadata": {
        "id": "N_RvSsrdeXLV"
      },
      "execution_count": null,
      "outputs": []
    },
    {
      "cell_type": "code",
      "source": [
        "def aoc41(array):\n",
        "    result = 0\n",
        "\n",
        "    for row in array:\n",
        "        winningNumbers = []\n",
        "        yourNumbers = []\n",
        "        points = 0\n",
        "        matches = 0\n",
        "        delimiterReached = False\n",
        "        for i in range(1,len(row)):\n",
        "            if delimiterReached:\n",
        "                yourNumbers.append(row[i])\n",
        "            else:\n",
        "                if row[i] == '|':\n",
        "                    delimiterReached = True\n",
        "                else:\n",
        "                    winningNumbers.append(row[i])\n",
        "        for num in winningNumbers:\n",
        "            matches += yourNumbers.count(num)\n",
        "        if matches != 0:\n",
        "            points = 2**(matches-1)\n",
        "        result += points\n",
        "        #print(row,matches,2**(matches-1) ,points,result)\n",
        "    return result"
      ],
      "metadata": {
        "id": "R_li_LWwPLEP"
      },
      "execution_count": null,
      "outputs": []
    },
    {
      "cell_type": "code",
      "source": [
        "def aoc42(array):\n",
        "    result = 0\n",
        "    matches = {}\n",
        "    cards = {}\n",
        "    for i in range(len(array)):\n",
        "        cards[array[i][0]]=1\n",
        "        winningNumbers = []\n",
        "        yourNumbers = []\n",
        "        points = 0\n",
        "        delimiterReached = False\n",
        "        for j in range(1,len(array[i])):\n",
        "            if delimiterReached:\n",
        "                yourNumbers.append(array[i][j])\n",
        "            else:\n",
        "                if array[i][j] == '|':\n",
        "                    delimiterReached = True\n",
        "                else:\n",
        "                    winningNumbers.append(array[i][j])\n",
        "        for num in winningNumbers:\n",
        "            if array[i][0] in matches:\n",
        "                matches[array[i][0]] += yourNumbers.count(num)\n",
        "            else:\n",
        "                matches[array[i][0]] = yourNumbers.count(num)\n",
        "    #iterate over cards AGAIN\n",
        "    for key in cards:\n",
        "        next_keys = list(cards.keys())[list(cards.keys()).index(key) + 1:list(cards.keys()).index(key) + matches[key] + 1]\n",
        "        for next_key in next_keys:\n",
        "            if next_key in cards:\n",
        "                cards[next_key] += 1*cards[key]  # Update the value to a new value\n",
        "\n",
        "\n",
        "    result = sum(cards.values())\n",
        "\n",
        "    return result"
      ],
      "metadata": {
        "id": "9U2ED0ePWzVW"
      },
      "execution_count": null,
      "outputs": []
    },
    {
      "cell_type": "code",
      "source": [
        "def aoc51(array, seeds):\n",
        "    lowest_loc = 999999999999\n",
        "    for i in range(len(array)):\n",
        "        #print(seeds)\n",
        "        if (array[i][-1] == 'map:'):\n",
        "            mapped = {}\n",
        "            continue\n",
        "        else:\n",
        "            outputStart = int(array[i][0])\n",
        "            sourceStart = int(array[i][1])\n",
        "            rangeLength = int(array[i][2])\n",
        "            #print(outputStart,sourceStart,rangeLength)\n",
        "            for j in range(len(seeds)):\n",
        "                #print(range(sourceStart, sourceStart + rangeLength), seeds[j] in range(sourceStart, sourceStart + rangeLength), seeds[j] not in mapped)\n",
        "                if (seeds[j] in range(sourceStart, sourceStart + rangeLength) and seeds[j] not in mapped):\n",
        "                    seeds[j] = seeds[j] + (outputStart - sourceStart)\n",
        "                    mapped[seeds[j]] = 1\n",
        "        #print(dict)\n",
        "        #print(seeds)\n",
        "\n",
        "    for seed in seeds:\n",
        "        if int(seed) < lowest_loc:\n",
        "            lowest_loc = int(seed)\n",
        "    return lowest_loc"
      ],
      "metadata": {
        "id": "4m_ogV3rZ4Xt"
      },
      "execution_count": null,
      "outputs": []
    },
    {
      "cell_type": "code",
      "source": [
        "def aoc52_old(array, seeds):\n",
        "    location = 0\n",
        "    mapped = False\n",
        "    while(True):\n",
        "        startingLoc = location\n",
        "        if(location%1000==0):\n",
        "            print(f'checking location {startingLoc}')\n",
        "        for i in range(len(array)):\n",
        "            if (array[i][-1] == 'map:'):\n",
        "                mapped = False\n",
        "                continue\n",
        "            else:\n",
        "                outputStart = int(array[i][0])\n",
        "                sourceStart = int(array[i][1])\n",
        "                rangeLength = int(array[i][2])\n",
        "                #print(outputStart,sourceStart,rangeLength)\n",
        "                if (location in range(outputStart, outputStart + rangeLength) and not mapped):\n",
        "                    location = location - (outputStart - sourceStart)\n",
        "                    mapped = True\n",
        "        for seed in seeds:\n",
        "            #print(f'starting location {startingLoc} yielded seed {location}, checking range {seed, seeds[seed]}, which yields {location in range(seed, seeds[seed])}')\n",
        "            if location in range(seed, seed + seeds[seed]):\n",
        "                return startingLoc\n",
        "        location = startingLoc + 1\n",
        "    return -1"
      ],
      "metadata": {
        "id": "3qg1KRUG9zS5"
      },
      "execution_count": null,
      "outputs": []
    },
    {
      "cell_type": "code",
      "source": [
        "def single_range_mapper(seedRange, mapRange, delta): #maps the seedRange according to one line of the map.\n",
        "    #print(f'mapping {seedRange} using {mapRange, delta}')\n",
        "    if seedRange[0] in range(mapRange[0],mapRange[1]):\n",
        "\n",
        "        if seedRange[1] in range(mapRange[0],mapRange[1]):\n",
        "            #print(1)\n",
        "            mappedRanges = [[seedRange[0]+delta, seedRange[1]+delta]]\n",
        "            unmappedRanges = []\n",
        "\n",
        "        else:\n",
        "            #print(2)\n",
        "            mappedRanges = [[seedRange[0] + delta, mapRange[1] + delta]]\n",
        "            unmappedRanges = [[mapRange[1], seedRange[1]]]\n",
        "\n",
        "    elif seedRange[1] in range(mapRange[0],mapRange[1]):\n",
        "        #print(3)\n",
        "        mappedRanges = [[mapRange[0] + delta, seedRange[1] + delta]]\n",
        "        unmappedRanges = [[seedRange[0], mapRange[0]]]\n",
        "\n",
        "    elif mapRange[0] in range(seedRange[0],seedRange[1]) and mapRange[1] in range(seedRange[0],seedRange[1]):\n",
        "        #print(4)\n",
        "        unmappedRanges = [[seedRange[0], mapRange[0]], [mapRange[1], seedRange[1]]]\n",
        "        mappedRanges = [[mapRange[0] + delta, mapRange[1] + delta]]\n",
        "\n",
        "    else:\n",
        "        #print(5)\n",
        "        unmappedRanges = [seedRange]\n",
        "        mappedRanges = []\n",
        "    #print(f'mapped, unmapped = {mappedRanges, unmappedRanges}')\n",
        "    return mappedRanges, unmappedRanges"
      ],
      "metadata": {
        "id": "SODaJjVIlxU8"
      },
      "execution_count": null,
      "outputs": []
    },
    {
      "cell_type": "code",
      "source": [
        "########   evil preprocessing #########\n",
        "#seeds = array[0][1:]\n",
        "    #ranges = []\n",
        "\n",
        "#for i in range(len(seeds)):\n",
        " #       if i % 2 == 0:\n",
        "  #          seedRange = [int(seeds[i]), int(seeds[i]) + int(seeds[i + 1])]\n",
        "   #array.append(array[1])\n",
        "    #array = array[2:]\n",
        "#    print(ranges,array)\n",
        " #   min = 999999999999999\n",
        "  #  for r in ranges:\n",
        "   #     print(f'range {r}')\n",
        "    #    lowest_loc = aoc52(array, r)\n",
        "     #   if lowest_loc<min:\n",
        "      #      min = lowest_loc\n",
        "    #print(min)\n",
        "\n",
        "\n",
        "def aoc52(array, seedRange): # finds the lowest possible conclusion of the mapping algorithm for one seed range\n",
        "    #for i in range(rangeCount):\n",
        "    unmappedRanges = [seedRange]\n",
        "    metaTEMP = []\n",
        "    mappedRanges = []\n",
        "    currentMap = []\n",
        "    for i in range(len(array)):\n",
        "        if (array[i][-1] == 'map:'):\n",
        "            #print(' ')\n",
        "            #print(f'one before {array[i][0]} map' )\n",
        "            for map in currentMap:\n",
        "                #print(f'map is {map}')\n",
        "                for rng in unmappedRanges:\n",
        "                    #print(rng)\n",
        "                    tempMappedRange, tempUnmappedRanges = single_range_mapper(rng, map[0], map[1])\n",
        "                    if tempMappedRange:\n",
        "                        mappedRanges.append(tempMappedRange[0])\n",
        "                    for temp in  tempUnmappedRanges:\n",
        "                        metaTEMP.append(temp)\n",
        "                unmappedRanges = metaTEMP\n",
        "                metaTEMP = []\n",
        "            unmappedRanges = mappedRanges + unmappedRanges\n",
        "            mappedRanges = []\n",
        "            currentMap = []\n",
        "        else:\n",
        "            outputStart = int(array[i][0])\n",
        "            sourceStart = int(array[i][1])\n",
        "            rangeLength = int(array[i][2])\n",
        "            mapRange = [sourceStart, sourceStart + rangeLength]\n",
        "            delta = outputStart - sourceStart\n",
        "            currentMap.append([mapRange, delta])\n",
        "    #print(f'the final ranges are {unmappedRanges}')\n",
        "\n",
        "    min = 999999999999999\n",
        "    for final in unmappedRanges:\n",
        "        if final[0] < min:\n",
        "            #print(f'{final[0]} < {min} at {final}')\n",
        "            min = final[0]\n",
        "    return min\n",
        "\n",
        "        #print(seeds)"
      ],
      "metadata": {
        "id": "XnrVYTHPi_MI"
      },
      "execution_count": null,
      "outputs": []
    },
    {
      "cell_type": "code",
      "source": [
        "from collections import Counter\n",
        "\n",
        "def aoc71(array):\n",
        "    card_values = {'A': 14, 'K': 13, 'Q': 12, 'J': 11, 'T': 10, '9': 9, '8': 8,'7': 7, '6': 6,'5': 5, '4': 4, '3': 3, '2': 2}\n",
        "    sorted_by_rank = []\n",
        "    for i in range(len(array)):\n",
        "        cards = array[i][0]\n",
        "        numeric_array = [int(card_values.get(char)) for char in cards]\n",
        "        rez = hand_strength(cards)\n",
        "        array[i].append(rez)\n",
        "        array[i][0] = numeric_array\n",
        "    print(array)\n",
        "    totally_sorted_array = sorted(array, key=lambda x: (x[-1], x[0][0], x[0][1], x[0][2], x[0][3], x[0][4]), reverse = True)\n",
        "    print(totally_sorted_array)\n",
        "    result = 0\n",
        "    for k in range(len(totally_sorted_array)):\n",
        "        result = result + int(totally_sorted_array[k][1])*(len(totally_sorted_array)-k)\n",
        "    #for j in range(len(sorted_array)):\n",
        "    return result\n"
      ],
      "metadata": {
        "id": "XBLgOQ-Pw3Vt"
      },
      "execution_count": null,
      "outputs": []
    },
    {
      "cell_type": "code",
      "source": [
        "def hand_strength(cardString):\n",
        "    WC = Counter(cardString)\n",
        "    nums = []\n",
        "    for letter, count in WC.items():\n",
        "        if count>1:\n",
        "            nums.append(count)\n",
        "    if nums:\n",
        "        if len(nums) == 1:\n",
        "            rez = nums[0]\n",
        "            if rez == 3:\n",
        "                rez=rez+1\n",
        "            elif rez ==4 or rez ==5:\n",
        "                rez = rez+2\n",
        "                #covers 5,4,3 of a kind and one pair\n",
        "        else:\n",
        "            rez = max(nums)\n",
        "            if rez == 3: # full house\n",
        "                rez = rez + 2\n",
        "            else:\n",
        "                rez = rez + 1\n",
        "    else:\n",
        "        rez = 1\n",
        "    #print(cardString, nums, rez)\n",
        "    return rez"
      ],
      "metadata": {
        "id": "wjDvU6DZ_nsi"
      },
      "execution_count": null,
      "outputs": []
    },
    {
      "cell_type": "code",
      "source": [
        "from collections import Counter\n",
        "\n",
        "def aoc72(array):\n",
        "    card_values = {'A': 14, 'K': 13, 'Q': 12, 'T': 10, '9': 9, '8': 8,'7': 7, '6': 6,'5': 5, '4': 4, '3': 3, '2': 2, 'J': 1}\n",
        "    card_faces = ['A', 'K', 'Q', 'J', 'T', '9', '8', '7', '6', '5', '4', '3', '2']\n",
        "    sorted_by_rank = []\n",
        "    for i in range(len(array)):\n",
        "        cards = array[i][0]\n",
        "        numeric_array = [int(card_values.get(char)) for char in cards]\n",
        "        maxStrength = 0\n",
        "        if 'J' in cards:\n",
        "            for card in card_faces:\n",
        "                tempCards = cards.replace('J', card)\n",
        "                strength = hand_strength(tempCards)\n",
        "                if strength > maxStrength:\n",
        "                    maxStrength = strength\n",
        "        else:\n",
        "            maxStrength = hand_strength(cards)\n",
        "        array[i].append(maxStrength)\n",
        "        array[i][0] = numeric_array\n",
        "    #print(array)\n",
        "    totally_sorted_array = sorted(array, key=lambda x: (x[-1], x[0][0], x[0][1], x[0][2], x[0][3], x[0][4]), reverse = True)\n",
        "    print(totally_sorted_array)\n",
        "    result = 0\n",
        "    for k in range(len(totally_sorted_array)):\n",
        "        result = result + int(totally_sorted_array[k][1])*(len(totally_sorted_array)-k)\n",
        "    #for j in range(len(sorted_array)):\n",
        "    return result"
      ],
      "metadata": {
        "id": "l86g5KmQ_beB"
      },
      "execution_count": null,
      "outputs": []
    },
    {
      "cell_type": "code",
      "source": [
        "class Tree:\n",
        "    def __init__(self):\n",
        "        self.left = None\n",
        "        self.right = None\n",
        "        self.data = None"
      ],
      "metadata": {
        "id": "MD9GKJfi3F3S"
      },
      "execution_count": null,
      "outputs": []
    },
    {
      "cell_type": "code",
      "source": [
        "!pip install anytree\n",
        "from anytree import Node, RenderTree\n",
        "\n",
        "udo = Node(\"Udo\")\n",
        "marc = Node(\"Marc\", parent=udo)\n",
        "lian = Node(\"Lian\", parent=marc)\n",
        "dan = Node(\"Dan\", parent=udo)\n",
        "jet = Node(\"Jet\", parent=dan)\n",
        "jan = Node(\"Jan\", parent=dan)\n",
        "joe = Node(\"Joe\", parent=dan)\n",
        "\n",
        "print(udo)\n",
        "Node('/Udo')\n",
        "print(joe)\n",
        "Node('/Udo/Dan/Joe')\n",
        "\n",
        "for pre, fill, node in RenderTree(udo):\n",
        "    print(\"%s%s\" % (pre, node.name))"
      ],
      "metadata": {
        "colab": {
          "base_uri": "https://localhost:8080/"
        },
        "id": "Iq7wwP4n27VV",
        "outputId": "5762f7f8-97c7-4ca9-f18b-6db82cc98735"
      },
      "execution_count": null,
      "outputs": [
        {
          "output_type": "stream",
          "name": "stdout",
          "text": [
            "Collecting anytree\n",
            "  Downloading anytree-2.12.1-py3-none-any.whl (44 kB)\n",
            "\u001b[?25l     \u001b[90m━━━━━━━━━━━━━━━━━━━━━━━━━━━━━━━━━━━━━━━━\u001b[0m \u001b[32m0.0/44.9 kB\u001b[0m \u001b[31m?\u001b[0m eta \u001b[36m-:--:--\u001b[0m\r\u001b[2K     \u001b[90m━━━━━━━━━━━━━━━━━━━━━━━━━━━━━━━━━━━━━━━━\u001b[0m \u001b[32m44.9/44.9 kB\u001b[0m \u001b[31m1.1 MB/s\u001b[0m eta \u001b[36m0:00:00\u001b[0m\n",
            "\u001b[?25hRequirement already satisfied: six in /usr/local/lib/python3.10/dist-packages (from anytree) (1.16.0)\n",
            "Installing collected packages: anytree\n",
            "Successfully installed anytree-2.12.1\n",
            "Node('/Udo')\n",
            "Node('/Udo/Dan/Joe')\n",
            "Udo\n",
            "├── Marc\n",
            "│   └── Lian\n",
            "└── Dan\n",
            "    ├── Jet\n",
            "    ├── Jan\n",
            "    └── Joe\n"
          ]
        }
      ]
    },
    {
      "cell_type": "code",
      "source": [
        "from anytree import Node, RenderTree\n",
        "\n",
        "def aoc81(array, currentNode):\n",
        "    steps = array[0][0]\n",
        "    found = False\n",
        "    nodes = {}\n",
        "    for line in array[1:]:\n",
        "        nodename = line[0]\n",
        "        nodeChildren = [line[-2], line[-1]]\n",
        "        nodes[nodename] = nodeChildren\n",
        "    result = 0\n",
        "    while not found:\n",
        "        for step in steps:\n",
        "            #print(step)\n",
        "            result += 1\n",
        "            for node in nodes:\n",
        "                if node == currentNode:\n",
        "                    if step == 'L':\n",
        "                        currentNode = nodes[node][0]\n",
        "                    elif step == 'R':\n",
        "                        currentNode = nodes[node][1]\n",
        "                    #print(currentNode)\n",
        "                    if currentNode[-1] == 'Z':\n",
        "\n",
        "                    break\n",
        "        if found:\n",
        "                break\n",
        "    return result\n",
        "\n"
      ],
      "metadata": {
        "id": "uRTx3OeW1cfF"
      },
      "execution_count": null,
      "outputs": []
    },
    {
      "cell_type": "code",
      "source": [
        "import math\n",
        "\n",
        "def aoc82(array):\n",
        "    steps = array[0][0]\n",
        "    found = False\n",
        "    currentNodes = []\n",
        "    nodes = {}\n",
        "    for line in array[1:]:\n",
        "        nodeName = line[0]\n",
        "        nodeChildren = [line[-2], line[-1]]\n",
        "        nodes[nodeName] = nodeChildren\n",
        "        if nodeName[-1] == 'A':\n",
        "            currentNodes.append(nodeName)\n",
        "    result = []\n",
        "    for i in range(len(currentNodes)):\n",
        "        stepsToZ = aoc81(array, currentNodes[i])\n",
        "        print(stepsToZ)\n",
        "        result.append(stepsToZ)\n",
        "\n",
        "    lcm_result = math.lcm(*result)\n",
        "    return lcm_result"
      ],
      "metadata": {
        "id": "Dw490fOLZIHF"
      },
      "execution_count": null,
      "outputs": []
    },
    {
      "cell_type": "code",
      "source": [
        "for i in range(10, 0, -1):\n",
        "    print(i)"
      ],
      "metadata": {
        "colab": {
          "base_uri": "https://localhost:8080/"
        },
        "id": "VbCeu_NYr1zH",
        "outputId": "4272fc03-4bba-4ed1-e0df-f945642da212"
      },
      "execution_count": null,
      "outputs": [
        {
          "output_type": "stream",
          "name": "stdout",
          "text": [
            "10\n",
            "9\n",
            "8\n",
            "7\n",
            "6\n",
            "5\n",
            "4\n",
            "3\n",
            "2\n",
            "1\n"
          ]
        }
      ]
    },
    {
      "cell_type": "code",
      "source": [
        "def extrapolate_future(list):\n",
        "    print('extrapolating..')\n",
        "    levels = {}\n",
        "    length = len(list)\n",
        "    levels[0] = [list[i + 1] - list[i] for i in range(length - 1)]\n",
        "    #print(list)\n",
        "    #print(levels[0])\n",
        "    for i in range(1, len(list)):\n",
        "        if all(num == 0 for num in levels[i-1]):\n",
        "            #print(f'all zeroes found at level {i}')\n",
        "            for k in range(i-2, -1, -1):\n",
        "                appendable = levels[k][-1] + levels[k+1][-1]\n",
        "                #print(f'appending {appendable}')\n",
        "                levels[k].append(appendable)\n",
        "                #print(levels[k])\n",
        "            break\n",
        "        else:\n",
        "            length = length - 1\n",
        "            levels[i] = [levels[i-1][j + 1] - levels[i-1][j] for j in range(length - 1)]\n",
        "            print(levels[i])\n",
        "    extrapolated = list[-1]+levels[0][-1]\n",
        "    #print(extrapolated)\n",
        "    return extrapolated"
      ],
      "metadata": {
        "id": "dxKAPqUEkGld"
      },
      "execution_count": null,
      "outputs": []
    },
    {
      "cell_type": "code",
      "source": [
        "def aoc91(array):\n",
        "    result = 0\n",
        "    for line in array:\n",
        "        int_line = [int(x) for x in line]\n",
        "        extrapolated = extrapolate_future(int_line)\n",
        "        result = result + extrapolated\n",
        "    return result"
      ],
      "metadata": {
        "id": "36vmq5KakCEV"
      },
      "execution_count": null,
      "outputs": []
    },
    {
      "cell_type": "code",
      "source": [
        "def extrapolate_past(list):\n",
        "    print('extrapolating..')\n",
        "    levels = {}\n",
        "    length = len(list)\n",
        "    levels[0] = [list[i + 1] - list[i] for i in range(length - 1)]\n",
        "    #print(list)\n",
        "    #print(levels[0])\n",
        "    for i in range(1, len(list)):\n",
        "        if all(num == 0 for num in levels[i-1]):\n",
        "            #print(f'all zeroes found at level {i}')\n",
        "            for k in range(i-2, -1, -1):\n",
        "                appendable = levels[k][0] - levels[k+1][0]\n",
        "                #print(f'appending {appendable}')\n",
        "                levels[k] = [appendable] + levels[k]\n",
        "                #print(levels[k])\n",
        "            break\n",
        "        else:\n",
        "            length = length - 1\n",
        "            levels[i] = [levels[i-1][j + 1] - levels[i-1][j] for j in range(length - 1)]\n",
        "            print(levels[i])\n",
        "    extrapolated = list[0]-levels[0][0]\n",
        "    #print(extrapolated)\n",
        "    return extrapolated"
      ],
      "metadata": {
        "id": "XkCxGTBzw61U"
      },
      "execution_count": null,
      "outputs": []
    },
    {
      "cell_type": "code",
      "source": [
        "def aoc92(array):\n",
        "    result = 0\n",
        "    for line in array:\n",
        "        int_line = [int(x) for x in line]\n",
        "        extrapolated = extrapolate_past(int_line)\n",
        "        result = result + extrapolated\n",
        "    return result"
      ],
      "metadata": {
        "id": "p95u_avVw3vL"
      },
      "execution_count": null,
      "outputs": []
    },
    {
      "cell_type": "code",
      "source": [
        "def check_for_pipe(array, row, column):\n",
        "    valid_row_range = range(len(array))\n",
        "    valid_column_range = range(len(array[0][0]))\n",
        "\n",
        "\n",
        "\n",
        "    found_numbers = []\n",
        "    do_not_check = {}\n",
        "    list_of_checks = [\n",
        "        [row, column-1],\n",
        "        [row-1, column-1],\n",
        "        [row-1, column],\n",
        "        [row-1, column+1],\n",
        "        [row, column+1],\n",
        "        [row+1, column-1],\n",
        "        [row+1, column],\n",
        "        [row+1, column+1]]\n",
        "    for pos in list_of_checks:\n",
        "        if(pos[0] in valid_row_range and pos[1] in valid_column_range):\n",
        "            if(pos[0] in do_not_check):\n",
        "                if(pos[1]  in do_not_check[pos[0]]):\n",
        "                    continue\n",
        "            symbol = array[pos[0]][0][pos[1]]\n",
        "            if(symbol in digit_numbers):\n",
        "                num, indexes = (find_full_number(array[pos[0]][0],pos[1]))\n",
        "                found_numbers.append(num)\n",
        "                do_not_check[pos[0]] = indexes\n",
        "    return found_numbers"
      ],
      "metadata": {
        "id": "3glOwy1T1Z3O"
      },
      "execution_count": null,
      "outputs": []
    },
    {
      "cell_type": "code",
      "source": [],
      "metadata": {
        "id": "RkTryTBFQv9O"
      },
      "execution_count": null,
      "outputs": []
    },
    {
      "cell_type": "code",
      "source": [
        "import math\n",
        "import numpy as np\n",
        "\n",
        "def aoc101(array):\n",
        "    valid_row_range = range(len(array))\n",
        "    valid_column_range = range(len(array[0][0]))\n",
        "    location = []\n",
        "    for i in valid_row_range:\n",
        "        for j in valid_column_range:\n",
        "            if array[i][0][j] == 'S':\n",
        "                location.append(i)\n",
        "                location.append(j)\n",
        "                break\n",
        "        if location:\n",
        "            break\n",
        "\n",
        "\n",
        "    steps = 0\n",
        "    print(location)\n",
        "    found = True\n",
        "    OKtoLook = [0,1,2,3]\n",
        "    while(found):\n",
        "        #print('asdasdasedasdasd')\n",
        "        #print(steps)\n",
        "        steps = steps + 1\n",
        "        list_of_checks = [\n",
        "            [location[0], location[1]-1],\n",
        "            [location[0], location[1]+1],\n",
        "            [location[0]-1, location[1]],\n",
        "            [location[0]+1, location[1]]]\n",
        "        found = False\n",
        "        for k in range(len(list_of_checks)):\n",
        "            if list_of_checks[k][0] in valid_row_range and list_of_checks[k][1] in valid_column_range:\n",
        "                symbol = array[list_of_checks[k][0]][0][list_of_checks[k][1]]\n",
        "                if symbol == 'S':\n",
        "                    print('jhbhjvjhbjh')\n",
        "                    looped = True\n",
        "                    break\n",
        "            else:\n",
        "                continue\n",
        "\n",
        "            #print(f'checking symbol {symbol}')\n",
        "            oldLocation = location\n",
        "            found = True\n",
        "            if k==0 and k in OKtoLook and symbol in ['-','L','F']:\n",
        "                if symbol == '-':\n",
        "                    location = list_of_checks[k]\n",
        "                    OKtoLook = [0,1]\n",
        "\n",
        "                elif symbol == 'L':\n",
        "                    location = list_of_checks[k]\n",
        "                    OKtoLook = [2,1]\n",
        "\n",
        "                elif symbol == 'F':\n",
        "                    location = list_of_checks[k]\n",
        "                    OKtoLook = [3,1]\n",
        "\n",
        "            elif k==1 and k in OKtoLook and symbol in ['-','7','J']:\n",
        "                if symbol == '-':\n",
        "                    location = list_of_checks[k]\n",
        "                    OKtoLook = [0,1]\n",
        "\n",
        "                elif symbol == '7':\n",
        "                    location = list_of_checks[k]\n",
        "                    OKtoLook = [0,3]\n",
        "\n",
        "                elif symbol == 'J':\n",
        "                    location = list_of_checks[k]\n",
        "                    OKtoLook = [0,2]\n",
        "\n",
        "            elif k==2 and k in OKtoLook and symbol in ['|','7','F']:\n",
        "                if symbol == '|':\n",
        "                    location = list_of_checks[k]\n",
        "                    OKtoLook = [3,2]\n",
        "\n",
        "                elif symbol == '7':\n",
        "                    location = list_of_checks[k]\n",
        "                    OKtoLook = [0,3]\n",
        "\n",
        "                elif symbol == 'F':\n",
        "                    location = list_of_checks[k]\n",
        "                    OKtoLook = [3,1]\n",
        "\n",
        "\n",
        "            elif k==3 and k in OKtoLook and symbol in ['|','L','J']:\n",
        "                if symbol == '|':\n",
        "                    location = list_of_checks[k]\n",
        "                    OKtoLook = [3,2]\n",
        "\n",
        "                elif symbol == 'L':\n",
        "                    location = list_of_checks[k]\n",
        "                    OKtoLook = [2,1]\n",
        "\n",
        "                elif symbol == 'J':\n",
        "                    location = list_of_checks[k]\n",
        "                    OKtoLook = [0,2]\n",
        "            else:\n",
        "                #print(f'checked loc {k} where k in {OKtoLook} for symbol {symbol} no dice')\n",
        "                found = False\n",
        "\n",
        "            if found:\n",
        "                if array[oldLocation[0]][0][oldLocation[1]] in ['|']:\n",
        "                    array[oldLocation[0]][0] = array[oldLocation[0]][0][:oldLocation[1]] + 'V' + array[oldLocation[0]][0][oldLocation[1] + 1:]\n",
        "                elif array[oldLocation[0]][0][oldLocation[1]] in ['L']:\n",
        "                    array[oldLocation[0]][0] = array[oldLocation[0]][0][:oldLocation[1]] + '0' + array[oldLocation[0]][0][oldLocation[1] + 1:]\n",
        "                elif array[oldLocation[0]][0][oldLocation[1]] in ['7']:\n",
        "                    array[oldLocation[0]][0] = array[oldLocation[0]][0][:oldLocation[1]] + '1' + array[oldLocation[0]][0][oldLocation[1] + 1:]\n",
        "                elif array[oldLocation[0]][0][oldLocation[1]] in ['F']:\n",
        "                    array[oldLocation[0]][0] = array[oldLocation[0]][0][:oldLocation[1]] + '2' + array[oldLocation[0]][0][oldLocation[1] + 1:]\n",
        "                elif array[oldLocation[0]][0][oldLocation[1]] in ['J']:\n",
        "                    array[oldLocation[0]][0] = array[oldLocation[0]][0][:oldLocation[1]] + '3' + array[oldLocation[0]][0][oldLocation[1] + 1:]\n",
        "                else:\n",
        "                    array[oldLocation[0]][0] = array[oldLocation[0]][0][:oldLocation[1]] + '*' + array[oldLocation[0]][0][oldLocation[1] + 1:]\n",
        "\n",
        "                #print(f'checked loc {k} where k in {OKtoLook} for symbol {symbol}')\n",
        "                #print(location, symbol, k, OKtoLook)\n",
        "                # print(array)\n",
        "                break\n",
        "        if not found:\n",
        "            #     ,'L','J','7','F'\n",
        "            if array[oldLocation[0]][0][oldLocation[1]] in ['|']:\n",
        "                array[oldLocation[0]][0] = array[oldLocation[0]][0][:oldLocation[1]] + 'V' + array[oldLocation[0]][0][oldLocation[1] + 1:]\n",
        "            elif array[oldLocation[0]][0][oldLocation[1]] in ['L']:\n",
        "                array[oldLocation[0]][0] = array[oldLocation[0]][0][:oldLocation[1]] + '0' + array[oldLocation[0]][0][oldLocation[1] + 1:]\n",
        "            elif array[oldLocation[0]][0][oldLocation[1]] in ['7']:\n",
        "                array[oldLocation[0]][0] = array[oldLocation[0]][0][:oldLocation[1]] + '1' + array[oldLocation[0]][0][oldLocation[1] + 1:]\n",
        "            elif array[oldLocation[0]][0][oldLocation[1]] in ['F']:\n",
        "                array[oldLocation[0]][0] = array[oldLocation[0]][0][:oldLocation[1]] + '2' + array[oldLocation[0]][0][oldLocation[1] + 1:]\n",
        "            elif array[oldLocation[0]][0][oldLocation[1]] in ['J']:\n",
        "                array[oldLocation[0]][0] = array[oldLocation[0]][0][:oldLocation[1]] + '3' + array[oldLocation[0]][0][oldLocation[1] + 1:]\n",
        "            else:\n",
        "                array[oldLocation[0]][0] = array[oldLocation[0]][0][:oldLocation[1]] + '*' + array[oldLocation[0]][0][oldLocation[1] + 1:]\n",
        "\n",
        "             # Specify the file path\n",
        "    nests = 0\n",
        "    for element in array:\n",
        "        print(element)\n",
        "\n",
        "    print(' ')\n",
        "    list = []\n",
        "\n",
        "    for y in range(len(array)):\n",
        "        for x in range(len(array[0][0])):\n",
        "            sym = array[y][0][x]\n",
        "            if sym not in ['*','0','1','2','3','V','']:\n",
        "\n",
        "                substrHoriz = array[y][0][x:]\n",
        "                if(check_in_polygon(substrHoriz)):\n",
        "                    nests = nests + 1\n",
        "\n",
        "    finalSteps = math.ceil((steps-1)/2)\n",
        "    return finalSteps, nests\n",
        "\n"
      ],
      "metadata": {
        "id": "9aidANIc1mjJ"
      },
      "execution_count": null,
      "outputs": []
    },
    {
      "cell_type": "code",
      "source": [
        "def check_in_polygon(string):\n",
        "    res = 0\n",
        "    Lseen = False\n",
        "    Fseen = False\n",
        "    for c in string:\n",
        "        if c == 'V':\n",
        "            res += 1\n",
        "        elif c == '0': # L\n",
        "            if not Lseen:\n",
        "                Lseen = True\n",
        "        elif c == '1': #7\n",
        "            if Lseen:\n",
        "                res += 1\n",
        "                Lseen = False\n",
        "            if Fseen:\n",
        "                Fseen = False\n",
        "        elif c == '2': # F\n",
        "            if not Fseen:\n",
        "                Fseen = True\n",
        "        elif c == '3': #J\n",
        "            if Fseen:\n",
        "                res += 1\n",
        "                Fseen = False\n",
        "            if Lseen:\n",
        "                Lseen = False\n",
        "    if res % 2 == 0:\n",
        "        return False\n",
        "    else:\n",
        "        return True"
      ],
      "metadata": {
        "id": "Ct4Sdrbm9IMm"
      },
      "execution_count": null,
      "outputs": []
    },
    {
      "cell_type": "code",
      "source": [
        "def space_extendor_3000(array):\n",
        "    tempArrRows = []\n",
        "    for row in array:\n",
        "        tempArrRows = tempArrRows + [row]\n",
        "        if all(char == '.' for char in row):\n",
        "            for z in range(10):\n",
        "                tempArrRows = tempArrRows + [row]\n",
        "    tempArrCols = []\n",
        "    # Get the number of columns\n",
        "    for i in range(len(tempArrRows[0])):\n",
        "        column = [row[i] for row in tempArrRows]\n",
        "        tempArrCols += [column]\n",
        "        # Check if all elements in the column are '.'\n",
        "        if all(char == '.' for char in column):\n",
        "            for z in range(10):\n",
        "                tempArrCols += [column]\n",
        "\n",
        "    transposed_array = [[row[i] for row in tempArrCols] for i in range(len(tempArrCols[0]))]\n",
        "\n",
        "    return transposed_array"
      ],
      "metadata": {
        "id": "pnuoubmIk2Pp"
      },
      "execution_count": null,
      "outputs": []
    },
    {
      "cell_type": "code",
      "source": [
        "def aoc111(array):\n",
        "    extended_arr = space_extendor_3000(array)\n",
        "    locations = []\n",
        "    for i in range(len(extended_arr)):\n",
        "        for j in range(len(extended_arr[0])):\n",
        "            if extended_arr[i][j] == '#':\n",
        "                locations.append([i,j])\n",
        "\n",
        "    pairs = [(locations[i], locations[j]) for i in range(len(locations)) for j in range(i + 1, len(locations))]\n",
        "\n",
        "    # Print the pairs\n",
        "    res = 0\n",
        "    for pair in pairs:\n",
        "        deltaX = abs(pair[0][0] - pair[1][0])\n",
        "        deltaY = abs(pair[0][1] - pair[1][1])\n",
        "        res += deltaX + deltaY\n",
        "        print(pair, deltaX + deltaY)\n",
        "    return(res)"
      ],
      "metadata": {
        "id": "e4fDrZkegIjs"
      },
      "execution_count": null,
      "outputs": []
    },
    {
      "cell_type": "code",
      "source": [
        "def spaceinator(array):\n",
        "    extendable_rows = []\n",
        "\n",
        "    for r in range(len(array)):\n",
        "        if all(char == '.' for char in array[r]):\n",
        "            extendable_rows.append(r)\n",
        "\n",
        "    extendable_cols = []\n",
        "    # Get the number of columns\n",
        "    for c in range(len(array[0])):\n",
        "        column = [row[c] for row in array]\n",
        "        # Check if all elements in the column are '.'\n",
        "        if all(char == '.' for char in column):\n",
        "            extendable_cols.append(c)\n",
        "    return extendable_rows, extendable_cols"
      ],
      "metadata": {
        "id": "fYS-iajc5HoN"
      },
      "execution_count": null,
      "outputs": []
    },
    {
      "cell_type": "code",
      "source": [
        "def aoc112(array, extension):\n",
        "    extendable_rows,extendable_cols = spaceinator(array)\n",
        "    print(extendable_rows,extendable_cols)\n",
        "    locations = []\n",
        "    for i in range(len(array)):\n",
        "        for j in range(len(array[0])):\n",
        "            if array[i][j] == '#':\n",
        "                locations.append([i,j])\n",
        "\n",
        "    pairs = [(locations[i], locations[j]) for i in range(len(locations)) for j in range(i + 1, len(locations))]\n",
        "    print(len(pairs))\n",
        "    # Print the pairs\n",
        "    res = 0\n",
        "    for pair in pairs:\n",
        "        min_x = min(pair[0][0], pair[1][0])\n",
        "        max_x = max(pair[0][0], pair[1][0])\n",
        "        min_y = min(pair[0][1], pair[1][1])\n",
        "        max_y = max(pair[0][1], pair[1][1])\n",
        "\n",
        "        extraDeltaX = 0\n",
        "        for x in extendable_rows:\n",
        "            if x in range(min_x + 1, max_x):\n",
        "                extraDeltaX += extension\n",
        "        extraDeltaY = 0\n",
        "        for y in extendable_cols:\n",
        "            if y in range(min_y + 1, max_y):\n",
        "                extraDeltaY += extension\n",
        "        deltaX = abs(pair[0][0] - pair[1][0]) + extraDeltaX\n",
        "        deltaY = abs(pair[0][1] - pair[1][1]) + extraDeltaY\n",
        "        res += deltaX + deltaY\n",
        "        #print(pair, deltaX + deltaY, extraDeltaX, extraDeltaY)\n",
        "    return(res)"
      ],
      "metadata": {
        "id": "DhH93Ar55wwV"
      },
      "execution_count": null,
      "outputs": []
    },
    {
      "cell_type": "code",
      "source": [
        "def possible_mappings(map, sequence):\n",
        "    i = 0\n",
        "    for char in map:\n",
        "        if char == '#':\n"
      ],
      "metadata": {
        "id": "W2W-4l_nu5Zc"
      },
      "execution_count": null,
      "outputs": []
    },
    {
      "cell_type": "code",
      "source": [
        "def aoc121(array):\n",
        "    res = 0\n",
        "    for line in array:\n",
        "        mappings = possible_mappings(line[0], line [1])\n",
        "        res += mappings\n",
        "    return mappings\n"
      ],
      "metadata": {
        "id": "Bc8FeIKtvAKe"
      },
      "execution_count": null,
      "outputs": []
    },
    {
      "cell_type": "code",
      "source": [
        "from functools import cache\n",
        "\n",
        "\n",
        "@cache\n",
        "def count(map, seq, dep=0):\n",
        "    # if p is empty, return 0 (. is added at the end of input string to make this work)\n",
        "    if not map:\n",
        "        return not seq and not dep\n",
        "    n = 0\n",
        "\n",
        "    # if spring is broken or unknown, recursively call the same function again on the substring starting from current character\n",
        "    if map[0] in (\"#\", \"?\"):\n",
        "        n += count(map[1:], seq, dep + 1)\n",
        "\n",
        "    # if spring is working or unknown, call same func with substring starting from current character and the sequence starting from next stretch of broken springs\n",
        "    if map[0] in (\".\", \"?\") and (seq and seq[0] == dep or not dep): # h nosaka dziļumu kurā ir vērts meklēt, t.i kad h sasniedz meklējamās sekvences pirmo vērtību viss bumbās\n",
        "        n += count(map[1:], seq[1:] if dep else seq)\n",
        "    return n\n",
        "\n",
        "\n",
        "with open(\"/content/aoc12input.txt\") as f:\n",
        "    ls = [l.split() for l in f.read().splitlines()]\n",
        "ls = [(p, tuple(int(n) for n in s.split(\",\"))) for p, s in ls]\n",
        "print(ls)\n",
        "for p, s in ls:\n",
        "    print(p,s)\n",
        "print(sum(count(p + \".\", s, 0) for p, s in ls))\n",
        "print(sum(count(\"?\".join([p] * 100) + \".\", s * 5) for p, s in ls))\n"
      ],
      "metadata": {
        "id": "JBjuiG9b4v8p"
      },
      "execution_count": null,
      "outputs": []
    },
    {
      "cell_type": "code",
      "source": [
        "def column(array, i):\n",
        "    column = [row[i] for row in array]\n",
        "    return column"
      ],
      "metadata": {
        "id": "Si6qz11kyYWU"
      },
      "execution_count": null,
      "outputs": []
    },
    {
      "cell_type": "code",
      "source": [
        "def aoc131(pattern, invalidHoriz, invalidLines):\n",
        "    extendable_rows = []\n",
        "\n",
        "    #for str in pattern:\n",
        "    #    print(str)\n",
        "\n",
        "    for r in range(1,len(pattern)):\n",
        "        if pattern[r] == pattern[r-1]:\n",
        "            #print(f'ding row match at {r-1,r}')\n",
        "            mirrorSize = min(r, len(pattern) - r)\n",
        "            validMirror = True\n",
        "            for reflection in range(1, mirrorSize):\n",
        "                if(pattern[r+reflection] != pattern[r-1-reflection]):\n",
        "                    validMirror = False\n",
        "            if validMirror:\n",
        "                countLines = r\n",
        "                horiz =  True\n",
        "                print(f'valid mirror foun d at {r-1, r}, horiz = {horiz}')\n",
        "                if (horiz != invalidHoriz or countLines !=invalidLines):\n",
        "                    #print(f'{horiz, lines} with smudge at {i,j}, changed line is {tempPattern[i]}')\n",
        "                    return horiz, countLines\n",
        "\n",
        "\n",
        "    for c in range(1,len(pattern[0])):\n",
        "        if column(pattern, c) == column(pattern, c-1):\n",
        "            mirrorSize = min(c, len(pattern[0]) - c)\n",
        "            validMirror = True\n",
        "            for reflection in range(1, mirrorSize):\n",
        "                if(column(pattern,c+reflection) != column(pattern,c-1-reflection)):\n",
        "                    validMirror = False\n",
        "            if validMirror:\n",
        "                countLines = c\n",
        "                horiz = False\n",
        "                print(f'valid mirror foun d at {c-1, c}, horiz = {horiz}')\n",
        "                if (horiz != invalidHoriz or countLines !=invalidLines):\n",
        "                    #print(f'{horiz, lines} with smudge at {i,j}, changed line is {tempPattern[i]}')\n",
        "                    return horiz, countLines\n",
        "    return invalidHoriz, invalidLines\n",
        "                #print(f'DING! horiz reflection found at{r-1,r} at size {mirrorSize}')\n",
        "    # Get the number of columns\n",
        "    #for c in range(len(array[0])):\n",
        "    #    column = [row[c] for row in array]\n",
        "    #    # Check if all elements in the column are '.'\n",
        "    #    if all(char == '.' for char in column):\n",
        "    #        extendable_cols.append(c)\n"
      ],
      "metadata": {
        "id": "M1Zi2m8nr-wk"
      },
      "execution_count": null,
      "outputs": []
    },
    {
      "cell_type": "code",
      "source": [
        "def replace_char_at_index(input_string, index, new_char):\n",
        "    # Convert the string to a list of characters\n",
        "    string_list = list(input_string)\n",
        "\n",
        "    # Check if the index is valid\n",
        "    if 0 <= index < len(string_list):\n",
        "        # Replace the character at the specified index\n",
        "        string_list[index] = new_char\n",
        "\n",
        "        # Join the list back into a string\n",
        "        result_string = ''.join(string_list)\n",
        "\n",
        "        return result_string\n",
        "    else:\n",
        "        print(f\"Index {index} is out of range for the given string.\")\n"
      ],
      "metadata": {
        "id": "DZP7b7Uapjbg"
      },
      "execution_count": null,
      "outputs": []
    },
    {
      "cell_type": "code",
      "source": [
        "def aoc132(pattern):\n",
        "    extendedGroups = []\n",
        "    tempPattern = []\n",
        "    tempPattern = pattern\n",
        "    invalidHoriz, invalidLines = aoc131(pattern, False, -1)\n",
        "    print(f'invalidHoriz, invalidLines are {invalidHoriz, invalidLines}')\n",
        "    for i in range(len(tempPattern)):\n",
        "        for j in range(len(tempPattern[0])):\n",
        "            if tempPattern[i][j] == '#':\n",
        "                tempPattern[i] = replace_char_at_index(tempPattern[i], j, '.')\n",
        "                horiz, lines = aoc131(tempPattern,invalidHoriz, invalidLines)\n",
        "                tempPattern[i] = replace_char_at_index(tempPattern[i], j, '#')\n",
        "            elif tempPattern[i][j] == '.':\n",
        "                tempPattern[i] = replace_char_at_index(tempPattern[i], j, '#')\n",
        "                horiz, lines = aoc131(tempPattern,invalidHoriz, invalidLines)\n",
        "                tempPattern[i] = replace_char_at_index(tempPattern[i], j, '.')\n",
        "\n",
        "            if lines:\n",
        "                #print(horiz, invalidHoriz, lines, invalidLines, i,j)\n",
        "                if (horiz != invalidHoriz or lines !=invalidLines):\n",
        "                    #print(f'{horiz, lines} with smudge at {i,j}, changed line is {tempPattern[i]}')\n",
        "                    return horiz, lines\n",
        "    print(f'cuh no match was found for {group}, p1 value was {invalidHoriz, invalidLines}')\n",
        "    return 0,0\n",
        "\n",
        "\n"
      ],
      "metadata": {
        "id": "kcoVboKBoElE"
      },
      "execution_count": null,
      "outputs": []
    },
    {
      "cell_type": "code",
      "source": [
        "def read_file_and_append(input_file):\n",
        "    # Initialize a list to store lines\n",
        "    lines = []\n",
        "    # Initialize a list to store lists of lines\n",
        "    all_lines = []\n",
        "\n",
        "    # Open the file for reading\n",
        "    with open(input_file, 'r') as file:\n",
        "        # Iterate through each line in the file\n",
        "        for line in file:\n",
        "            # Strip leading and trailing whitespaces from the line\n",
        "            line = line.strip()\n",
        "\n",
        "            # Check if the line is not empty\n",
        "            if line:\n",
        "                # Append the line to the current list\n",
        "                lines.append(line)\n",
        "            else:\n",
        "                # If an empty line is encountered, append the current list to the list of all lines\n",
        "                if lines:\n",
        "                    all_lines.append(lines)\n",
        "                    # Reset the lines list for the next group of non-empty lines\n",
        "                    lines = []\n",
        "\n",
        "    # Append the last set of lines if the file doesn't end with an empty line\n",
        "    if lines:\n",
        "        all_lines.append(lines)\n",
        "\n",
        "    return all_lines\n",
        "\n",
        "# Example usage\n",
        "file_path = '/content/aoc13input.txt'\n",
        "result = read_file_and_append(file_path)\n",
        "print(result)\n",
        "\n",
        "# Print the result\n",
        "res=0\n",
        "for group in result:\n",
        "    horiz, lines = aoc132(group)\n",
        "    if horiz:\n",
        "        res += lines*100\n",
        "    else:\n",
        "        res += lines\n",
        "print(res)"
      ],
      "metadata": {
        "id": "AbD7TVAaqX2u"
      },
      "execution_count": null,
      "outputs": []
    },
    {
      "cell_type": "code",
      "source": [
        "def aoc151(myString):\n",
        "    currentVal = 0\n",
        "    for char in myString:\n",
        "        ascii = ord(char)\n",
        "        currentVal += ascii\n",
        "        currentVal = currentVal*17\n",
        "        currentVal = currentVal % 256\n",
        "    return currentVal"
      ],
      "metadata": {
        "id": "2GKUMwGJlrfz"
      },
      "execution_count": null,
      "outputs": []
    },
    {
      "cell_type": "code",
      "source": [
        "def aoc152(array):\n",
        "    hashmap = []\n",
        "    for i in range(256):\n",
        "        hashmap.append([])\n",
        "    #print(hashmap)\n",
        "    for string in array:\n",
        "        if string[-1] == '-':\n",
        "            boxIndex = aoc151(string[:-1])\n",
        "            for tuple in hashmap[boxIndex]:\n",
        "                if tuple[0] == string[:-1]:\n",
        "                    lensIndex = hashmap[boxIndex].index(tuple)\n",
        "                    #print(lensIndex, hashmap[boxIndex])\n",
        "                    del hashmap[boxIndex][lensIndex]\n",
        "        else:\n",
        "            found = False\n",
        "            lens = [string[:-2], string[-1]]\n",
        "            boxIndex = aoc151(lens[0])\n",
        "            for tuple in hashmap[boxIndex]:\n",
        "                if tuple[0] == lens[0]:\n",
        "                    found = True\n",
        "                    tuple[1] = lens[1]\n",
        "            if not found:\n",
        "                hashmap[boxIndex].append(lens)\n",
        "\n",
        "    res = 0\n",
        "    for b in range(len(hashmap)):\n",
        "        #print(hashmap[b])\n",
        "        for l in range(len(hashmap[b])):\n",
        "            add = (b+1) * (l+1) * (int(hashmap[b][l][1]))\n",
        "            res += add\n",
        "            #print(add)\n",
        "    return res"
      ],
      "metadata": {
        "id": "-AHn8pfzkKps"
      },
      "execution_count": null,
      "outputs": []
    },
    {
      "cell_type": "code",
      "source": [
        "['O', 'O', '.', 'O', '.', 'O', '.', '.', '#', '#']\n",
        "['.', '.', '.', 'O', 'O', '.', '.', '.', '.', 'O']\n",
        "['.', 'O', '.', '.', '.', '#', 'O', '.', '.', 'O']\n",
        "['.', 'O', '.', '#', '.', '.', '.', '.', '.', '.']\n",
        "['.', '#', '.', 'O', '.', '.', '.', '.', '.', '.']\n",
        "['#', '.', '#', '.', '.', 'O', '#', '.', '#', '#']\n",
        "['.', '.', '#', '.', '.', '.', 'O', '.', '#', '.']\n",
        "['.', '.', '.', '.', 'O', '#', '.', 'O', '#', '.']\n",
        "['.', '.', '.', '.', '#', '.', '.', '.', '.', '.']\n",
        "['.', '#', '.', 'O', '.', '#', 'O', '.', '.', '.']\n"
      ],
      "metadata": {
        "id": "Tn0Mjp3OuNMe"
      },
      "execution_count": null,
      "outputs": []
    },
    {
      "cell_type": "code",
      "source": [
        "arr = ['.', 'O', '.', '.', '.', '#', 'O', '.', '.', 'O']\n",
        "print(arr)\n",
        "list = sort_row(arr)\n",
        "\n",
        "\n",
        "print(list)"
      ],
      "metadata": {
        "colab": {
          "base_uri": "https://localhost:8080/"
        },
        "id": "Q-ydOlsnJpeZ",
        "outputId": "b6a2f50e-1a68-4286-b61e-b3de1e38cbea"
      },
      "execution_count": null,
      "outputs": [
        {
          "output_type": "stream",
          "name": "stdout",
          "text": [
            "['.', 'O', '.', '.', '.', '#', 'O', '.', '.', 'O']\n",
            "['O', '.', '.', 'O']\n",
            "['O', 'O', '.', '.']\n",
            "['O', '.', '.', '.', '.', '#', 'O', 'O', '.', '.']\n"
          ]
        }
      ]
    },
    {
      "cell_type": "code",
      "source": [
        "def sort_row(list):\n",
        "    substringFrom = 0\n",
        "    for i in range(len(list)):\n",
        "        if list[i] == '#':\n",
        "            subList = list[substringFrom:i]\n",
        "            subList.sort(reverse = True)\n",
        "            list[substringFrom:i] = subList\n",
        "            substringFrom = i+1\n",
        "    subList = list[substringFrom:]\n",
        "    subList.sort(reverse = True)\n",
        "    list[substringFrom:] = subList\n",
        "    return list\n",
        "\n"
      ],
      "metadata": {
        "id": "S5vL0tJsGRab"
      },
      "execution_count": null,
      "outputs": []
    },
    {
      "cell_type": "code",
      "source": [
        "def score_row(list):\n",
        "    score = 0\n",
        "    for i in range(len(list)):\n",
        "        if list[i] == 'O':\n",
        "            score += len(list)-i\n",
        "    return score"
      ],
      "metadata": {
        "id": "RGKIm3PhT7RE"
      },
      "execution_count": null,
      "outputs": []
    },
    {
      "cell_type": "code",
      "source": [
        "def aoc141(array): # transpose\n",
        "    array = [[row[i] for row in array] for i in range(len(array[0]))]\n",
        "    res = 0\n",
        "    for i in range(len(array)):\n",
        "        row = sort_row(array[i])\n",
        "        rowScore = score_row(row)\n",
        "        array[i] = row\n",
        "        res += rowScore\n",
        "    return res\n",
        "\n",
        "\n",
        "\n"
      ],
      "metadata": {
        "id": "P9dtgoGSh7N1"
      },
      "execution_count": null,
      "outputs": []
    },
    {
      "cell_type": "code",
      "source": [
        "def shortestPath(array):\n",
        "    adj = {}\n",
        "    for i in range(len(array)):\n",
        "        for j in range(len(array[i])):\n",
        "            adj[i + j] = []\n",
        "\n",
        "    for i in range(len(array)):\n",
        "        for j in range(len(array[i])):\n",
        "            adj[i + j] = []\n"
      ],
      "metadata": {
        "id": "obnFQBaiaRQs"
      },
      "execution_count": null,
      "outputs": []
    },
    {
      "cell_type": "code",
      "source": [],
      "metadata": {
        "id": "3G57J_ZewLGM"
      },
      "execution_count": null,
      "outputs": []
    },
    {
      "cell_type": "code",
      "source": [
        "def next_positions(array, x, y, direction):\n",
        "    match direction:\n",
        "        case 0:\n",
        "            #up\n",
        "            dirX = -1\n",
        "            dirY = 0\n",
        "        case 1:\n",
        "            #right\n",
        "            dirX = 0\n",
        "            dirY = 1\n",
        "        case 2:\n",
        "            #down\n",
        "            dirX = 1\n",
        "            dirY = 0\n",
        "        case 3:\n",
        "            #left\n",
        "            dirX = 0\n",
        "            dirY = -1\n",
        "\n",
        "    newX = x + dirX\n",
        "    newY = y + dirY\n",
        "\n",
        "    return newX, newY"
      ],
      "metadata": {
        "id": "-5s3BQ-Be1tZ"
      },
      "execution_count": null,
      "outputs": []
    },
    {
      "cell_type": "code",
      "source": [
        "#calculating positions {(7, 1, 3), (7, 1, 1)}, have checked {(6, 1, 2), (0, 1, 2), (5, 1, 2), (1, 1, 2), (2, 1, 2), (3, 1, 2), (0, 0, -1), (0, 0, 1), (4, 1, 2)}\n",
        "#calculating positions {(7, 2, 3), (7, 0, 3), (7, 2, 1)}, have checked {(6, 1, 2), (0, 1, 2), (7, 1, 1), (5, 1, 2), (1, 1, 2), (2, 1, 2), (7, 1, 3), (3, 1, 2), (0, 0, -1), (0, 0, 1), (4, 1, 2)}\n"
      ],
      "metadata": {
        "id": "bEgHBxQlwTHb"
      },
      "execution_count": null,
      "outputs": []
    },
    {
      "cell_type": "code",
      "source": [
        "#see below code for aoc p1 and 2\n",
        "res1 = aoc161(all_lines_numbers, 0, -1, 1)\n",
        "res2 = 0\n",
        "for x in range(len(all_lines_numbers)):\n",
        "    tempRes1 = aoc161(all_lines_numbers, x, -1, 1)\n",
        "    tempRes2 = aoc161(all_lines_numbers, x, len(all_lines_numbers[x]), 3)\n",
        "    tempRes = max(tempRes1, tempRes2)\n",
        "    if res2<tempRes:\n",
        "        res2 = tempRes\n",
        "    #print(tempRes1,tempRes2)\n",
        "#print(\" \")\n",
        "for y in range(len(all_lines_numbers[0])):\n",
        "    tempRes1 = aoc161(all_lines_numbers, -1, y, 2)\n",
        "    tempRes2 = aoc161(all_lines_numbers, len(all_lines_numbers), y, 0)\n",
        "    tempRes = max(tempRes1, tempRes2)\n",
        "    if res2<tempRes:\n",
        "        res2 = tempRes\n",
        "    #print(tempRes1,tempRes2)\n",
        "\n",
        "print(f'part1: {res1}, part2: {res2}')"
      ],
      "metadata": {
        "colab": {
          "base_uri": "https://localhost:8080/"
        },
        "id": "D3w304pb9mVC",
        "outputId": "9bef41e7-1ef6-45a5-f535-7bf39e8a3a36"
      },
      "execution_count": null,
      "outputs": [
        {
          "output_type": "stream",
          "name": "stdout",
          "text": [
            "part1: 7060, part2: 7493\n"
          ]
        }
      ]
    },
    {
      "cell_type": "code",
      "source": [
        "def aoc161(array, x, y, direction):\n",
        "    Xmax = len(array)\n",
        "    Ymax = len(array[0])\n",
        "    checkedPositions = set()\n",
        "    currentPositions = {(x,y,direction)}\n",
        "    energizedPositions = {(x,y)}\n",
        "    while currentPositions:\n",
        "        #print(f'calculating positions {currentPositions}, have checked {checkedPositions}')\n",
        "        for pos in currentPositions.copy():\n",
        "            nextX, nextY = next_positions(array, pos[0], pos[1], pos[2])\n",
        "            energizedPositions.add((pos[0], pos[1]))\n",
        "            if nextX in range(Xmax) and nextY in range(Ymax):\n",
        "                nextChar = array[nextX][nextY]\n",
        "            else:\n",
        "                currentPositions.remove(pos)\n",
        "                continue\n",
        "            if pos in checkedPositions:\n",
        "                currentPositions.remove(pos)\n",
        "                continue\n",
        "            else:\n",
        "                checkedPositions.add(pos)\n",
        "            nextDir1 = -1\n",
        "            nextDir2 = -1\n",
        "            if nextChar == '.':\n",
        "                nextDir1 = pos[2]\n",
        "            elif nextChar == '/':\n",
        "                nextDir1 = pos[2] + 1 - 2*(pos[2]%2)\n",
        "            elif nextChar == '\\\\':\n",
        "                nextDir1 = 3-pos[2]\n",
        "            elif nextChar == '-':\n",
        "                if pos[2]%2 == 1:\n",
        "                    nextDir1 = pos[2]\n",
        "                else:\n",
        "                    nextDir1 = 1\n",
        "                    nextDir2 = 3\n",
        "            elif nextChar == '|':\n",
        "                if pos[2]%2 == 0:\n",
        "                    nextDir1 = pos[2]\n",
        "                else:\n",
        "                    nextDir1 = 0\n",
        "                    nextDir2 = 2\n",
        "            currentPositions.add((nextX, nextY, nextDir1))\n",
        "            if nextDir2 != -1:\n",
        "                currentPositions.add((nextX, nextY, nextDir2))\n",
        "\n",
        "            currentPositions.remove(pos)\n",
        "    #for el in energizedPositions:\n",
        "        #array[el[0]][el[1]] = '#'\n",
        "    #for row in array:\n",
        "        #print(row)\n",
        "    return len(energizedPositions)-1"
      ],
      "metadata": {
        "id": "qyxkXDJIe1gA"
      },
      "execution_count": null,
      "outputs": []
    },
    {
      "cell_type": "markdown",
      "source": [],
      "metadata": {
        "id": "moGn8JuWTtIt"
      }
    },
    {
      "cell_type": "code",
      "source": [
        "def possible_positions(validVert, validHoriz, i, j):\n",
        "    positions = [[i, j+1], [i+1, j], [i, j-1], [i-1, j]]\n",
        "    possiblePositions = []\n",
        "    for pos in positions:\n",
        "        if pos[0]<validVert and pos[1]< validHoriz:\n",
        "            possiblePositions.append(pos)\n",
        "    return possiblePositions"
      ],
      "metadata": {
        "id": "r9UxwoRcWyAI"
      },
      "execution_count": null,
      "outputs": []
    },
    {
      "cell_type": "code",
      "source": [
        "def aoc211(array):\n",
        "    nextStepArray = []\n",
        "    validVert = len(array)\n",
        "    validHoriz = len(array[0])\n",
        "    for i in range(validVert):\n",
        "        nextStepRow = []\n",
        "        for j in range(validHoriz):\n",
        "            char = array[i][j]\n",
        "            if char == '#':\n",
        "                nextStepRow.append(char)\n",
        "            else:\n",
        "                possiblePositions = possible_positions(validVert, validHoriz, i, j)\n",
        "                surroundingChars = set()\n",
        "                for pos in possiblePositions:\n",
        "                    surroundingChars.add(array[pos[0]][pos[1]])\n",
        "                if 'O' in surroundingChars:\n",
        "                    nextStepRow.append('O')\n",
        "                else:\n",
        "                    nextStepRow.append('.')\n",
        "        nextStepArray.append(nextStepRow)\n",
        "    return nextStepArray"
      ],
      "metadata": {
        "id": "Dpy4v8srUtCB"
      },
      "execution_count": null,
      "outputs": []
    },
    {
      "cell_type": "code",
      "source": [
        "\n",
        "def triangular_number(n):\n",
        "    res = n*(n + 1) / 2\n",
        "    return res"
      ],
      "metadata": {
        "id": "Xtp5T7mVZRH8"
      },
      "execution_count": null,
      "outputs": []
    },
    {
      "cell_type": "code",
      "source": [
        "print(triangular_number(65)+triangular_number(64))"
      ],
      "metadata": {
        "colab": {
          "base_uri": "https://localhost:8080/"
        },
        "id": "7pgzepf4dFSB",
        "outputId": "835b5c2f-66fa-49ce-b7b2-6fcae7166421"
      },
      "execution_count": null,
      "outputs": [
        {
          "output_type": "stream",
          "name": "stdout",
          "text": [
            "4225.0\n"
          ]
        }
      ]
    },
    {
      "cell_type": "code",
      "source": [
        "for i in range(131):\n",
        "    array = aoc211(array)\n",
        "\n",
        "res = 0\n",
        "maxRowRes = 0\n",
        "for row in array:\n",
        "    tempRes =  row.count('O')\n",
        "    if tempRes > maxRowRes:\n",
        "        maxRowRes = tempRes\n",
        "    res += tempRes\n",
        "    print(row)\n",
        "print(res, maxRowRes)\n",
        "validVert = len(array)\n",
        "validHoriz = len(array[0])\n",
        "print(validVert, validHoriz)"
      ],
      "metadata": {
        "id": "sVOLeNJBmAzS"
      },
      "execution_count": null,
      "outputs": []
    },
    {
      "cell_type": "code",
      "source": [
        "def count_trenches(list):\n",
        "    res = 0\n",
        "    realLines = 0\n",
        "    for i in range(len(list)):\n",
        "        if list[i] == '#':\n",
        "            res += 1\n",
        "            if i<len(list)-1:\n",
        "                if list[i+1] != '#':\n",
        "                    realLines +=1\n",
        "            if '#' not in list[i+1:]:\n",
        "                return res\n",
        "        else:\n",
        "            if realLines % 2 != 0:\n",
        "                res += 1\n",
        "    return 0"
      ],
      "metadata": {
        "id": "CAeGWnj3olEK"
      },
      "execution_count": 5,
      "outputs": []
    },
    {
      "cell_type": "code",
      "source": [
        "import math\n",
        "def polygon_perimeter(polygonBoundary):\n",
        "    nbCoordinates = len(polygonBoundary)\n",
        "    nbSegment = nbCoordinates - 1\n",
        "    l = [math.sqrt((polygonBoundary[i+1][0] - polygonBoundary[i][0])*(polygonBoundary[i+1][0] - polygonBoundary[i][0]) + (polygonBoundary[i+1][1] - polygonBoundary[i][1])*(polygonBoundary[i+1][1] - polygonBoundary[i][1])) for i in range(nbSegment)]\n",
        "    print(l)\n",
        "    res = sum(l)\n",
        "    return res"
      ],
      "metadata": {
        "id": "E8SgSJ5tmWDc"
      },
      "execution_count": 106,
      "outputs": []
    },
    {
      "cell_type": "code",
      "source": [
        "def shoelace_formula(polygonBoundary, absoluteValue = True):\n",
        "    nbCoordinates = len(polygonBoundary)\n",
        "    nbSegment = nbCoordinates - 1\n",
        "\n",
        "    l = [(polygonBoundary[i+1][0] - polygonBoundary[i][0]) - (polygonBoundary[i+1][1] + polygonBoundary[i][1]) for i in range(nbSegment)]\n",
        "\n",
        "    if absoluteValue:\n",
        "        return abs(sum(l) / 2.)\n",
        "    else:\n",
        "        return sum(l) / 2."
      ],
      "metadata": {
        "id": "mAetkzL8lcHs"
      },
      "execution_count": 116,
      "outputs": []
    },
    {
      "cell_type": "code",
      "source": [
        "from re import X\n",
        "def aoc181(array):\n",
        "    map = []\n",
        "    pos = [0,0]\n",
        "    map.append(pos)\n",
        "    for instruction in array:\n",
        "        dir = instruction [0]\n",
        "        amount = int(instruction[1])\n",
        "        x = pos[0]\n",
        "        y = pos[1]\n",
        "        match dir:\n",
        "            case 'L':\n",
        "                x += -amount\n",
        "            case 'R':\n",
        "                x += amount\n",
        "            case 'U':\n",
        "                y += amount\n",
        "            case 'D':\n",
        "                y += -amount\n",
        "        pos = [x, y]\n",
        "        map.append(pos)\n",
        "\n",
        "    minX = min([pos[0] for pos in map])\n",
        "    minY = min([pos[1] for pos in map])\n",
        "    maxX = max([pos[0] for pos in map])\n",
        "    maxY = max([pos[1] for pos in map])\n",
        "    #print(minX, maxX, minY, maxY)\n",
        "    area = shoelace_formula(map, True)\n",
        "    #print(map)\n",
        "    peri = polygon_perimeter(map)\n",
        "    #print(peri, area)\n",
        "    res = interior_points(area, peri) + int(peri)\n",
        "    return res"
      ],
      "metadata": {
        "id": "Hi4ngSKP-W9O"
      },
      "execution_count": 123,
      "outputs": []
    },
    {
      "cell_type": "code",
      "source": [
        "from re import X\n",
        "def aoc182(array):\n",
        "    map = []\n",
        "    pos = [0,0]\n",
        "    map.append(pos)\n",
        "    for instruction in array:\n",
        "        dir = instruction[2][-2]\n",
        "        amount = int(instruction[2][2:7], 16)\n",
        "        x = pos[0]\n",
        "        y = pos[1]\n",
        "        match dir:\n",
        "            case '2':\n",
        "                x += -amount\n",
        "            case '0':\n",
        "                x += amount\n",
        "            case '3':\n",
        "                y += amount\n",
        "            case '1':\n",
        "                y += -amount\n",
        "        pos = [x, y]\n",
        "        map.append(pos)\n",
        "\n",
        "    minX = min([pos[0] for pos in map])\n",
        "    minY = min([pos[1] for pos in map])\n",
        "    maxX = max([pos[0] for pos in map])\n",
        "    maxY = max([pos[1] for pos in map])\n",
        "    #print(minX, maxX, minY, maxY)\n",
        "    area = shoelace_formula(map, True)\n",
        "    #print(map)\n",
        "    peri = polygon_perimeter(map)\n",
        "    #print(peri, area)\n",
        "    res = interior_points(area, peri) + int(peri)\n",
        "    return res"
      ],
      "metadata": {
        "id": "juJGdL7L2w31"
      },
      "execution_count": 122,
      "outputs": []
    },
    {
      "cell_type": "code",
      "source": [
        "def interior_points(area: int, boundary_points: int):\n",
        "    return area - (boundary_points // 2) + 1"
      ],
      "metadata": {
        "id": "ozwGAeUa1JPc"
      },
      "execution_count": 117,
      "outputs": []
    },
    {
      "cell_type": "code",
      "source": [
        "dist = {}\n",
        "dist[0,1] = 0\n",
        "print(dist)"
      ],
      "metadata": {
        "id": "2pkU9V6-psN1",
        "outputId": "0c1f1d8e-42f1-4e2d-8eb0-4b226fb76153",
        "colab": {
          "base_uri": "https://localhost:8080/"
        }
      },
      "execution_count": 128,
      "outputs": [
        {
          "output_type": "stream",
          "name": "stdout",
          "text": [
            "{(0, 1): 0}\n"
          ]
        }
      ]
    },
    {
      "cell_type": "code",
      "source": [
        "import heapq\n",
        "\n",
        "def a_star_with_step_limit(grid, max_consecutive_steps):\n",
        "    # Define the start and goal positions\n",
        "    start = (0, 0, None, 0)  # (row, col, direction, step_count)\n",
        "    goal = (len(grid) - 1, len(grid[0]) - 1)\n",
        "\n",
        "    # Heuristic function - Manhattan distance\n",
        "    def heuristic(a, b):\n",
        "        return abs(a[0] - b[0]) + abs(a[1] - b[1])\n",
        "\n",
        "    # Direction vectors and names\n",
        "    directions = {'U': (-1, 0), 'D': (1, 0), 'L': (0, -1), 'R': (0, 1)}\n",
        "\n",
        "    # A* algorithm\n",
        "    open_set = []\n",
        "    heapq.heappush(open_set, (0, start))\n",
        "    came_from = {}\n",
        "    g_score = {start: 0}\n",
        "    f_score = {start: heuristic(start, goal)}\n",
        "\n",
        "    while open_set:\n",
        "        current = heapq.heappop(open_set)[1]\n",
        "\n",
        "        if (current[0], current[1]) == goal:\n",
        "            # Reconstruct path\n",
        "            path = []\n",
        "            while current in came_from:\n",
        "                path.append((current[0], current[1]))\n",
        "                current = came_from[current]\n",
        "            return path[::-1]  # Return reversed path\n",
        "\n",
        "        for direction, (dx, dy) in directions.items():\n",
        "            next_step_count = current[3] + 1 if current[2] == direction else 1\n",
        "            if next_step_count > max_consecutive_steps:\n",
        "                continue  # Skip this direction\n",
        "\n",
        "            neighbor = (current[0] + dx, current[1] + dy, direction, next_step_count)\n",
        "            if 0 <= neighbor[0] < len(grid) and 0 <= neighbor[1] < len(grid[0]):\n",
        "                tentative_g_score = g_score[current] + grid[neighbor[0]][neighbor[1]]\n",
        "\n",
        "                if neighbor not in g_score or tentative_g_score < g_score[neighbor]:\n",
        "                    came_from[neighbor] = current\n",
        "                    g_score[neighbor] = tentative_g_score\n",
        "                    f_score[neighbor] = tentative_g_score + heuristic((neighbor[0], neighbor[1]), goal)\n",
        "                    if neighbor not in [i[1] for i in open_set]:\n",
        "                        heapq.heappush(open_set, (f_score[neighbor], neighbor))\n",
        "\n",
        "    return None  # No path found"
      ],
      "metadata": {
        "id": "VIwWvT9O4Wqk"
      },
      "execution_count": 138,
      "outputs": []
    },
    {
      "cell_type": "code",
      "source": [
        "# Specify the file path\n",
        "file_path = '/content/aoc17test.txt'\n",
        "\n",
        "# Initialize an empty list to store lists of integers\n",
        "array = []\n",
        "\n",
        "# Open the file and read lines\n",
        "with open(file_path, 'r') as file:\n",
        "    for line in file:\n",
        "\n",
        "        line = line.strip()\n",
        "        # Create a list of integers for the current line\n",
        "        #line = line.strip().split()\n",
        "\n",
        "        # create next line as list of each char\n",
        "        row = [int(char) for char in line]\n",
        "\n",
        "        # Append the list of integers to the main list\n",
        "        array.append(row)\n",
        "\n",
        " #Display the result\n",
        "for line in array:\n",
        "    print(line)\n",
        "\n",
        "path = a_star_with_step_limit(array, 3)\n",
        "print()\n",
        "res = 0\n",
        "for coord in path:\n",
        "    #res += array[coord[0]][coord[1]]\n",
        "    array[coord[0]][coord[1]] = 0\n",
        "\n",
        "for line in array:\n",
        "    print(line)\n",
        "\n",
        "print(res)"
      ],
      "metadata": {
        "id": "-SCkEy-soELd",
        "outputId": "11997dd6-13d7-4a4b-b65f-d735120e033a",
        "colab": {
          "base_uri": "https://localhost:8080/"
        }
      },
      "execution_count": 148,
      "outputs": [
        {
          "output_type": "stream",
          "name": "stdout",
          "text": [
            "[2, 4, 1, 3, 4, 3, 2, 3, 1, 1, 3, 2, 3]\n",
            "[3, 2, 1, 5, 4, 5, 3, 5, 3, 5, 6, 2, 3]\n",
            "[3, 2, 5, 5, 2, 4, 5, 6, 5, 4, 2, 5, 4]\n",
            "[3, 4, 4, 6, 5, 8, 5, 8, 4, 5, 4, 5, 2]\n",
            "[4, 5, 4, 6, 6, 5, 7, 8, 6, 7, 5, 3, 6]\n",
            "[1, 4, 3, 8, 5, 9, 8, 7, 9, 8, 4, 5, 4]\n",
            "[4, 4, 5, 7, 8, 7, 6, 9, 8, 7, 7, 6, 6]\n",
            "[3, 6, 3, 7, 8, 7, 7, 9, 7, 9, 6, 5, 3]\n",
            "[4, 6, 5, 4, 9, 6, 7, 9, 8, 6, 8, 8, 7]\n",
            "[4, 5, 6, 4, 6, 7, 9, 9, 8, 6, 4, 5, 3]\n",
            "[1, 2, 2, 4, 6, 8, 6, 8, 6, 5, 5, 6, 3]\n",
            "[2, 5, 4, 6, 5, 4, 8, 8, 8, 7, 7, 3, 5]\n",
            "[4, 3, 2, 2, 6, 7, 4, 6, 5, 5, 5, 3, 3]\n",
            "\n",
            "[2, 0, 0, 3, 4, 0, 0, 0, 0, 1, 3, 2, 3]\n",
            "[3, 2, 0, 0, 0, 0, 3, 5, 0, 0, 6, 2, 3]\n",
            "[3, 2, 5, 5, 2, 4, 5, 6, 5, 0, 0, 5, 4]\n",
            "[3, 4, 4, 6, 5, 8, 5, 8, 4, 5, 0, 5, 2]\n",
            "[4, 5, 4, 6, 6, 5, 7, 8, 6, 7, 0, 0, 6]\n",
            "[1, 4, 3, 8, 5, 9, 8, 7, 9, 8, 4, 0, 4]\n",
            "[4, 4, 5, 7, 8, 7, 6, 9, 8, 7, 7, 0, 6]\n",
            "[3, 6, 3, 7, 8, 7, 7, 9, 7, 9, 6, 0, 0]\n",
            "[4, 6, 5, 4, 9, 6, 7, 9, 8, 6, 8, 8, 0]\n",
            "[4, 5, 6, 4, 6, 7, 9, 9, 8, 6, 4, 5, 0]\n",
            "[1, 2, 2, 4, 6, 8, 6, 8, 6, 5, 5, 6, 0]\n",
            "[2, 5, 4, 6, 5, 4, 8, 8, 8, 7, 7, 3, 0]\n",
            "[4, 3, 2, 2, 6, 7, 4, 6, 5, 5, 5, 3, 0]\n",
            "0\n"
          ]
        }
      ]
    },
    {
      "cell_type": "markdown",
      "source": [],
      "metadata": {
        "id": "sYY5f3CdYHAZ"
      }
    }
  ]
}