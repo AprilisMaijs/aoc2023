{
  "nbformat": 4,
  "nbformat_minor": 0,
  "metadata": {
    "colab": {
      "provenance": [],
      "authorship_tag": "ABX9TyMCGr6Us9Vdclu0WBG4+Jj5",
      "include_colab_link": true
    },
    "kernelspec": {
      "name": "python3",
      "display_name": "Python 3"
    },
    "language_info": {
      "name": "python"
    }
  },
  "cells": [
    {
      "cell_type": "markdown",
      "metadata": {
        "id": "view-in-github",
        "colab_type": "text"
      },
      "source": [
        "<a href=\"https://colab.research.google.com/github/AprilisMaijs/aoc2023/blob/main/adventOfCode2023.ipynb\" target=\"_parent\"><img src=\"https://colab.research.google.com/assets/colab-badge.svg\" alt=\"Open In Colab\"/></a>"
      ]
    },
    {
      "cell_type": "code",
      "source": [
        "def aoc11(my_string):\n",
        "    my_list = ['0', '1', '2', '3', '4', '5', '6', '7', '8', '9']\n",
        "    length = len(my_string)\n",
        "    rez=\"\"\n",
        "    firstDigit = False\n",
        "    secondDigit = False\n",
        "    for index, char in enumerate(my_string):\n",
        "        if char in my_list and not firstDigit:\n",
        "            rez = char + rez\n",
        "            #print(f'first char = {char}' )\n",
        "            firstDigit = True\n",
        "            if secondDigit:\n",
        "                break\n",
        "\n",
        "        rev_index = length - 1 - index\n",
        "        if my_string[rev_index] in my_list and not secondDigit:\n",
        "            rez = rez + my_string[rev_index]\n",
        "            #print('second char')\n",
        "            secondDigit = True\n",
        "            if firstDigit:\n",
        "                break\n",
        "\n",
        "    print(rez)\n",
        "    return(int(rez))\n",
        "\n"
      ],
      "metadata": {
        "id": "tCLnK-4gLreI"
      },
      "execution_count": null,
      "outputs": []
    },
    {
      "cell_type": "code",
      "source": [
        "def find_first_match(input_string, string_list):\n",
        "    first_match = None\n",
        "    index = 999\n",
        "    for pattern in string_list:\n",
        "        print(index, first_match)\n",
        "        if pattern in input_string:\n",
        "            if input_string.find(pattern)<index:\n",
        "                first_match = pattern\n",
        "                index = input_string.find(pattern)\n",
        "\n",
        "    return first_match"
      ],
      "metadata": {
        "id": "mYtg7SIITmSD"
      },
      "execution_count": null,
      "outputs": []
    },
    {
      "cell_type": "code",
      "source": [
        "def find_last_match(input_string, string_list):\n",
        "    last_match = None\n",
        "    index = 0\n",
        "    for pattern in string_list:\n",
        "        print(index, last_match)\n",
        "        if pattern in input_string:\n",
        "             if input_string.rfind(pattern)>index:\n",
        "                last_match = pattern\n",
        "                index = input_string.rfind(pattern)\n",
        "    return last_match"
      ],
      "metadata": {
        "id": "luBbGyULTsmr"
      },
      "execution_count": null,
      "outputs": []
    },
    {
      "cell_type": "code",
      "source": [
        "def aoc12(my_string):\n",
        "    digit_numbers = [\"0\", \"1\", \"2\", \"3\", \"4\", \"5\", \"6\", \"7\", \"8\", \"9\"]\n",
        "    digit_words = [\"one\", \"two\", \"three\", \"four\", \"five\", \"six\", \"seven\", \"eight\", \"nine\"]\n",
        "    combo = digit_numbers + digit_words\n",
        "    result=0\n",
        "    firstDigit = find_first_match(my_string, combo)\n",
        "    print(\"-----------\")\n",
        "    lastDigit = find_last_match(my_string, combo)\n",
        "    if (firstDigit == None):\n",
        "        firstDigit = lastDigit\n",
        "    if (lastDigit == None):\n",
        "        lastDigit = firstDigit\n",
        "    #print(firstDigit)\n",
        "    #print(lastDigit)\n",
        "    if firstDigit in digit_words:\n",
        "        firstDigit = digit_numbers[digit_words.index(firstDigit)+1]\n",
        "    if lastDigit in digit_words:\n",
        "        lastDigit = digit_numbers[digit_words.index(lastDigit)+1]\n",
        "    return firstDigit+lastDigit\n"
      ],
      "metadata": {
        "id": "b8CDbPITUK8l"
      },
      "execution_count": null,
      "outputs": []
    },
    {
      "cell_type": "code",
      "execution_count": null,
      "metadata": {
        "id": "sMM515voLBrX"
      },
      "outputs": [],
      "source": [
        "import csv\n",
        "\n",
        "with open('/content/aoc1.csv') as file_obj:\n",
        "\n",
        "    # Create reader object by passing the file object to reader method\n",
        "    reader_obj = csv.reader(file_obj)\n",
        "\n",
        "    # Iterate over each row in the csv file using reader object\n",
        "    result = 0\n",
        "    for row in reader_obj:\n",
        "        my_string = row[0]\n",
        "        number = int(aoc12(my_string))\n",
        "        result += number\n",
        "        print(number)\n",
        "    print(result)\n",
        "\n",
        "\n"
      ]
    }
  ]
}