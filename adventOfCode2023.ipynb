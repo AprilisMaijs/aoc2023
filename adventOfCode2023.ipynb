{
  "nbformat": 4,
  "nbformat_minor": 0,
  "metadata": {
    "colab": {
      "provenance": [],
      "authorship_tag": "ABX9TyMXXCDOxzRoiz8l2Piau+QH",
      "include_colab_link": true
    },
    "kernelspec": {
      "name": "python3",
      "display_name": "Python 3"
    },
    "language_info": {
      "name": "python"
    }
  },
  "cells": [
    {
      "cell_type": "markdown",
      "metadata": {
        "id": "view-in-github",
        "colab_type": "text"
      },
      "source": [
        "<a href=\"https://colab.research.google.com/github/AprilisMaijs/aoc2023/blob/main/adventOfCode2023.ipynb\" target=\"_parent\"><img src=\"https://colab.research.google.com/assets/colab-badge.svg\" alt=\"Open In Colab\"/></a>"
      ]
    },
    {
      "cell_type": "code",
      "source": [
        "import pandas as pd\n",
        "import numpy as np\n",
        "digit_numbers = {'0', '1', '2', '3', '4', '5', '6', '7', '8', '9'}"
      ],
      "metadata": {
        "id": "YJqrL_j3_ioF"
      },
      "execution_count": 1,
      "outputs": []
    },
    {
      "cell_type": "code",
      "source": [
        "#returns calculation for 1 line of input, these can then be summed for result\n",
        "def aoc11(my_string):\n",
        "    my_list = ['0', '1', '2', '3', '4', '5', '6', '7', '8', '9']\n",
        "    length = len(my_string)\n",
        "    rez=\"\"\n",
        "    firstDigit = False\n",
        "    secondDigit = False\n",
        "    for index, char in enumerate(my_string):\n",
        "        if char in my_list and not firstDigit:\n",
        "            rez = char + rez\n",
        "            firstDigit = True\n",
        "            if secondDigit:\n",
        "                break\n",
        "\n",
        "        rev_index = length - 1 - index\n",
        "        if my_string[rev_index] in my_list and not secondDigit:\n",
        "            rez = rez + my_string[rev_index]\n",
        "            secondDigit = True\n",
        "            if firstDigit:\n",
        "                break\n",
        "\n",
        "    return(int(rez))\n",
        "\n"
      ],
      "metadata": {
        "id": "tCLnK-4gLreI"
      },
      "execution_count": 2,
      "outputs": []
    },
    {
      "cell_type": "code",
      "source": [
        "# returns the pattern that has the FIRST match in a string\n",
        "def find_first_match(input_string, string_list):\n",
        "    first_match = None\n",
        "    index = 999\n",
        "    for pattern in string_list:\n",
        "        if pattern in input_string:\n",
        "            if input_string.find(pattern)<index:\n",
        "                first_match = pattern\n",
        "                index = input_string.find(pattern)\n",
        "\n",
        "    return first_match"
      ],
      "metadata": {
        "id": "mYtg7SIITmSD"
      },
      "execution_count": 3,
      "outputs": []
    },
    {
      "cell_type": "code",
      "source": [
        "# returns the pattern that has the LAST match in a string\n",
        "def find_last_match(input_string, string_list):\n",
        "    last_match = None\n",
        "    index = 0\n",
        "    for pattern in string_list:\n",
        "        if pattern in input_string:\n",
        "             if input_string.rfind(pattern)>index:\n",
        "                last_match = pattern\n",
        "                index = input_string.rfind(pattern)\n",
        "    return last_match"
      ],
      "metadata": {
        "id": "luBbGyULTsmr"
      },
      "execution_count": 4,
      "outputs": []
    },
    {
      "cell_type": "code",
      "source": [
        "#returns calculation for 1 line of input, these can then be summed for result\n",
        "def aoc12(my_string):\n",
        "    digit_numbers = [\"0\", \"1\", \"2\", \"3\", \"4\", \"5\", \"6\", \"7\", \"8\", \"9\"]\n",
        "    digit_words = [\"one\", \"two\", \"three\", \"four\", \"five\", \"six\", \"seven\", \"eight\", \"nine\"]\n",
        "    combo = digit_numbers + digit_words\n",
        "    result=0\n",
        "    firstDigit = find_first_match(my_string, combo)\n",
        "    lastDigit = find_last_match(my_string, combo)\n",
        "    if (firstDigit == None):\n",
        "        firstDigit = lastDigit\n",
        "    if (lastDigit == None):\n",
        "        lastDigit = firstDigit\n",
        "\n",
        "    if firstDigit in digit_words:\n",
        "        firstDigit = digit_numbers[digit_words.index(firstDigit)+1]\n",
        "    if lastDigit in digit_words:\n",
        "        lastDigit = digit_numbers[digit_words.index(lastDigit)+1]\n",
        "    return firstDigit+lastDigit\n"
      ],
      "metadata": {
        "id": "b8CDbPITUK8l"
      },
      "execution_count": 5,
      "outputs": []
    },
    {
      "cell_type": "code",
      "source": [
        "#returns calculation for 1 line of input, these can then be summed for result\n",
        "def aoc21 (gameList, constraints):\n",
        "    gameID = gameList[0]\n",
        "    for set in gameList[1:]:\n",
        "        colors = set.split(',')\n",
        "        for num_color in colors:\n",
        "            color = num_color[len(num_color)-1]\n",
        "            amount = int(num_color.replace(' ','').replace('r','').replace('g','').replace('b',''))\n",
        "            if (constraints[color]<amount):\n",
        "                return 0\n",
        "    return int(gameID)"
      ],
      "metadata": {
        "id": "qD_x4ZuV-vxk"
      },
      "execution_count": 6,
      "outputs": []
    },
    {
      "cell_type": "code",
      "source": [
        "#returns calculation for 1 line of input, these can then be summed for result\n",
        "def aoc22 (gameList):\n",
        "    gameID = gameList[0]\n",
        "    minAmounts = {'r': 0, 'g': 0, 'b': 0}\n",
        "    for set in gameList[1:]:\n",
        "        colors = set.split(',')\n",
        "        for num_color in colors:\n",
        "            color = num_color[len(num_color)-1]\n",
        "            amount = int(num_color.replace(' ','').replace('r','').replace('g','').replace('b',''))\n",
        "            if (amount > minAmounts[color]):\n",
        "                minAmounts[color] = amount\n",
        "    power = minAmounts['r']*minAmounts['g']*minAmounts['b']\n",
        "    return power"
      ],
      "metadata": {
        "id": "AcPzV9veGq52"
      },
      "execution_count": 7,
      "outputs": []
    },
    {
      "cell_type": "code",
      "source": [
        "def check_for_symbols(array, index, indexes):\n",
        "    valid_index_range = range(len(array))\n",
        "    valid_i_range = range(len(array[0][0]))\n",
        "    for i in indexes:\n",
        "        list_of_checks = [\n",
        "            [index, i-1],\n",
        "            [index-1, i-1],\n",
        "            [index-1, i],\n",
        "            [index-1, i+1],\n",
        "            [index, i+1],\n",
        "            [index+1, i-1],\n",
        "            [index+1, i],\n",
        "            [index+1, i+1]]\n",
        "        for pos in list_of_checks:\n",
        "            if(pos[0] in valid_index_range and pos[1] in valid_i_range):\n",
        "                symbol = array[pos[0]][0][pos[1]]\n",
        "                if(symbol != '.' and symbol not in digit_numbers):\n",
        "                    return True\n",
        "    return False"
      ],
      "metadata": {
        "id": "93pBWEuoO8J2"
      },
      "execution_count": 8,
      "outputs": []
    },
    {
      "cell_type": "code",
      "source": [
        "def aoc31(array):\n",
        "    result = 0\n",
        "    digit_numbers = {'0', '1', '2', '3', '4', '5', '6', '7', '8', '9'}  # Use a set for faster membership checks\n",
        "\n",
        "    for i in range(len(array)):  # Iterate over rows directly\n",
        "        my_string = array[i][0]\n",
        "        j = 0\n",
        "        while(j<len(my_string)):\n",
        "            if my_string[j] in digit_numbers:\n",
        "                part_number, indexes = find_full_number(my_string, j)\n",
        "                j = indexes[-1] + 1\n",
        "                isPart = check_for_symbols(array, i, indexes)\n",
        "                if isPart:\n",
        "                    result += part_number\n",
        "            j+=1\n",
        "    return result"
      ],
      "metadata": {
        "id": "qtwuuPGnLW4B"
      },
      "execution_count": 9,
      "outputs": []
    },
    {
      "cell_type": "code",
      "source": [
        "def check_for_numbers(array, row, column):\n",
        "    valid_row_range = range(len(array))\n",
        "    valid_column_range = range(len(array[0][0]))\n",
        "    found_numbers = []\n",
        "    do_not_check = {}\n",
        "    list_of_checks = [\n",
        "        [row, column-1],\n",
        "        [row-1, column-1],\n",
        "        [row-1, column],\n",
        "        [row-1, column+1],\n",
        "        [row, column+1],\n",
        "        [row+1, column-1],\n",
        "        [row+1, column],\n",
        "        [row+1, column+1]]\n",
        "    for pos in list_of_checks:\n",
        "        if(pos[0] in valid_row_range and pos[1] in valid_column_range):\n",
        "            if(pos[0] in do_not_check):\n",
        "                if(pos[1]  in do_not_check[pos[0]]):\n",
        "                    continue\n",
        "            symbol = array[pos[0]][0][pos[1]]\n",
        "            if(symbol in digit_numbers):\n",
        "                num, indexes = (find_full_number(array[pos[0]][0],pos[1]))\n",
        "                found_numbers.append(num)\n",
        "                do_not_check[pos[0]] = indexes\n",
        "    return found_numbers"
      ],
      "metadata": {
        "id": "4xt5uNKzgd8c"
      },
      "execution_count": 10,
      "outputs": []
    },
    {
      "cell_type": "code",
      "source": [
        "def find_full_number(my_string, index):\n",
        "    beginningFound = False\n",
        "    while(not beginningFound):\n",
        "        if(index - 1 >= 0):\n",
        "            if(my_string[index - 1] not in digit_numbers):\n",
        "                beginningFound = True\n",
        "                break\n",
        "        else:\n",
        "            beginningFound = True\n",
        "            break\n",
        "        index += -1\n",
        "    char = my_string[index]\n",
        "    indexes = []\n",
        "    number = \"\"\n",
        "    while(char in digit_numbers and index < len(my_string)):\n",
        "        indexes.append(index)\n",
        "        number += char\n",
        "        index += 1\n",
        "        if (index < len(my_string)):\n",
        "            char = my_string[index]\n",
        "    return int(number), indexes"
      ],
      "metadata": {
        "id": "Z_FKmionNAns"
      },
      "execution_count": 11,
      "outputs": []
    },
    {
      "cell_type": "code",
      "source": [
        "def aoc32(array):\n",
        "    result = 0\n",
        "    for i in range(len(array)):  # Iterate over rows directly\n",
        "        my_string = array[i][0]\n",
        "        j = 0\n",
        "        while(j<len(my_string)):\n",
        "            if my_string[j] == '*':\n",
        "                print('gear found...')\n",
        "                unique_values = check_for_numbers(array, i, j)\n",
        "                print('part numbers found ')\n",
        "                print(unique_values)\n",
        "                if(len(unique_values) == 2):\n",
        "                    result += unique_values[0]*unique_values[1]\n",
        "            j+=1\n",
        "    return result"
      ],
      "metadata": {
        "id": "N_RvSsrdeXLV"
      },
      "execution_count": 12,
      "outputs": []
    },
    {
      "cell_type": "code",
      "source": [
        "def aoc41(array):\n",
        "    result = 0\n",
        "\n",
        "    for row in array:\n",
        "        winningNumbers = []\n",
        "        yourNumbers = []\n",
        "        points = 0\n",
        "        matches = 0\n",
        "        delimiterReached = False\n",
        "        for i in range(1,len(row)):\n",
        "            if delimiterReached:\n",
        "                yourNumbers.append(row[i])\n",
        "            else:\n",
        "                if row[i] == '|':\n",
        "                    delimiterReached = True\n",
        "                else:\n",
        "                    winningNumbers.append(row[i])\n",
        "        for num in winningNumbers:\n",
        "            matches += yourNumbers.count(num)\n",
        "        if matches != 0:\n",
        "            points = 2**(matches-1)\n",
        "        result += points\n",
        "        #print(row,matches,2**(matches-1) ,points,result)\n",
        "    return result"
      ],
      "metadata": {
        "id": "R_li_LWwPLEP"
      },
      "execution_count": 13,
      "outputs": []
    },
    {
      "cell_type": "code",
      "source": [
        "def aoc42(array):\n",
        "    result = 0\n",
        "    matches = {}\n",
        "    cards = {}\n",
        "    for i in range(len(array)):\n",
        "        cards[array[i][0]]=1\n",
        "        winningNumbers = []\n",
        "        yourNumbers = []\n",
        "        points = 0\n",
        "        delimiterReached = False\n",
        "        for j in range(1,len(array[i])):\n",
        "            if delimiterReached:\n",
        "                yourNumbers.append(array[i][j])\n",
        "            else:\n",
        "                if array[i][j] == '|':\n",
        "                    delimiterReached = True\n",
        "                else:\n",
        "                    winningNumbers.append(array[i][j])\n",
        "        for num in winningNumbers:\n",
        "            if array[i][0] in matches:\n",
        "                matches[array[i][0]] += yourNumbers.count(num)\n",
        "            else:\n",
        "                matches[array[i][0]] = yourNumbers.count(num)\n",
        "    #iterate over cards AGAIN\n",
        "    for key in cards:\n",
        "        next_keys = list(cards.keys())[list(cards.keys()).index(key) + 1:list(cards.keys()).index(key) + matches[key] + 1]\n",
        "        for next_key in next_keys:\n",
        "            if next_key in cards:\n",
        "                cards[next_key] += 1*cards[key]  # Update the value to a new value\n",
        "\n",
        "\n",
        "    result = sum(cards.values())\n",
        "\n",
        "    return result"
      ],
      "metadata": {
        "id": "9U2ED0ePWzVW"
      },
      "execution_count": 14,
      "outputs": []
    },
    {
      "cell_type": "code",
      "source": [
        "def aoc51(array, seeds):\n",
        "    lowest_loc = 999999999999\n",
        "    for i in range(len(array)):\n",
        "        #print(seeds)\n",
        "        if (array[i][-1] == 'map:'):\n",
        "            mapped = {}\n",
        "            continue\n",
        "        else:\n",
        "            outputStart = int(array[i][0])\n",
        "            sourceStart = int(array[i][1])\n",
        "            rangeLength = int(array[i][2])\n",
        "            #print(outputStart,sourceStart,rangeLength)\n",
        "            for j in range(len(seeds)):\n",
        "                #print(range(sourceStart, sourceStart + rangeLength), seeds[j] in range(sourceStart, sourceStart + rangeLength), seeds[j] not in mapped)\n",
        "                if (seeds[j] in range(sourceStart, sourceStart + rangeLength) and seeds[j] not in mapped):\n",
        "                    seeds[j] = seeds[j] + (outputStart - sourceStart)\n",
        "                    mapped[seeds[j]] = 1\n",
        "        #print(dict)\n",
        "        #print(seeds)\n",
        "\n",
        "    for seed in seeds:\n",
        "        if int(seed) < lowest_loc:\n",
        "            lowest_loc = int(seed)\n",
        "    return lowest_loc"
      ],
      "metadata": {
        "id": "4m_ogV3rZ4Xt"
      },
      "execution_count": 15,
      "outputs": []
    },
    {
      "cell_type": "code",
      "source": [
        "def aoc52_old(array, seeds):\n",
        "    location = 0\n",
        "    mapped = False\n",
        "    while(True):\n",
        "        startingLoc = location\n",
        "        if(location%1000==0):\n",
        "            print(f'checking location {startingLoc}')\n",
        "        for i in range(len(array)):\n",
        "            if (array[i][-1] == 'map:'):\n",
        "                mapped = False\n",
        "                continue\n",
        "            else:\n",
        "                outputStart = int(array[i][0])\n",
        "                sourceStart = int(array[i][1])\n",
        "                rangeLength = int(array[i][2])\n",
        "                #print(outputStart,sourceStart,rangeLength)\n",
        "                if (location in range(outputStart, outputStart + rangeLength) and not mapped):\n",
        "                    location = location - (outputStart - sourceStart)\n",
        "                    mapped = True\n",
        "        for seed in seeds:\n",
        "            #print(f'starting location {startingLoc} yielded seed {location}, checking range {seed, seeds[seed]}, which yields {location in range(seed, seeds[seed])}')\n",
        "            if location in range(seed, seed + seeds[seed]):\n",
        "                return startingLoc\n",
        "        location = startingLoc + 1\n",
        "    return -1"
      ],
      "metadata": {
        "id": "3qg1KRUG9zS5"
      },
      "execution_count": 16,
      "outputs": []
    },
    {
      "cell_type": "code",
      "source": [
        "def single_range_mapper(seedRange, mapRange, delta): #maps the seedRange according to one line of the map.\n",
        "    #print(f'mapping {seedRange} using {mapRange, delta}')\n",
        "    if seedRange[0] in range(mapRange[0],mapRange[1]):\n",
        "\n",
        "        if seedRange[1] in range(mapRange[0],mapRange[1]):\n",
        "            #print(1)\n",
        "            mappedRanges = [[seedRange[0]+delta, seedRange[1]+delta]]\n",
        "            unmappedRanges = []\n",
        "\n",
        "        else:\n",
        "            #print(2)\n",
        "            mappedRanges = [[seedRange[0] + delta, mapRange[1] + delta]]\n",
        "            unmappedRanges = [[mapRange[1], seedRange[1]]]\n",
        "\n",
        "    elif seedRange[1] in range(mapRange[0],mapRange[1]):\n",
        "        #print(3)\n",
        "        mappedRanges = [[mapRange[0] + delta, seedRange[1] + delta]]\n",
        "        unmappedRanges = [[seedRange[0], mapRange[0]]]\n",
        "\n",
        "    elif mapRange[0] in range(seedRange[0],seedRange[1]) and mapRange[1] in range(seedRange[0],seedRange[1]):\n",
        "        #print(4)\n",
        "        unmappedRanges = [[seedRange[0], mapRange[0]], [mapRange[1], seedRange[1]]]\n",
        "        mappedRanges = [[mapRange[0] + delta, mapRange[1] + delta]]\n",
        "\n",
        "    else:\n",
        "        #print(5)\n",
        "        unmappedRanges = [seedRange]\n",
        "        mappedRanges = []\n",
        "    #print(f'mapped, unmapped = {mappedRanges, unmappedRanges}')\n",
        "    return mappedRanges, unmappedRanges"
      ],
      "metadata": {
        "id": "SODaJjVIlxU8"
      },
      "execution_count": 17,
      "outputs": []
    },
    {
      "cell_type": "code",
      "source": [
        "########   evil preprocessing #########\n",
        "#seeds = array[0][1:]\n",
        "    #ranges = []\n",
        "\n",
        "#for i in range(len(seeds)):\n",
        " #       if i % 2 == 0:\n",
        "  #          seedRange = [int(seeds[i]), int(seeds[i]) + int(seeds[i + 1])]\n",
        "   #array.append(array[1])\n",
        "    #array = array[2:]\n",
        "#    print(ranges,array)\n",
        " #   min = 999999999999999\n",
        "  #  for r in ranges:\n",
        "   #     print(f'range {r}')\n",
        "    #    lowest_loc = aoc52(array, r)\n",
        "     #   if lowest_loc<min:\n",
        "      #      min = lowest_loc\n",
        "    #print(min)\n",
        "\n",
        "\n",
        "def aoc52(array, seedRange): # finds the lowest possible conclusion of the mapping algorithm for one seed range\n",
        "    #for i in range(rangeCount):\n",
        "    unmappedRanges = [seedRange]\n",
        "    metaTEMP = []\n",
        "    mappedRanges = []\n",
        "    currentMap = []\n",
        "    for i in range(len(array)):\n",
        "        if (array[i][-1] == 'map:'):\n",
        "            #print(' ')\n",
        "            #print(f'one before {array[i][0]} map' )\n",
        "            for map in currentMap:\n",
        "                #print(f'map is {map}')\n",
        "                for rng in unmappedRanges:\n",
        "                    #print(rng)\n",
        "                    tempMappedRange, tempUnmappedRanges = single_range_mapper(rng, map[0], map[1])\n",
        "                    if tempMappedRange:\n",
        "                        mappedRanges.append(tempMappedRange[0])\n",
        "                    for temp in  tempUnmappedRanges:\n",
        "                        metaTEMP.append(temp)\n",
        "                unmappedRanges = metaTEMP\n",
        "                metaTEMP = []\n",
        "            unmappedRanges = mappedRanges + unmappedRanges\n",
        "            mappedRanges = []\n",
        "            currentMap = []\n",
        "        else:\n",
        "            outputStart = int(array[i][0])\n",
        "            sourceStart = int(array[i][1])\n",
        "            rangeLength = int(array[i][2])\n",
        "            mapRange = [sourceStart, sourceStart + rangeLength]\n",
        "            delta = outputStart - sourceStart\n",
        "            currentMap.append([mapRange, delta])\n",
        "    #print(f'the final ranges are {unmappedRanges}')\n",
        "\n",
        "    min = 999999999999999\n",
        "    for final in unmappedRanges:\n",
        "        if final[0] < min:\n",
        "            #print(f'{final[0]} < {min} at {final}')\n",
        "            min = final[0]\n",
        "    return min\n",
        "\n",
        "        #print(seeds)"
      ],
      "metadata": {
        "id": "XnrVYTHPi_MI"
      },
      "execution_count": 18,
      "outputs": []
    },
    {
      "cell_type": "code",
      "source": [
        "from collections import Counter\n",
        "\n",
        "def aoc71(array):\n",
        "    card_values = {'A': 14, 'K': 13, 'Q': 12, 'J': 11, 'T': 10, '9': 9, '8': 8,'7': 7, '6': 6,'5': 5, '4': 4, '3': 3, '2': 2}\n",
        "    sorted_by_rank = []\n",
        "    for i in range(len(array)):\n",
        "        cards = array[i][0]\n",
        "        numeric_array = [int(card_values.get(char)) for char in cards]\n",
        "        rez = hand_strength(cards)\n",
        "        array[i].append(rez)\n",
        "        array[i][0] = numeric_array\n",
        "    print(array)\n",
        "    totally_sorted_array = sorted(array, key=lambda x: (x[-1], x[0][0], x[0][1], x[0][2], x[0][3], x[0][4]), reverse = True)\n",
        "    print(totally_sorted_array)\n",
        "    result = 0\n",
        "    for k in range(len(totally_sorted_array)):\n",
        "        result = result + int(totally_sorted_array[k][1])*(len(totally_sorted_array)-k)\n",
        "    #for j in range(len(sorted_array)):\n",
        "    return result\n"
      ],
      "metadata": {
        "id": "XBLgOQ-Pw3Vt"
      },
      "execution_count": 19,
      "outputs": []
    },
    {
      "cell_type": "code",
      "source": [
        "def hand_strength(cardString):\n",
        "    WC = Counter(cardString)\n",
        "    nums = []\n",
        "    for letter, count in WC.items():\n",
        "        if count>1:\n",
        "            nums.append(count)\n",
        "    if nums:\n",
        "        if len(nums) == 1:\n",
        "            rez = nums[0]\n",
        "            if rez == 3:\n",
        "                rez=rez+1\n",
        "            elif rez ==4 or rez ==5:\n",
        "                rez = rez+2\n",
        "                #covers 5,4,3 of a kind and one pair\n",
        "        else:\n",
        "            rez = max(nums)\n",
        "            if rez == 3: # full house\n",
        "                rez = rez + 2\n",
        "            else:\n",
        "                rez = rez + 1\n",
        "    else:\n",
        "        rez = 1\n",
        "    #print(cardString, nums, rez)\n",
        "    return rez"
      ],
      "metadata": {
        "id": "wjDvU6DZ_nsi"
      },
      "execution_count": 20,
      "outputs": []
    },
    {
      "cell_type": "code",
      "source": [
        "from collections import Counter\n",
        "\n",
        "def aoc72(array):\n",
        "    card_values = {'A': 14, 'K': 13, 'Q': 12, 'T': 10, '9': 9, '8': 8,'7': 7, '6': 6,'5': 5, '4': 4, '3': 3, '2': 2, 'J': 1}\n",
        "    card_faces = ['A', 'K', 'Q', 'J', 'T', '9', '8', '7', '6', '5', '4', '3', '2']\n",
        "    sorted_by_rank = []\n",
        "    for i in range(len(array)):\n",
        "        cards = array[i][0]\n",
        "        numeric_array = [int(card_values.get(char)) for char in cards]\n",
        "        maxStrength = 0\n",
        "        if 'J' in cards:\n",
        "            for card in card_faces:\n",
        "                tempCards = cards.replace('J', card)\n",
        "                strength = hand_strength(tempCards)\n",
        "                if strength > maxStrength:\n",
        "                    maxStrength = strength\n",
        "        else:\n",
        "            maxStrength = hand_strength(cards)\n",
        "        array[i].append(maxStrength)\n",
        "        array[i][0] = numeric_array\n",
        "    #print(array)\n",
        "    totally_sorted_array = sorted(array, key=lambda x: (x[-1], x[0][0], x[0][1], x[0][2], x[0][3], x[0][4]), reverse = True)\n",
        "    print(totally_sorted_array)\n",
        "    result = 0\n",
        "    for k in range(len(totally_sorted_array)):\n",
        "        result = result + int(totally_sorted_array[k][1])*(len(totally_sorted_array)-k)\n",
        "    #for j in range(len(sorted_array)):\n",
        "    return result"
      ],
      "metadata": {
        "id": "l86g5KmQ_beB"
      },
      "execution_count": 22,
      "outputs": []
    },
    {
      "cell_type": "code",
      "source": [
        "class Tree:\n",
        "    def __init__(self):\n",
        "        self.left = None\n",
        "        self.right = None\n",
        "        self.data = None"
      ],
      "metadata": {
        "id": "MD9GKJfi3F3S"
      },
      "execution_count": 29,
      "outputs": []
    },
    {
      "cell_type": "code",
      "source": [
        "!pip install anytree\n",
        "from anytree import Node, RenderTree\n",
        "\n",
        "udo = Node(\"Udo\")\n",
        "marc = Node(\"Marc\", parent=udo)\n",
        "lian = Node(\"Lian\", parent=marc)\n",
        "dan = Node(\"Dan\", parent=udo)\n",
        "jet = Node(\"Jet\", parent=dan)\n",
        "jan = Node(\"Jan\", parent=dan)\n",
        "joe = Node(\"Joe\", parent=dan)\n",
        "\n",
        "print(udo)\n",
        "Node('/Udo')\n",
        "print(joe)\n",
        "Node('/Udo/Dan/Joe')\n",
        "\n",
        "for pre, fill, node in RenderTree(udo):\n",
        "    print(\"%s%s\" % (pre, node.name))"
      ],
      "metadata": {
        "colab": {
          "base_uri": "https://localhost:8080/"
        },
        "id": "Iq7wwP4n27VV",
        "outputId": "5762f7f8-97c7-4ca9-f18b-6db82cc98735"
      },
      "execution_count": 31,
      "outputs": [
        {
          "output_type": "stream",
          "name": "stdout",
          "text": [
            "Collecting anytree\n",
            "  Downloading anytree-2.12.1-py3-none-any.whl (44 kB)\n",
            "\u001b[?25l     \u001b[90m━━━━━━━━━━━━━━━━━━━━━━━━━━━━━━━━━━━━━━━━\u001b[0m \u001b[32m0.0/44.9 kB\u001b[0m \u001b[31m?\u001b[0m eta \u001b[36m-:--:--\u001b[0m\r\u001b[2K     \u001b[90m━━━━━━━━━━━━━━━━━━━━━━━━━━━━━━━━━━━━━━━━\u001b[0m \u001b[32m44.9/44.9 kB\u001b[0m \u001b[31m1.1 MB/s\u001b[0m eta \u001b[36m0:00:00\u001b[0m\n",
            "\u001b[?25hRequirement already satisfied: six in /usr/local/lib/python3.10/dist-packages (from anytree) (1.16.0)\n",
            "Installing collected packages: anytree\n",
            "Successfully installed anytree-2.12.1\n",
            "Node('/Udo')\n",
            "Node('/Udo/Dan/Joe')\n",
            "Udo\n",
            "├── Marc\n",
            "│   └── Lian\n",
            "└── Dan\n",
            "    ├── Jet\n",
            "    ├── Jan\n",
            "    └── Joe\n"
          ]
        }
      ]
    },
    {
      "cell_type": "code",
      "source": [
        "from anytree import Node, RenderTree\n",
        "\n",
        "def aoc81(array, currentNode):\n",
        "    steps = array[0][0]\n",
        "    found = False\n",
        "    nodes = {}\n",
        "    for line in array[1:]:\n",
        "        nodename = line[0]\n",
        "        nodeChildren = [line[-2], line[-1]]\n",
        "        nodes[nodename] = nodeChildren\n",
        "    result = 0\n",
        "    while not found:\n",
        "        for step in steps:\n",
        "            #print(step)\n",
        "            result += 1\n",
        "            for node in nodes:\n",
        "                if node == currentNode:\n",
        "                    if step == 'L':\n",
        "                        currentNode = nodes[node][0]\n",
        "                    elif step == 'R':\n",
        "                        currentNode = nodes[node][1]\n",
        "                    #print(currentNode)\n",
        "                    if currentNode[-1] == 'Z':\n",
        "                        found = True\n",
        "                    break\n",
        "        if found:\n",
        "                break\n",
        "    return result\n",
        "\n"
      ],
      "metadata": {
        "id": "uRTx3OeW1cfF"
      },
      "execution_count": 85,
      "outputs": []
    },
    {
      "cell_type": "code",
      "source": [
        "import math\n",
        "\n",
        "def aoc82(array):\n",
        "    steps = array[0][0]\n",
        "    found = False\n",
        "    currentNodes = []\n",
        "    nodes = {}\n",
        "    for line in array[1:]:\n",
        "        nodeName = line[0]\n",
        "        nodeChildren = [line[-2], line[-1]]\n",
        "        nodes[nodeName] = nodeChildren\n",
        "        if nodeName[-1] == 'A':\n",
        "            currentNodes.append(nodeName)\n",
        "    result = []\n",
        "    for i in range(len(currentNodes)):\n",
        "        stepsToZ = aoc81(array, currentNodes[i])\n",
        "        print(stepsToZ)\n",
        "        result.append(stepsToZ)\n",
        "\n",
        "    lcm_result = math.lcm(*result)\n",
        "    return lcm_result"
      ],
      "metadata": {
        "id": "Dw490fOLZIHF"
      },
      "execution_count": 89,
      "outputs": []
    },
    {
      "cell_type": "code",
      "source": [
        "def extrapolate(list):\n",
        ""
      ],
      "metadata": {
        "colab": {
          "base_uri": "https://localhost:8080/",
          "height": 145
        },
        "id": "dxKAPqUEkGld",
        "outputId": "f5201209-179c-42bb-d972-746da82de591"
      },
      "execution_count": 1,
      "outputs": [
        {
          "output_type": "error",
          "ename": "SyntaxError",
          "evalue": "ignored",
          "traceback": [
            "\u001b[0;36m  File \u001b[0;32m\"<ipython-input-1-0dcd3de8bb38>\"\u001b[0;36m, line \u001b[0;32m2\u001b[0m\n\u001b[0;31m    \u001b[0m\n\u001b[0m    ^\u001b[0m\n\u001b[0;31mSyntaxError\u001b[0m\u001b[0;31m:\u001b[0m incomplete input\n"
          ]
        }
      ]
    },
    {
      "cell_type": "code",
      "source": [
        "def aoc91(array):\n",
        "    for line in array:\n",
        "        extrapolated = extrapolate(line)"
      ],
      "metadata": {
        "id": "36vmq5KakCEV"
      },
      "execution_count": null,
      "outputs": []
    },
    {
      "cell_type": "code",
      "execution_count": 90,
      "metadata": {
        "colab": {
          "base_uri": "https://localhost:8080/"
        },
        "id": "sMM515voLBrX",
        "outputId": "14732885-e66d-447e-bad8-d70e9b915513"
      },
      "outputs": [
        {
          "output_type": "stream",
          "name": "stdout",
          "text": [
            "[['LRRLRRLRRLRRRLRRLRRRLRRLRRRLRLRLLRLRLRRLLLRLRLRRRLRRLRLRRRLRRLRRLRRLLLRRLRRRLRRRLRLLRRLRLLRRLRRRLRRLRLRRRLRLRLRRLRLRRRLLRRRLLRRRLRLRRRLRRLLRRLRRRLRRLRRLLRRLRRLRRRLLLRRRLRRLRRLRRLRLRRRLRRLLLLRLRRLRRRLRLLRRLRLLRRLRRRLRRRLRRRLLRRLRRLRRLRRRLRRLRRRLLRLRRRLRRRLRRRLLRRRLRRLRRRR'], ['LRL', '=', 'MCG', 'TRC'], ['TNJ', '=', 'LMV', 'PMP'], ['GQK', '=', 'MGD', 'DBP'], ['KVK', '=', 'LHC', 'NMM'], ['PQX', '=', 'SLC', 'LSD'], ['GRR', '=', 'XCR', 'BJT'], ['RBF', '=', 'VDM', 'BFG'], ['TKN', '=', 'VDH', 'HGQ'], ['MMJ', '=', 'LTR', 'CNQ'], ['CCX', '=', 'FJJ', 'FKD'], ['VHD', '=', 'JFQ', 'DDH'], ['NRL', '=', 'CTM', 'XTJ'], ['SNH', '=', 'QDH', 'PSQ'], ['JTM', '=', 'VFH', 'QBR'], ['BJT', '=', 'GJL', 'JXD'], ['LBJ', '=', 'JFQ', 'DDH'], ['FPN', '=', 'PBT', 'SJR'], ['CGR', '=', 'NJC', 'CNF'], ['RCM', '=', 'GTQ', 'BBT'], ['BQQ', '=', 'FNS', 'KPL'], ['NSF', '=', 'SLD', 'SJV'], ['QFQ', '=', 'XNX', 'GHT'], ['QCZ', '=', 'JPG', 'NLJ'], ['RJD', '=', 'QDT', 'NSG'], ['CNK', '=', 'SKK', 'NFL'], ['CBR', '=', 'QDT', 'NSG'], ['QMV', '=', 'HXG', 'FHS'], ['DNL', '=', 'XLX', 'RDT'], ['XRS', '=', 'DHT', 'RDP'], ['GHV', '=', 'FHS', 'HXG'], ['MJM', '=', 'GQB', 'XCC'], ['GQC', '=', 'NKG', 'NSF'], ['RKH', '=', 'KVG', 'JCQ'], ['DKT', '=', 'LTN', 'LTN'], ['THR', '=', 'PHF', 'VKN'], ['BQV', '=', 'BTS', 'SCG'], ['BJJ', '=', 'GQC', 'QRR'], ['CQL', '=', 'LHK', 'BCD'], ['LXX', '=', 'LCX', 'FJV'], ['NSG', '=', 'VSX', 'DFN'], ['LSD', '=', 'JRL', 'KXC'], ['QKB', '=', 'NLJ', 'JPG'], ['HSK', '=', 'CFN', 'NTM'], ['BLL', '=', 'JJQ', 'MSN'], ['SQD', '=', 'BLK', 'LBK'], ['KVP', '=', 'DBB', 'RHN'], ['MLJ', '=', 'QQR', 'HDH'], ['QVB', '=', 'GMN', 'TDP'], ['HJB', '=', 'GPG', 'XDT'], ['NBX', '=', 'NVT', 'SNB'], ['CLL', '=', 'PLG', 'LHS'], ['AAA', '=', 'JXS', 'MFQ'], ['CHN', '=', 'RNL', 'FHV'], ['JHT', '=', 'JQF', 'JQX'], ['KSB', '=', 'VDL', 'VBD'], ['HBT', '=', 'CKB', 'CCX'], ['JXH', '=', 'MQH', 'PRD'], ['DBB', '=', 'XHL', 'CHN'], ['PBD', '=', 'RDB', 'VHH'], ['SDV', '=', 'VMG', 'NTV'], ['BJS', '=', 'NNG', 'RQH'], ['SLM', '=', 'BRB', 'FLG'], ['VDH', '=', 'QPG', 'GKG'], ['KNS', '=', 'VQX', 'HFR'], ['HBF', '=', 'RQC', 'MXC'], ['JSF', '=', 'KPL', 'FNS'], ['HLS', '=', 'TJQ', 'TKM'], ['TRV', '=', 'BVN', 'GKF'], ['NLJ', '=', 'GBH', 'JCT'], ['SVM', '=', 'DKT', 'XLG'], ['THK', '=', 'NTM', 'CFN'], ['MDK', '=', 'DNL', 'VXV'], ['MHV', '=', 'DQQ', 'MQX'], ['CNF', '=', 'QQH', 'SLN'], ['XJK', '=', 'VFH', 'QBR'], ['FNT', '=', 'HXR', 'HXR'], ['KCT', '=', 'CPX', 'FXC'], ['BDB', '=', 'NMP', 'JGG'], ['LRZ', '=', 'JXC', 'TNJ'], ['JBQ', '=', 'NDL', 'KSJ'], ['LJQ', '=', 'GHT', 'XNX'], ['HKD', '=', 'HFH', 'VHJ'], ['VDM', '=', 'GTD', 'HRP'], ['QQH', '=', 'THC', 'THR'], ['PRD', '=', 'KFR', 'TJK'], ['KKH', '=', 'VTJ', 'LSR'], ['LQS', '=', 'SJQ', 'RHD'], ['RLF', '=', 'LCR', 'SGG'], ['JHK', '=', 'PDJ', 'TRV'], ['QHG', '=', 'VMS', 'PKS'], ['JRL', '=', 'GVJ', 'SKL'], ['XDV', '=', 'PJL', 'JRN'], ['TSV', '=', 'KCR', 'QJP'], ['JSN', '=', 'QFQ', 'LJQ'], ['RLA', '=', 'JSN', 'JVD'], ['KPD', '=', 'RDK', 'NSS'], ['HXP', '=', 'RQT', 'QTS'], ['DDB', '=', 'SFH', 'RHV'], ['JGG', '=', 'BJG', 'JTS'], ['VBD', '=', 'SGD', 'FRJ'], ['HRP', '=', 'RJD', 'CBR'], ['RRT', '=', 'MLJ', 'MLJ'], ['NVD', '=', 'KHM', 'RBF'], ['TNK', '=', 'QSX', 'KVD'], ['NST', '=', 'CDL', 'VGL'], ['FLF', '=', 'SNF', 'KRN'], ['LHS', '=', 'BSD', 'DTD'], ['NCV', '=', 'KSB', 'PTG'], ['FMX', '=', 'QKX', 'XFP'], ['KMB', '=', 'FDM', 'BSX'], ['CRH', '=', 'CVV', 'DDS'], ['VGL', '=', 'JLS', 'CPK'], ['DBF', '=', 'KGB', 'PXQ'], ['RNM', '=', 'HTP', 'LVL'], ['HKC', '=', 'XML', 'RTK'], ['JLC', '=', 'TKN', 'VSV'], ['FLB', '=', 'NNG', 'RQH'], ['QKH', '=', 'GQM', 'LSB'], ['DTD', '=', 'FTJ', 'HCK'], ['BXS', '=', 'HKD', 'FDK'], ['TKV', '=', 'RHN', 'DBB'], ['QBJ', '=', 'KNS', 'DXQ'], ['LBS', '=', 'BHT', 'SFM'], ['VMS', '=', 'CTJ', 'DDC'], ['FQJ', '=', 'FVQ', 'GKR'], ['RQC', '=', 'LRF', 'HCM'], ['SSG', '=', 'GQK', 'HDV'], ['KPL', '=', 'GQS', 'MDK'], ['GJN', '=', 'PNN', 'CPB'], ['LHK', '=', 'QPD', 'GSV'], ['KFR', '=', 'KPD', 'DTV'], ['QXC', '=', 'QVM', 'BHJ'], ['XRH', '=', 'PKM', 'FPN'], ['CKL', '=', 'BBT', 'GTQ'], ['FPK', '=', 'CRV', 'MGR'], ['LTK', '=', 'LVT', 'HXF'], ['BLK', '=', 'BRT', 'BQN'], ['BSX', '=', 'XMS', 'XJN'], ['MMR', '=', 'JCG', 'HHX'], ['DVM', '=', 'LHK', 'BCD'], ['RCJ', '=', 'BDB', 'CFK'], ['QLN', '=', 'DDB', 'LDQ'], ['GKF', '=', 'QLV', 'FNP'], ['BXQ', '=', 'NKT', 'FFN'], ['HCM', '=', 'FPK', 'KQB'], ['HKG', '=', 'GQK', 'HDV'], ['FNS', '=', 'GQS', 'MDK'], ['CTJ', '=', 'NST', 'HDJ'], ['QQS', '=', 'GQB', 'XCC'], ['ZZZ', '=', 'MFQ', 'JXS'], ['MGK', '=', 'CRH', 'BRV'], ['LCR', '=', 'FRD', 'KMK'], ['BKD', '=', 'BNR', 'BKM'], ['LDB', '=', 'KLM', 'SCC'], ['PLS', '=', 'PBL', 'CRG'], ['FQR', '=', 'PNR', 'NCV'], ['TNL', '=', 'CDT', 'MKC'], ['KVH', '=', 'FJQ', 'SHJ'], ['KPT', '=', 'KGB', 'PXQ'], ['GQM', '=', 'BXQ', 'VLP'], ['FDR', '=', 'GLC', 'KGF'], ['DDC', '=', 'NST', 'HDJ'], ['MTJ', '=', 'TMT', 'TMB'], ['PBJ', '=', 'LTK', 'VFB'], ['JXS', '=', 'SBL', 'CQB'], ['XML', '=', 'BMK', 'QBL'], ['XSK', '=', 'KSN', 'KSN'], ['TKM', '=', 'TKQ', 'NTX'], ['XFP', '=', 'HBX', 'RMX'], ['DXQ', '=', 'VQX', 'HFR'], ['KRN', '=', 'CNK', 'JDM'], ['TJQ', '=', 'TKQ', 'NTX'], ['VQX', '=', 'LBJ', 'VHD'], ['TGX', '=', 'HLK', 'LDJ'], ['MCX', '=', 'GDH', 'BNS'], ['DKM', '=', 'TVC', 'LPB'], ['VXD', '=', 'GCF', 'SVD'], ['FGB', '=', 'BKM', 'BNR'], ['VNN', '=', 'VCS', 'BSR'], ['FXX', '=', 'LHC', 'NMM'], ['JKR', '=', 'TQN', 'GXV'], ['FRJ', '=', 'TDK', 'PKQ'], ['MMQ', '=', 'SCC', 'KLM'], ['XGL', '=', 'MSN', 'JJQ'], ['GTQ', '=', 'DMV', 'LLK'], ['KML', '=', 'MCX', 'CTT'], ['LBH', '=', 'LSR', 'VTJ'], ['BDS', '=', 'XJK', 'JTM'], ['FVH', '=', 'TSV', 'HHC'], ['KXN', '=', 'LRL', 'QKK'], ['HND', '=', 'HNQ', 'FSG'], ['JQS', '=', 'QLL', 'RKH'], ['CKD', '=', 'TBT', 'HBT'], ['PXP', '=', 'NXC', 'TTK'], ['VHP', '=', 'QJC', 'QKH'], ['KQL', '=', 'BQV', 'RJR'], ['FSG', '=', 'JBH', 'GPH'], ['BVN', '=', 'QLV', 'FNP'], ['HNV', '=', 'XFH', 'BKL'], ['CNJ', '=', 'MNT', 'DCG'], ['VSV', '=', 'HGQ', 'VDH'], ['PXB', '=', 'RRT', 'RRT'], ['FNK', '=', 'TKC', 'LTM'], ['VTX', '=', 'LDJ', 'HLK'], ['KKG', '=', 'QDL', 'SNT'], ['CTT', '=', 'GDH', 'BNS'], ['FJJ', '=', 'FNT', 'FNT'], ['JCS', '=', 'DDB', 'LDQ'], ['GDH', '=', 'TPG', 'DND'], ['FMF', '=', 'XHB', 'BNH'], ['QLL', '=', 'JCQ', 'KVG'], ['NJK', '=', 'RDB', 'VHH'], ['LHC', '=', 'QDS', 'SXP'], ['QHS', '=', 'KQL', 'SXQ'], ['BJQ', '=', 'BXB', 'HQT'], ['GJL', '=', 'BTX', 'GJC'], ['BNR', '=', 'NJK', 'PBD'], ['NFL', '=', 'NSC', 'FTL'], ['SKK', '=', 'FTL', 'NSC'], ['MQN', '=', 'FMF', 'KPC'], ['XHB', '=', 'DCS', 'SQD'], ['MDT', '=', 'TDP', 'GMN'], ['XBL', '=', 'TMT', 'TMB'], ['HFH', '=', 'XDV', 'DMD'], ['BSR', '=', 'VTX', 'TGX'], ['LDH', '=', 'BJQ', 'XJJ'], ['GXX', '=', 'KKL', 'RCJ'], ['PQZ', '=', 'HDH', 'QQR'], ['CXH', '=', 'VXD', 'SGC'], ['HPB', '=', 'VHR', 'FNQ'], ['LLF', '=', 'QVM', 'BHJ'], ['VQQ', '=', 'FQD', 'MQN'], ['GSV', '=', 'NDT', 'SLM'], ['GLR', '=', 'HVD', 'DMF'], ['SLC', '=', 'JRL', 'KXC'], ['RHV', '=', 'HBC', 'TFR'], ['PVX', '=', 'PLS', 'SJS'], ['LLK', '=', 'BDC', 'PNK'], ['SLL', '=', 'FJQ', 'SHJ'], ['LKT', '=', 'VPF', 'SSC'], ['MXC', '=', 'LRF', 'HCM'], ['FTL', '=', 'QSR', 'SVH'], ['GCF', '=', 'JTF', 'HJB'], ['VHZ', '=', 'RRN', 'TSH'], ['LNB', '=', 'DQQ', 'MQX'], ['DRQ', '=', 'XML', 'RTK'], ['XLG', '=', 'LTN', 'VLD'], ['LBL', '=', 'VVF', 'SPR'], ['MBB', '=', 'NFG', 'NFG'], ['QJC', '=', 'GQM', 'LSB'], ['LSR', '=', 'BJS', 'FLB'], ['MQH', '=', 'TJK', 'KFR'], ['DFN', '=', 'LXG', 'LLL'], ['MSN', '=', 'KXN', 'MPV'], ['JCT', '=', 'MHV', 'LNB'], ['TPG', '=', 'CJJ', 'RRD'], ['GCV', '=', 'NVT', 'SNB'], ['LNL', '=', 'GXX', 'DJM'], ['XFT', '=', 'TSH', 'RRN'], ['FSS', '=', 'SLC', 'LSD'], ['TKT', '=', 'TVC', 'LPB'], ['XBN', '=', 'NBX', 'GCV'], ['RQT', '=', 'QKF', 'XRS'], ['XCC', '=', 'MXL', 'RLF'], ['RTH', '=', 'QVB', 'MDT'], ['DBP', '=', 'HNV', 'XCG'], ['QQB', '=', 'JMF', 'PBJ'], ['KSJ', '=', 'NCS', 'RNM'], ['GNQ', '=', 'CPX', 'FXC'], ['HHX', '=', 'JKT', 'SVM'], ['SGG', '=', 'KMK', 'FRD'], ['SMM', '=', 'SJS', 'PLS'], ['VPK', '=', 'LTM', 'TKC'], ['VLD', '=', 'QKB', 'QCZ'], ['LTR', '=', 'TFX', 'FVN'], ['VCL', '=', 'DKM', 'TKT'], ['HXG', '=', 'MTG', 'SNM'], ['KGB', '=', 'MRV', 'LFD'], ['JGK', '=', 'CNJ', 'RXF'], ['FMV', '=', 'FRT', 'MNF'], ['SLD', '=', 'KVH', 'SLL'], ['VVL', '=', 'TNJ', 'JXC'], ['GDP', '=', 'RBF', 'KHM'], ['XDT', '=', 'RML', 'JHK'], ['JKP', '=', 'NDL', 'KSJ'], ['BNH', '=', 'SQD', 'DCS'], ['LFD', '=', 'LQC', 'HLS'], ['NHC', '=', 'JHT', 'SSM'], ['VPF', '=', 'NRN', 'LBL'], ['BHT', '=', 'LQS', 'MCP'], ['SNT', '=', 'RHL', 'BDS'], ['BQN', '=', 'XGL', 'BLL'], ['FVN', '=', 'HGP', 'QKM'], ['NXC', '=', 'KQJ', 'FMV'], ['NKG', '=', 'SJV', 'SLD'], ['HSF', '=', 'HPB', 'NFR'], ['QKM', '=', 'RRR', 'PMK'], ['PJL', '=', 'XBN', 'PFX'], ['MRP', '=', 'LCX', 'FJV'], ['XSQ', '=', 'FDK', 'HKD'], ['TVC', '=', 'GHN', 'QQC'], ['XLX', '=', 'DKJ', 'NNT'], ['VSX', '=', 'LLL', 'LXG'], ['FQD', '=', 'FMF', 'KPC'], ['PNJ', '=', 'XCR', 'BJT'], ['QDV', '=', 'QRJ', 'BFS'], ['QVG', '=', 'GLC', 'KGF'], ['BMK', '=', 'RJS', 'FLF'], ['SXQ', '=', 'BQV', 'RJR'], ['BGL', '=', 'CSB', 'SBH'], ['BJG', '=', 'CNH', 'PQJ'], ['RSG', '=', 'QFT', 'VPD'], ['VVF', '=', 'DRQ', 'HKC'], ['BBT', '=', 'LLK', 'DMV'], ['HGQ', '=', 'GKG', 'QPG'], ['HMD', '=', 'PHT', 'PCD'], ['PPL', '=', 'CKL', 'RCM'], ['QLA', '=', 'TSH', 'RRN'], ['KBG', '=', 'HBT', 'TBT'], ['RHD', '=', 'HKG', 'SSG'], ['GQB', '=', 'RLF', 'MXL'], ['QFA', '=', 'QQR', 'HDH'], ['KPC', '=', 'BNH', 'XHB'], ['XNX', '=', 'FVH', 'MNH'], ['HBX', '=', 'NFD', 'VJF'], ['SVD', '=', 'HJB', 'JTF'], ['DMD', '=', 'JRN', 'PJL'], ['PKJ', '=', 'BJQ', 'XJJ'], ['TFX', '=', 'HGP', 'QKM'], ['MCH', '=', 'PKD', 'PFF'], ['SGD', '=', 'PKQ', 'TDK'], ['RRJ', '=', 'KCT', 'GNQ'], ['PJD', '=', 'VLM', 'JJZ'], ['PHF', '=', 'PQX', 'FSS'], ['PKQ', '=', 'NTP', 'MMR'], ['VPD', '=', 'QHB', 'NHC'], ['FRD', '=', 'GDP', 'NVD'], ['SFH', '=', 'HBC', 'TFR'], ['JRN', '=', 'XBN', 'PFX'], ['HSB', '=', 'MRP', 'LXX'], ['RMX', '=', 'NFD', 'VJF'], ['SBH', '=', 'JXH', 'TSQ'], ['NTP', '=', 'JCG', 'HHX'], ['PSX', '=', 'FMX', 'PCR'], ['LCQ', '=', 'PKS', 'VMS'], ['LKV', '=', 'SMM', 'PVX'], ['SGC', '=', 'SVD', 'GCF'], ['CQB', '=', 'LDD', 'QDV'], ['FRT', '=', 'XCV', 'HSF'], ['KGT', '=', 'SGC', 'VXD'], ['TRC', '=', 'PSX', 'NQC'], ['BSG', '=', 'PKD', 'PFF'], ['CKB', '=', 'FJJ', 'FKD'], ['SSM', '=', 'JQF', 'JQX'], ['DKJ', '=', 'BKD', 'FGB'], ['TKC', '=', 'TXS', 'FQJ'], ['JQX', '=', 'DVQ', 'NLN'], ['BDC', '=', 'KNL', 'DSV'], ['FJV', '=', 'MTJ', 'XBL'], ['DND', '=', 'CJJ', 'RRD'], ['PPH', '=', 'MMQ', 'LDB'], ['FTJ', '=', 'LKT', 'GNX'], ['JKV', '=', 'RFM', 'MGK'], ['KCR', '=', 'LLF', 'QXC'], ['RFN', '=', 'LJL', 'CFX'], ['HCF', '=', 'NFG', 'HSR'], ['NTV', '=', 'JXG', 'VHP'], ['QQR', '=', 'DTX', 'HND'], ['BTX', '=', 'QVG', 'FDR'], ['JQK', '=', 'SXQ', 'KQL'], ['NJC', '=', 'SLN', 'QQH'], ['RML', '=', 'PDJ', 'TRV'], ['SNF', '=', 'JDM', 'CNK'], ['KMK', '=', 'GDP', 'NVD'], ['XSH', '=', 'DXQ', 'KNS'], ['DTX', '=', 'HNQ', 'FSG'], ['BNS', '=', 'TPG', 'DND'], ['KHM', '=', 'BFG', 'VDM'], ['SBF', '=', 'MGK', 'RFM'], ['NFD', '=', 'PKJ', 'LDH'], ['BHJ', '=', 'VNN', 'CGL'], ['TXS', '=', 'FVQ', 'GKR'], ['CRV', '=', 'NTQ', 'SDV'], ['GHT', '=', 'FVH', 'MNH'], ['RBN', '=', 'RQC', 'MXC'], ['KKL', '=', 'BDB', 'CFK'], ['NLN', '=', 'RBN', 'HBF'], ['QFT', '=', 'NHC', 'QHB'], ['QBL', '=', 'FLF', 'RJS'], ['RHG', '=', 'PNN', 'CPB'], ['MNF', '=', 'XCV', 'HSF'], ['SJS', '=', 'CRG', 'PBL'], ['FDK', '=', 'VHJ', 'HFH'], ['HXM', '=', 'JJD', 'JJD'], ['PNN', '=', 'QDK', 'MMJ'], ['GCS', '=', 'TTK', 'NXC'], ['VJF', '=', 'LDH', 'PKJ'], ['GTD', '=', 'CBR', 'RJD'], ['RRD', '=', 'TPL', 'XVR'], ['JXC', '=', 'LMV', 'PMP'], ['NXH', '=', 'MKC', 'CDT'], ['HCK', '=', 'GNX', 'LKT'], ['BRC', '=', 'QLL', 'RKH'], ['KQB', '=', 'CRV', 'MGR'], ['TMB', '=', 'MCH', 'BSG'], ['XJN', '=', 'RSX', 'JGK'], ['HQP', '=', 'SFM', 'BHT'], ['HQT', '=', 'MBB', 'HCF'], ['THC', '=', 'VKN', 'PHF'], ['TPL', '=', 'NGD', 'QQB'], ['NGD', '=', 'PBJ', 'JMF'], ['GVJ', '=', 'RNT', 'LKV'], ['QDK', '=', 'LTR', 'CNQ'], ['JXG', '=', 'QKH', 'QJC'], ['TQN', '=', 'KRL', 'QCV'], ['RDB', '=', 'JQS', 'BRC'], ['MPV', '=', 'LRL', 'QKK'], ['SJQ', '=', 'HKG', 'SSG'], ['XHL', '=', 'RNL', 'FHV'], ['LRF', '=', 'KQB', 'FPK'], ['GNX', '=', 'SSC', 'VPF'], ['VXV', '=', 'XLX', 'RDT'], ['MTG', '=', 'CCR', 'CRR'], ['NFG', '=', 'BHH', 'BHH'], ['DSV', '=', 'PXB', 'PJN'], ['CVT', '=', 'KPT', 'DBF'], ['RHL', '=', 'JTM', 'XJK'], ['CBQ', '=', 'GXL', 'PQB'], ['BHH', '=', 'JXS', 'MFQ'], ['DMV', '=', 'BDC', 'PNK'], ['NSS', '=', 'HQP', 'LBS'], ['FVM', '=', 'PRP', 'RFN'], ['NCS', '=', 'HTP', 'LVL'], ['QPD', '=', 'NDT', 'SLM'], ['GJC', '=', 'FDR', 'QVG'], ['CFK', '=', 'JGG', 'NMP'], ['HDV', '=', 'MGD', 'DBP'], ['PNB', '=', 'PQB', 'GXL'], ['RXA', '=', 'NLJ', 'JPG'], ['CNH', '=', 'JSF', 'BQQ'], ['VXL', '=', 'HXR', 'XQQ'], ['QKF', '=', 'RDP', 'DHT'], ['QTS', '=', 'QKF', 'XRS'], ['VDL', '=', 'SGD', 'FRJ'], ['FCM', '=', 'TQN', 'GXV'], ['BHQ', '=', 'GQC', 'QRR'], ['BSD', '=', 'FTJ', 'HCK'], ['CJJ', '=', 'TPL', 'XVR'], ['PLG', '=', 'DTD', 'BSD'], ['LQC', '=', 'TKM', 'TJQ'], ['NTM', '=', 'KLG', 'PPL'], ['SHJ', '=', 'NRL', 'NMS'], ['QDL', '=', 'BDS', 'RHL'], ['PCR', '=', 'XFP', 'QKX'], ['XCG', '=', 'XFH', 'BKL'], ['LMV', '=', 'GCS', 'PXP'], ['JJD', '=', 'QQV', 'QQV'], ['HGP', '=', 'PMK', 'RRR'], ['TNF', '=', 'RQT', 'QTS'], ['SFM', '=', 'MCP', 'LQS'], ['MNR', '=', 'RFN', 'PRP'], ['LLL', '=', 'CBQ', 'PNB'], ['RJS', '=', 'SNF', 'KRN'], ['BRV', '=', 'CVV', 'DDS'], ['GGK', '=', 'LHS', 'PLG'], ['HVD', '=', 'GBJ', 'VQQ'], ['KQJ', '=', 'FRT', 'MNF'], ['PMK', '=', 'CGR', 'PQR'], ['MFB', '=', 'GGK', 'CLL'], ['HLK', '=', 'NTG', 'KMB'], ['BKL', '=', 'CQL', 'DVM'], ['SVT', '=', 'CSB', 'SBH'], ['FGD', '=', 'PNR', 'NCV'], ['LVT', '=', 'VCL', 'XTQ'], ['MFQ', '=', 'SBL', 'CQB'], ['SCC', '=', 'KKH', 'LBH'], ['JMF', '=', 'VFB', 'LTK'], ['GLC', '=', 'FBS', 'DNB'], ['HFT', '=', 'MMQ', 'LDB'], ['PNR', '=', 'PTG', 'KSB'], ['SNM', '=', 'CRR', 'CCR'], ['TJK', '=', 'DTV', 'KPD'], ['PQR', '=', 'NJC', 'CNF'], ['VPM', '=', 'QDL', 'SNT'], ['DHT', '=', 'KGT', 'CXH'], ['RPK', '=', 'KML', 'XRL'], ['VFH', '=', 'HSB', 'QBV'], ['FNP', '=', 'JBQ', 'JKP'], ['JLS', '=', 'QLN', 'JCS'], ['XMS', '=', 'JGK', 'RSX'], ['FRK', '=', 'GGK', 'CLL'], ['PDJ', '=', 'GKF', 'BVN'], ['QDH', '=', 'JLC', 'QTG'], ['PFX', '=', 'GCV', 'NBX'], ['BXB', '=', 'MBB', 'MBB'], ['TTK', '=', 'KQJ', 'FMV'], ['PKS', '=', 'DDC', 'CTJ'], ['KLG', '=', 'RCM', 'CKL'], ['CSV', '=', 'QVB', 'MDT'], ['NNG', '=', 'DXR', 'BPD'], ['HHC', '=', 'KCR', 'QJP'], ['LVL', '=', 'CSQ', 'TKJ'], ['QHB', '=', 'JHT', 'SSM'], ['JDM', '=', 'SKK', 'NFL'], ['JCQ', '=', 'TNK', 'LPJ'], ['TSQ', '=', 'MQH', 'PRD'], ['JTS', '=', 'PQJ', 'CNH'], ['RCR', '=', 'KCT', 'GNQ'], ['LXG', '=', 'CBQ', 'PNB'], ['TKQ', '=', 'HXP', 'TNF'], ['PKM', '=', 'PBT', 'SJR'], ['GXV', '=', 'QCV', 'KRL'], ['HJS', '=', 'BBX', 'RPK'], ['CPX', '=', 'XSK', 'XSK'], ['JXD', '=', 'BTX', 'GJC'], ['CVV', '=', 'HXM', 'VDB'], ['SBL', '=', 'LDD', 'QDV'], ['HBC', '=', 'VPM', 'KKG'], ['DXR', '=', 'CVT', 'KKS'], ['VDB', '=', 'JJD', 'BVS'], ['XQQ', '=', 'VVL', 'LRZ'], ['PQB', '=', 'BXS', 'XSQ'], ['NTX', '=', 'HXP', 'TNF'], ['SCG', '=', 'VMQ', 'HJS'], ['GHN', '=', 'SBF', 'JKV'], ['VXR', '=', 'SGL', 'LMC'], ['NQF', '=', 'VPD', 'QFT'], ['DDS', '=', 'HXM', 'VDB'], ['KLM', '=', 'LBH', 'KKH'], ['SGL', '=', 'QRL', 'KLQ'], ['GKR', '=', 'CSV', 'RTH'], ['QDT', '=', 'DFN', 'VSX'], ['MNT', '=', 'SNH', 'FPP'], ['TDP', '=', 'TKV', 'KVP'], ['KNL', '=', 'PXB', 'PXB'], ['GMN', '=', 'KVP', 'TKV'], ['MXL', '=', 'SGG', 'LCR'], ['PKD', '=', 'FXX', 'KVK'], ['SXP', '=', 'FNK', 'VPK'], ['NTG', '=', 'BSX', 'FDM'], ['QSR', '=', 'KBG', 'CKD'], ['FHV', '=', 'XCL', 'MBP'], ['RDT', '=', 'NNT', 'DKJ'], ['SPR', '=', 'HKC', 'DRQ'], ['FFN', '=', 'JHD', 'GLR'], ['FBS', '=', 'QXL', 'FTF'], ['VLP', '=', 'FFN', 'NKT'], ['KXC', '=', 'SKL', 'GVJ'], ['TKJ', '=', 'FQR', 'FGD'], ['LHH', '=', 'PHT', 'PCD'], ['CTM', '=', 'GHV', 'QMV'], ['VHH', '=', 'JQS', 'BRC'], ['MQX', '=', 'MJM', 'QQS'], ['BBX', '=', 'XRL', 'KML'], ['LKK', '=', 'PKM', 'FPN'], ['RNT', '=', 'PVX', 'SMM'], ['JSA', '=', 'TNJ', 'JXC'], ['RDK', '=', 'LBS', 'HQP'], ['RXF', '=', 'MNT', 'DCG'], ['HDH', '=', 'HND', 'DTX'], ['VKN', '=', 'FSS', 'PQX'], ['LSB', '=', 'VLP', 'BXQ'], ['BPD', '=', 'CVT', 'KKS'], ['TMT', '=', 'BSG', 'MCH'], ['QLV', '=', 'JBQ', 'JKP'], ['LPJ', '=', 'KVD', 'QSX'], ['QDS', '=', 'VPK', 'FNK'], ['GQS', '=', 'VXV', 'DNL'], ['DTV', '=', 'NSS', 'RDK'], ['SNB', '=', 'JLB', 'LLV'], ['NMM', '=', 'SXP', 'QDS'], ['CSB', '=', 'TSQ', 'JXH'], ['PFF', '=', 'FXX', 'KVK'], ['VHJ', '=', 'XDV', 'DMD'], ['XFX', '=', 'KSN', 'THB'], ['CCR', '=', 'NQF', 'RSG'], ['VMQ', '=', 'BBX', 'RPK'], ['HXR', '=', 'VVL', 'VVL'], ['SJV', '=', 'KVH', 'SLL'], ['CFN', '=', 'KLG', 'PPL'], ['DDH', '=', 'RHG', 'GJN'], ['FLG', '=', 'HMD', 'LHH'], ['FVQ', '=', 'RTH', 'CSV'], ['RTK', '=', 'BMK', 'QBL'], ['NSC', '=', 'SVH', 'QSR'], ['MKC', '=', 'FCM', 'JKR'], ['XTJ', '=', 'GHV', 'QMV'], ['CNQ', '=', 'FVN', 'TFX'], ['SJR', '=', 'BJJ', 'BHQ'], ['MGR', '=', 'NTQ', 'SDV'], ['XFH', '=', 'DVM', 'CQL'], ['QSX', '=', 'GRR', 'PNJ'], ['QKX', '=', 'HBX', 'RMX'], ['LBK', '=', 'BQN', 'BRT'], ['PXQ', '=', 'MRV', 'LFD'], ['LDQ', '=', 'SFH', 'RHV'], ['MNH', '=', 'HHC', 'TSV'], ['XCV', '=', 'HPB', 'NFR'], ['KLQ', '=', 'QBJ', 'XSH'], ['FTF', '=', 'SCQ', 'RGC'], ['JJQ', '=', 'MPV', 'KXN'], ['LJL', '=', 'VDV', 'SJJ'], ['DNB', '=', 'FTF', 'QXL'], ['CFX', '=', 'VDV', 'SJJ'], ['JKT', '=', 'DKT', 'DKT'], ['SJJ', '=', 'THK', 'HSK'], ['CDL', '=', 'JLS', 'CPK'], ['QCV', '=', 'XRH', 'LKK'], ['XCR', '=', 'GJL', 'JXD'], ['KMJ', '=', 'MLJ', 'PQZ'], ['MPS', '=', 'DJM', 'GXX'], ['GBJ', '=', 'MQN', 'FQD'], ['PNK', '=', 'KNL', 'DSV'], ['BRB', '=', 'HMD', 'LHH'], ['PBT', '=', 'BJJ', 'BHQ'], ['JPG', '=', 'JCT', 'GBH'], ['HSR', '=', 'BHH', 'ZZZ'], ['DQQ', '=', 'QQS', 'MJM'], ['MCP', '=', 'SJQ', 'RHD'], ['LTM', '=', 'TXS', 'FQJ'], ['KKS', '=', 'KPT', 'DBF'], ['DCG', '=', 'FPP', 'SNH'], ['TDK', '=', 'MMR', 'NTP'], ['QJP', '=', 'LLF', 'QXC'], ['NFR', '=', 'FNQ', 'VHR'], ['FKD', '=', 'FNT', 'VXL'], ['LMC', '=', 'KLQ', 'QRL'], ['PBL', '=', 'FVM', 'MNR'], ['JHD', '=', 'DMF', 'HVD'], ['CRR', '=', 'RSG', 'NQF'], ['JJZ', '=', 'JVD', 'JSN'], ['RQH', '=', 'DXR', 'BPD'], ['HXF', '=', 'VCL', 'XTQ'], ['CRG', '=', 'MNR', 'FVM'], ['VHR', '=', 'QHG', 'LCQ'], ['VCS', '=', 'VTX', 'TGX'], ['FPP', '=', 'QDH', 'PSQ'], ['KSN', '=', 'XFT', 'XFT'], ['BVS', '=', 'QQV', 'PJD'], ['RSX', '=', 'RXF', 'CNJ'], ['FXC', '=', 'XSK', 'XFX'], ['HDJ', '=', 'CDL', 'VGL'], ['QQC', '=', 'SBF', 'JKV'], ['LPB', '=', 'GHN', 'QQC'], ['LRJ', '=', 'QHS', 'JQK'], ['SCQ', '=', 'RCR', 'RRJ'], ['PQJ', '=', 'JSF', 'BQQ'], ['GKG', '=', 'VMJ', 'LRJ'], ['SSC', '=', 'NRN', 'LBL'], ['NVT', '=', 'JLB', 'LLV'], ['KVD', '=', 'GRR', 'PNJ'], ['XRL', '=', 'CTT', 'MCX'], ['BTS', '=', 'VMQ', 'HJS'], ['KRL', '=', 'XRH', 'LKK'], ['RRN', '=', 'BGL', 'SVT'], ['FHS', '=', 'SNM', 'MTG'], ['QPG', '=', 'VMJ', 'LRJ'], ['QKK', '=', 'TRC', 'MCG'], ['VDV', '=', 'THK', 'HSK'], ['GPH', '=', 'VXR', 'GKQ'], ['RNL', '=', 'XCL', 'MBP'], ['SLN', '=', 'THC', 'THR'], ['CPB', '=', 'MMJ', 'QDK'], ['NMS', '=', 'XTJ', 'CTM'], ['RJR', '=', 'BTS', 'SCG'], ['CGL', '=', 'VCS', 'BSR'], ['MBP', '=', 'MFB', 'FRK'], ['NNT', '=', 'FGB', 'BKD'], ['HTP', '=', 'CSQ', 'TKJ'], ['GPG', '=', 'RML', 'JHK'], ['QRL', '=', 'QBJ', 'XSH'], ['BCD', '=', 'GSV', 'QPD'], ['QQV', '=', 'VLM', 'VLM'], ['PRP', '=', 'CFX', 'LJL'], ['TFR', '=', 'KKG', 'VPM'], ['LDD', '=', 'QRJ', 'BFS'], ['QVM', '=', 'VNN', 'CGL'], ['KGF', '=', 'FBS', 'DNB'], ['GBH', '=', 'MHV', 'LNB'], ['JCG', '=', 'JKT', 'SVM'], ['FJQ', '=', 'NMS', 'NRL'], ['QXL', '=', 'RGC', 'SCQ'], ['NRN', '=', 'SPR', 'VVF'], ['FDM', '=', 'XMS', 'XJN'], ['RFM', '=', 'BRV', 'CRH'], ['NKT', '=', 'GLR', 'JHD'], ['HFR', '=', 'VHD', 'LBJ'], ['THB', '=', 'XFT', 'VHZ'], ['XJJ', '=', 'BXB', 'HQT'], ['QTG', '=', 'VSV', 'TKN'], ['NQC', '=', 'PCR', 'FMX'], ['JLB', '=', 'HFT', 'PPH'], ['GXL', '=', 'BXS', 'XSQ'], ['PSQ', '=', 'QTG', 'JLC'], ['NDT', '=', 'BRB', 'FLG'], ['PJN', '=', 'RRT', 'KMJ'], ['TBT', '=', 'CKB', 'CCX'], ['JBH', '=', 'GKQ', 'VXR'], ['XVR', '=', 'QQB', 'NGD'], ['BRT', '=', 'XGL', 'BLL'], ['PCD', '=', 'MPS', 'LNL'], ['SKL', '=', 'RNT', 'LKV'], ['TSH', '=', 'BGL', 'SVT'], ['JQF', '=', 'DVQ', 'NLN'], ['DVQ', '=', 'RBN', 'HBF'], ['RGC', '=', 'RCR', 'RRJ'], ['QRJ', '=', 'TNL', 'NXH'], ['XCL', '=', 'MFB', 'FRK'], ['VLM', '=', 'JSN', 'JVD'], ['RDP', '=', 'KGT', 'CXH'], ['VTJ', '=', 'FLB', 'BJS'], ['LCX', '=', 'XBL', 'MTJ'], ['JVD', '=', 'QFQ', 'LJQ'], ['BKM', '=', 'NJK', 'PBD'], ['VMJ', '=', 'QHS', 'JQK'], ['DMF', '=', 'VQQ', 'GBJ'], ['CDT', '=', 'FCM', 'JKR'], ['NTQ', '=', 'NTV', 'VMG'], ['QRR', '=', 'NSF', 'NKG'], ['NDL', '=', 'RNM', 'NCS'], ['KVG', '=', 'LPJ', 'TNK'], ['DCS', '=', 'BLK', 'LBK'], ['JFQ', '=', 'RHG', 'GJN'], ['GKQ', '=', 'SGL', 'LMC'], ['JTF', '=', 'GPG', 'XDT'], ['SVH', '=', 'CKD', 'KBG'], ['RRR', '=', 'PQR', 'CGR'], ['RHN', '=', 'CHN', 'XHL'], ['HNQ', '=', 'GPH', 'JBH'], ['BFG', '=', 'GTD', 'HRP'], ['LLV', '=', 'PPH', 'HFT'], ['NMP', '=', 'BJG', 'JTS'], ['CSQ', '=', 'FQR', 'FGD'], ['MRV', '=', 'HLS', 'LQC'], ['LDJ', '=', 'KMB', 'NTG'], ['PHT', '=', 'LNL', 'MPS'], ['DJM', '=', 'RCJ', 'KKL'], ['PTG', '=', 'VBD', 'VDL'], ['PMP', '=', 'PXP', 'GCS'], ['LTN', '=', 'QKB', 'QKB'], ['BFS', '=', 'NXH', 'TNL'], ['MGD', '=', 'XCG', 'HNV'], ['QBV', '=', 'MRP', 'LXX'], ['VFB', '=', 'LVT', 'HXF'], ['XTQ', '=', 'TKT', 'DKM'], ['QBR', '=', 'QBV', 'HSB'], ['CPK', '=', 'QLN', 'JCS'], ['MCG', '=', 'NQC', 'PSX'], ['VMG', '=', 'VHP', 'JXG'], ['FNQ', '=', 'LCQ', 'QHG']]\n",
            "18157\n",
            "14363\n",
            "16531\n",
            "12737\n",
            "19783\n",
            "19241\n",
            "14299763833181\n"
          ]
        }
      ],
      "source": [
        "import csv\n",
        "\n",
        "with open('/content/aoc8input.txt') as file_obj:\n",
        "\n",
        "    # Create reader object by passing the file object to reader method\n",
        "    reader_obj = csv.reader(file_obj, delimiter=';')\n",
        "\n",
        "    # Iterate over each row in the csv file using reader object\n",
        "    array = []\n",
        "    #constraints = {'r': 12, 'g': 13, 'b': 14}\n",
        "    firstLine = 0\n",
        "    for row in reader_obj:\n",
        "        if len(row)>0:\n",
        "            array.append(row[0].split())\n",
        "    print(array)\n",
        "    print(aoc82(array))\n"
      ]
    }
  ]
}