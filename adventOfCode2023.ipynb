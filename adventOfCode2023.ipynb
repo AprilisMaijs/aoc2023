{
  "nbformat": 4,
  "nbformat_minor": 0,
  "metadata": {
    "colab": {
      "provenance": [],
      "authorship_tag": "ABX9TyNVvVf3lB3RQOhEqt4cqPqr",
      "include_colab_link": true
    },
    "kernelspec": {
      "name": "python3",
      "display_name": "Python 3"
    },
    "language_info": {
      "name": "python"
    }
  },
  "cells": [
    {
      "cell_type": "markdown",
      "metadata": {
        "id": "view-in-github",
        "colab_type": "text"
      },
      "source": [
        "<a href=\"https://colab.research.google.com/github/AprilisMaijs/aoc2023/blob/main/adventOfCode2023.ipynb\" target=\"_parent\"><img src=\"https://colab.research.google.com/assets/colab-badge.svg\" alt=\"Open In Colab\"/></a>"
      ]
    },
    {
      "cell_type": "code",
      "source": [
        "import pandas as pd\n",
        "import numpy as np\n",
        "digit_numbers = {'0', '1', '2', '3', '4', '5', '6', '7', '8', '9'}"
      ],
      "metadata": {
        "id": "YJqrL_j3_ioF"
      },
      "execution_count": null,
      "outputs": []
    },
    {
      "cell_type": "code",
      "source": [
        "#returns calculation for 1 line of input, these can then be summed for result\n",
        "def aoc11(my_string):\n",
        "    my_list = ['0', '1', '2', '3', '4', '5', '6', '7', '8', '9']\n",
        "    length = len(my_string)\n",
        "    rez=\"\"\n",
        "    firstDigit = False\n",
        "    secondDigit = False\n",
        "    for index, char in enumerate(my_string):\n",
        "        if char in my_list and not firstDigit:\n",
        "            rez = char + rez\n",
        "            firstDigit = True\n",
        "            if secondDigit:\n",
        "                break\n",
        "\n",
        "        rev_index = length - 1 - index\n",
        "        if my_string[rev_index] in my_list and not secondDigit:\n",
        "            rez = rez + my_string[rev_index]\n",
        "            secondDigit = True\n",
        "            if firstDigit:\n",
        "                break\n",
        "\n",
        "    return(int(rez))\n",
        "\n"
      ],
      "metadata": {
        "id": "tCLnK-4gLreI"
      },
      "execution_count": null,
      "outputs": []
    },
    {
      "cell_type": "code",
      "source": [
        "# returns the pattern that has the FIRST match in a string\n",
        "def find_first_match(input_string, string_list):\n",
        "    first_match = None\n",
        "    index = 999\n",
        "    for pattern in string_list:\n",
        "        if pattern in input_string:\n",
        "            if input_string.find(pattern)<index:\n",
        "                first_match = pattern\n",
        "                index = input_string.find(pattern)\n",
        "\n",
        "    return first_match"
      ],
      "metadata": {
        "id": "mYtg7SIITmSD"
      },
      "execution_count": null,
      "outputs": []
    },
    {
      "cell_type": "code",
      "source": [
        "# returns the pattern that has the LAST match in a string\n",
        "def find_last_match(input_string, string_list):\n",
        "    last_match = None\n",
        "    index = 0\n",
        "    for pattern in string_list:\n",
        "        if pattern in input_string:\n",
        "             if input_string.rfind(pattern)>index:\n",
        "                last_match = pattern\n",
        "                index = input_string.rfind(pattern)\n",
        "    return last_match"
      ],
      "metadata": {
        "id": "luBbGyULTsmr"
      },
      "execution_count": null,
      "outputs": []
    },
    {
      "cell_type": "code",
      "source": [
        "#returns calculation for 1 line of input, these can then be summed for result\n",
        "def aoc12(my_string):\n",
        "    digit_numbers = [\"0\", \"1\", \"2\", \"3\", \"4\", \"5\", \"6\", \"7\", \"8\", \"9\"]\n",
        "    digit_words = [\"one\", \"two\", \"three\", \"four\", \"five\", \"six\", \"seven\", \"eight\", \"nine\"]\n",
        "    combo = digit_numbers + digit_words\n",
        "    result=0\n",
        "    firstDigit = find_first_match(my_string, combo)\n",
        "    lastDigit = find_last_match(my_string, combo)\n",
        "    if (firstDigit == None):\n",
        "        firstDigit = lastDigit\n",
        "    if (lastDigit == None):\n",
        "        lastDigit = firstDigit\n",
        "\n",
        "    if firstDigit in digit_words:\n",
        "        firstDigit = digit_numbers[digit_words.index(firstDigit)+1]\n",
        "    if lastDigit in digit_words:\n",
        "        lastDigit = digit_numbers[digit_words.index(lastDigit)+1]\n",
        "    return firstDigit+lastDigit\n"
      ],
      "metadata": {
        "id": "b8CDbPITUK8l"
      },
      "execution_count": null,
      "outputs": []
    },
    {
      "cell_type": "code",
      "source": [
        "#returns calculation for 1 line of input, these can then be summed for result\n",
        "def aoc21 (gameList, constraints):\n",
        "    gameID = gameList[0]\n",
        "    for set in gameList[1:]:\n",
        "        colors = set.split(',')\n",
        "        for num_color in colors:\n",
        "            color = num_color[len(num_color)-1]\n",
        "            amount = int(num_color.replace(' ','').replace('r','').replace('g','').replace('b',''))\n",
        "            if (constraints[color]<amount):\n",
        "                return 0\n",
        "    return int(gameID)"
      ],
      "metadata": {
        "id": "qD_x4ZuV-vxk"
      },
      "execution_count": null,
      "outputs": []
    },
    {
      "cell_type": "code",
      "source": [
        "#returns calculation for 1 line of input, these can then be summed for result\n",
        "def aoc22 (gameList):\n",
        "    gameID = gameList[0]\n",
        "    minAmounts = {'r': 0, 'g': 0, 'b': 0}\n",
        "    for set in gameList[1:]:\n",
        "        colors = set.split(',')\n",
        "        for num_color in colors:\n",
        "            color = num_color[len(num_color)-1]\n",
        "            amount = int(num_color.replace(' ','').replace('r','').replace('g','').replace('b',''))\n",
        "            if (amount > minAmounts[color]):\n",
        "                minAmounts[color] = amount\n",
        "    power = minAmounts['r']*minAmounts['g']*minAmounts['b']\n",
        "    return power"
      ],
      "metadata": {
        "id": "AcPzV9veGq52"
      },
      "execution_count": null,
      "outputs": []
    },
    {
      "cell_type": "code",
      "source": [
        "def check_for_symbols(array, index, indexes):\n",
        "    valid_index_range = range(len(array))\n",
        "    valid_i_range = range(len(array[0][0]))\n",
        "    for i in indexes:\n",
        "        list_of_checks = [\n",
        "            [index, i-1],\n",
        "            [index-1, i-1],\n",
        "            [index-1, i],\n",
        "            [index-1, i+1],\n",
        "            [index, i+1],\n",
        "            [index+1, i-1],\n",
        "            [index+1, i],\n",
        "            [index+1, i+1]]\n",
        "        for pos in list_of_checks:\n",
        "            if(pos[0] in valid_index_range and pos[1] in valid_i_range):\n",
        "                symbol = array[pos[0]][0][pos[1]]\n",
        "                if(symbol != '.' and symbol not in digit_numbers):\n",
        "                    return True\n",
        "    return False"
      ],
      "metadata": {
        "id": "93pBWEuoO8J2"
      },
      "execution_count": null,
      "outputs": []
    },
    {
      "cell_type": "code",
      "source": [
        "def aoc31(array):\n",
        "    result = 0\n",
        "    digit_numbers = {'0', '1', '2', '3', '4', '5', '6', '7', '8', '9'}  # Use a set for faster membership checks\n",
        "\n",
        "    for i in range(len(array)):  # Iterate over rows directly\n",
        "        my_string = array[i][0]\n",
        "        j = 0\n",
        "        while(j<len(my_string)):\n",
        "            if my_string[j] in digit_numbers:\n",
        "                part_number, indexes = find_full_number(my_string, j)\n",
        "                j = indexes[-1] + 1\n",
        "                isPart = check_for_symbols(array, i, indexes)\n",
        "                if isPart:\n",
        "                    result += part_number\n",
        "            j+=1\n",
        "    return result"
      ],
      "metadata": {
        "id": "qtwuuPGnLW4B"
      },
      "execution_count": null,
      "outputs": []
    },
    {
      "cell_type": "code",
      "source": [
        "def check_for_numbers(array, row, column):\n",
        "    valid_row_range = range(len(array))\n",
        "    valid_column_range = range(len(array[0][0]))\n",
        "    found_numbers = []\n",
        "    do_not_check = {}\n",
        "    list_of_checks = [\n",
        "        [row, column-1],\n",
        "        [row-1, column-1],\n",
        "        [row-1, column],\n",
        "        [row-1, column+1],\n",
        "        [row, column+1],\n",
        "        [row+1, column-1],\n",
        "        [row+1, column],\n",
        "        [row+1, column+1]]\n",
        "    for pos in list_of_checks:\n",
        "        if(pos[0] in valid_row_range and pos[1] in valid_column_range):\n",
        "            if(pos[0] in do_not_check):\n",
        "                if(pos[1]  in do_not_check[pos[0]]):\n",
        "                    continue\n",
        "            symbol = array[pos[0]][0][pos[1]]\n",
        "            if(symbol in digit_numbers):\n",
        "                num, indexes = (find_full_number(array[pos[0]][0],pos[1]))\n",
        "                found_numbers.append(num)\n",
        "                do_not_check[pos[0]] = indexes\n",
        "    return found_numbers"
      ],
      "metadata": {
        "id": "4xt5uNKzgd8c"
      },
      "execution_count": null,
      "outputs": []
    },
    {
      "cell_type": "code",
      "source": [
        "def find_full_number(my_string, index):\n",
        "    beginningFound = False\n",
        "    while(not beginningFound):\n",
        "        if(index - 1 >= 0):\n",
        "            if(my_string[index - 1] not in digit_numbers):\n",
        "                beginningFound = True\n",
        "                break\n",
        "        else:\n",
        "            beginningFound = True\n",
        "            break\n",
        "        index += -1\n",
        "    char = my_string[index]\n",
        "    indexes = []\n",
        "    number = \"\"\n",
        "    while(char in digit_numbers and index < len(my_string)):\n",
        "        indexes.append(index)\n",
        "        number += char\n",
        "        index += 1\n",
        "        if (index < len(my_string)):\n",
        "            char = my_string[index]\n",
        "    return int(number), indexes"
      ],
      "metadata": {
        "id": "Z_FKmionNAns"
      },
      "execution_count": null,
      "outputs": []
    },
    {
      "cell_type": "code",
      "source": [
        "def aoc32(array):\n",
        "    result = 0\n",
        "    for i in range(len(array)):  # Iterate over rows directly\n",
        "        my_string = array[i][0]\n",
        "        j = 0\n",
        "        while(j<len(my_string)):\n",
        "            if my_string[j] == '*':\n",
        "                print('gear found...')\n",
        "                unique_values = check_for_numbers(array, i, j)\n",
        "                print('part numbers found ')\n",
        "                print(unique_values)\n",
        "                if(len(unique_values) == 2):\n",
        "                    result += unique_values[0]*unique_values[1]\n",
        "            j+=1\n",
        "    return result"
      ],
      "metadata": {
        "id": "N_RvSsrdeXLV"
      },
      "execution_count": null,
      "outputs": []
    },
    {
      "cell_type": "code",
      "source": [
        "def aoc41(array):\n",
        "    result = 0\n",
        "\n",
        "    for row in array:\n",
        "        winningNumbers = []\n",
        "        yourNumbers = []\n",
        "        points = 0\n",
        "        matches = 0\n",
        "        delimiterReached = False\n",
        "        for i in range(1,len(row)):\n",
        "            if delimiterReached:\n",
        "                yourNumbers.append(row[i])\n",
        "            else:\n",
        "                if row[i] == '|':\n",
        "                    delimiterReached = True\n",
        "                else:\n",
        "                    winningNumbers.append(row[i])\n",
        "        for num in winningNumbers:\n",
        "            matches += yourNumbers.count(num)\n",
        "        if matches != 0:\n",
        "            points = 2**(matches-1)\n",
        "        result += points\n",
        "        #print(row,matches,2**(matches-1) ,points,result)\n",
        "    return result"
      ],
      "metadata": {
        "id": "R_li_LWwPLEP"
      },
      "execution_count": null,
      "outputs": []
    },
    {
      "cell_type": "code",
      "source": [
        "def aoc42(array):\n",
        "    result = 0\n",
        "    matches = {}\n",
        "    cards = {}\n",
        "    for i in range(len(array)):\n",
        "        cards[array[i][0]]=1\n",
        "        winningNumbers = []\n",
        "        yourNumbers = []\n",
        "        points = 0\n",
        "        delimiterReached = False\n",
        "        for j in range(1,len(array[i])):\n",
        "            if delimiterReached:\n",
        "                yourNumbers.append(array[i][j])\n",
        "            else:\n",
        "                if array[i][j] == '|':\n",
        "                    delimiterReached = True\n",
        "                else:\n",
        "                    winningNumbers.append(array[i][j])\n",
        "        for num in winningNumbers:\n",
        "            if array[i][0] in matches:\n",
        "                matches[array[i][0]] += yourNumbers.count(num)\n",
        "            else:\n",
        "                matches[array[i][0]] = yourNumbers.count(num)\n",
        "    #iterate over cards AGAIN\n",
        "    for key in cards:\n",
        "        next_keys = list(cards.keys())[list(cards.keys()).index(key) + 1:list(cards.keys()).index(key) + matches[key] + 1]\n",
        "        for next_key in next_keys:\n",
        "            if next_key in cards:\n",
        "                cards[next_key] += 1*cards[key]  # Update the value to a new value\n",
        "\n",
        "\n",
        "    result = sum(cards.values())\n",
        "\n",
        "    return result"
      ],
      "metadata": {
        "id": "9U2ED0ePWzVW"
      },
      "execution_count": null,
      "outputs": []
    },
    {
      "cell_type": "code",
      "source": [
        "def aoc51(array, seeds):\n",
        "    lowest_loc = 999999999999\n",
        "    for i in range(len(array)):\n",
        "        #print(seeds)\n",
        "        if (array[i][-1] == 'map:'):\n",
        "            mapped = {}\n",
        "            continue\n",
        "        else:\n",
        "            outputStart = int(array[i][0])\n",
        "            sourceStart = int(array[i][1])\n",
        "            rangeLength = int(array[i][2])\n",
        "            #print(outputStart,sourceStart,rangeLength)\n",
        "            for j in range(len(seeds)):\n",
        "                #print(range(sourceStart, sourceStart + rangeLength), seeds[j] in range(sourceStart, sourceStart + rangeLength), seeds[j] not in mapped)\n",
        "                if (seeds[j] in range(sourceStart, sourceStart + rangeLength) and seeds[j] not in mapped):\n",
        "                    seeds[j] = seeds[j] + (outputStart - sourceStart)\n",
        "                    mapped[seeds[j]] = 1\n",
        "        #print(dict)\n",
        "        #print(seeds)\n",
        "\n",
        "    for seed in seeds:\n",
        "        if int(seed) < lowest_loc:\n",
        "            lowest_loc = int(seed)\n",
        "    return lowest_loc"
      ],
      "metadata": {
        "id": "4m_ogV3rZ4Xt"
      },
      "execution_count": null,
      "outputs": []
    },
    {
      "cell_type": "code",
      "source": [
        "def aoc52_old(array, seeds):\n",
        "    location = 0\n",
        "    mapped = False\n",
        "    while(True):\n",
        "        startingLoc = location\n",
        "        if(location%1000==0):\n",
        "            print(f'checking location {startingLoc}')\n",
        "        for i in range(len(array)):\n",
        "            if (array[i][-1] == 'map:'):\n",
        "                mapped = False\n",
        "                continue\n",
        "            else:\n",
        "                outputStart = int(array[i][0])\n",
        "                sourceStart = int(array[i][1])\n",
        "                rangeLength = int(array[i][2])\n",
        "                #print(outputStart,sourceStart,rangeLength)\n",
        "                if (location in range(outputStart, outputStart + rangeLength) and not mapped):\n",
        "                    location = location - (outputStart - sourceStart)\n",
        "                    mapped = True\n",
        "        for seed in seeds:\n",
        "            #print(f'starting location {startingLoc} yielded seed {location}, checking range {seed, seeds[seed]}, which yields {location in range(seed, seeds[seed])}')\n",
        "            if location in range(seed, seed + seeds[seed]):\n",
        "                return startingLoc\n",
        "        location = startingLoc + 1\n",
        "    return -1"
      ],
      "metadata": {
        "id": "3qg1KRUG9zS5"
      },
      "execution_count": null,
      "outputs": []
    },
    {
      "cell_type": "code",
      "source": [
        "def single_range_mapper(seedRange, mapRange, delta): #maps the seedRange according to one line of the map.\n",
        "    #print(f'mapping {seedRange} using {mapRange, delta}')\n",
        "    if seedRange[0] in range(mapRange[0],mapRange[1]):\n",
        "\n",
        "        if seedRange[1] in range(mapRange[0],mapRange[1]):\n",
        "            #print(1)\n",
        "            mappedRanges = [[seedRange[0]+delta, seedRange[1]+delta]]\n",
        "            unmappedRanges = []\n",
        "\n",
        "        else:\n",
        "            #print(2)\n",
        "            mappedRanges = [[seedRange[0] + delta, mapRange[1] + delta]]\n",
        "            unmappedRanges = [[mapRange[1], seedRange[1]]]\n",
        "\n",
        "    elif seedRange[1] in range(mapRange[0],mapRange[1]):\n",
        "        #print(3)\n",
        "        mappedRanges = [[mapRange[0] + delta, seedRange[1] + delta]]\n",
        "        unmappedRanges = [[seedRange[0], mapRange[0]]]\n",
        "\n",
        "    elif mapRange[0] in range(seedRange[0],seedRange[1]) and mapRange[1] in range(seedRange[0],seedRange[1]):\n",
        "        #print(4)\n",
        "        unmappedRanges = [[seedRange[0], mapRange[0]], [mapRange[1], seedRange[1]]]\n",
        "        mappedRanges = [[mapRange[0] + delta, mapRange[1] + delta]]\n",
        "\n",
        "    else:\n",
        "        #print(5)\n",
        "        unmappedRanges = [seedRange]\n",
        "        mappedRanges = []\n",
        "    #print(f'mapped, unmapped = {mappedRanges, unmappedRanges}')\n",
        "    return mappedRanges, unmappedRanges"
      ],
      "metadata": {
        "id": "SODaJjVIlxU8"
      },
      "execution_count": null,
      "outputs": []
    },
    {
      "cell_type": "code",
      "source": [
        "########   evil preprocessing #########\n",
        "#seeds = array[0][1:]\n",
        "    #ranges = []\n",
        "\n",
        "#for i in range(len(seeds)):\n",
        " #       if i % 2 == 0:\n",
        "  #          seedRange = [int(seeds[i]), int(seeds[i]) + int(seeds[i + 1])]\n",
        "   #array.append(array[1])\n",
        "    #array = array[2:]\n",
        "#    print(ranges,array)\n",
        " #   min = 999999999999999\n",
        "  #  for r in ranges:\n",
        "   #     print(f'range {r}')\n",
        "    #    lowest_loc = aoc52(array, r)\n",
        "     #   if lowest_loc<min:\n",
        "      #      min = lowest_loc\n",
        "    #print(min)\n",
        "\n",
        "\n",
        "def aoc52(array, seedRange): # finds the lowest possible conclusion of the mapping algorithm for one seed range\n",
        "    #for i in range(rangeCount):\n",
        "    unmappedRanges = [seedRange]\n",
        "    metaTEMP = []\n",
        "    mappedRanges = []\n",
        "    currentMap = []\n",
        "    for i in range(len(array)):\n",
        "        if (array[i][-1] == 'map:'):\n",
        "            #print(' ')\n",
        "            #print(f'one before {array[i][0]} map' )\n",
        "            for map in currentMap:\n",
        "                #print(f'map is {map}')\n",
        "                for rng in unmappedRanges:\n",
        "                    #print(rng)\n",
        "                    tempMappedRange, tempUnmappedRanges = single_range_mapper(rng, map[0], map[1])\n",
        "                    if tempMappedRange:\n",
        "                        mappedRanges.append(tempMappedRange[0])\n",
        "                    for temp in  tempUnmappedRanges:\n",
        "                        metaTEMP.append(temp)\n",
        "                unmappedRanges = metaTEMP\n",
        "                metaTEMP = []\n",
        "            unmappedRanges = mappedRanges + unmappedRanges\n",
        "            mappedRanges = []\n",
        "            currentMap = []\n",
        "        else:\n",
        "            outputStart = int(array[i][0])\n",
        "            sourceStart = int(array[i][1])\n",
        "            rangeLength = int(array[i][2])\n",
        "            mapRange = [sourceStart, sourceStart + rangeLength]\n",
        "            delta = outputStart - sourceStart\n",
        "            currentMap.append([mapRange, delta])\n",
        "    #print(f'the final ranges are {unmappedRanges}')\n",
        "\n",
        "    min = 999999999999999\n",
        "    for final in unmappedRanges:\n",
        "        if final[0] < min:\n",
        "            #print(f'{final[0]} < {min} at {final}')\n",
        "            min = final[0]\n",
        "    return min\n",
        "\n",
        "        #print(seeds)"
      ],
      "metadata": {
        "id": "XnrVYTHPi_MI"
      },
      "execution_count": null,
      "outputs": []
    },
    {
      "cell_type": "code",
      "execution_count": null,
      "metadata": {
        "colab": {
          "base_uri": "https://localhost:8080/"
        },
        "id": "sMM515voLBrX",
        "outputId": "908bc79d-d46a-435e-e76c-fc0955d383c8"
      },
      "outputs": [
        {
          "output_type": "stream",
          "name": "stdout",
          "text": [
            "[[3169137700, 3440855309], [3522125441, 3545501536], [1233948799, 2045782636], [280549587, 984416942], [166086528, 210853524], [2326968141, 2396130363], [2698492851, 2713095920], [2755327667, 3104327198], [2600461189, 2692794035], [1054656969, 1223756736]] [['404519244', '291909660', '232498813'], ['1320269465', '1130502191', '53088254'], ['3383428636', '3839037267', '267181273'], ['0', '667785713', '35892165'], ['1373357719', '524408473', '98619504'], ['2581158120', '2457172776', '306553547'], ['80649901', '971363049', '35482565'], ['2330985014', '3113014199', '250173106'], ['637018057', '1006845614', '54766591'], ['1010187739', '1061612205', '68889986'], ['851189485', '132911406', '158998254'], ['718278079', '0', '132911406'], ['1079077725', '730171309', '241191740'], ['2887711667', '2392582028', '64590748'], ['3321831622', '2330985014', '61597014'], ['3650609909', '4106218540', '188748756'], ['2952302415', '3363187305', '20241331'], ['368073252', '1183590445', '36445992'], ['3839358665', '3383428636', '455608631'], ['35892165', '623027977', '44757736'], ['2972543746', '2763726323', '349287876'], ['691784648', '703677878', '26493431'], ['116132466', '1220036437', '251940786'], ['soil-to-fertilizer', 'map:'], ['1392321439', '1575423106', '1147080465'], ['261871322', '2722503571', '622657242'], ['884528564', '768981668', '507792875'], ['3152000765', '0', '514557996'], ['2539401904', '3607032135', '247383303'], ['2786785207', '3854415438', '110791886'], ['2897577093', '514557996', '254423672'], ['3666558761', '1276774543', '298648563'], ['0', '3345160813', '261871322'], ['fertilizer-to-water', 'map:'], ['385494683', '1437201590', '374714893'], ['3894452006', '2756513635', '124929297'], ['1389571244', '1299917000', '137284590'], ['3267934068', '2881442932', '9378230'], ['4140946106', '2602492445', '154021190'], ['760209576', '585965354', '629361668'], ['1948388381', '1832044460', '70164711'], ['170741915', '176668131', '214752768'], ['3570093835', '2531499423', '70993022'], ['2647843344', '3421511423', '399466167'], ['1832044460', '3124261283', '116343921'], ['3458218517', '2890821162', '111875318'], ['1721400289', '1215327022', '84589978'], ['1526855834', '391420899', '194544455'], ['4019381303', '3002696480', '121564803'], ['3641086857', '4041602147', '253365149'], ['2018553092', '1902209171', '629290252'], ['3047309511', '3820977590', '220624557'], ['1805990267', '170741915', '5926216'], ['3277312298', '3240605204', '180906219'], ['water-to-light', 'map:'], ['3186854896', '2955619881', '216294813'], ['1320085115', '3394507929', '25016085'], ['1300936985', '1818141535', '19148130'], ['3620767971', '560782805', '39686383'], ['2121550779', '2395592136', '95582251'], ['3594740149', '4260270958', '26027822'], ['1138228493', '3171914694', '34259798'], ['823736132', '600469188', '55727065'], ['3049715340', '2803112532', '137139556'], ['0', '461804882', '98977923'], ['2217133030', '1416346841', '282474073'], ['1225320767', '1742525317', '75616218'], ['3481284141', '3206174492', '113456008'], ['1172488291', '656196253', '52832476'], ['1980983454', '2662545207', '140567325'], ['182051501', '2121838778', '15960124'], ['1788572787', '256566375', '2332800'], ['881662118', '0', '256566375'], ['3769058535', '899106596', '517240245'], ['157917514', '3851650114', '24133987'], ['564440564', '1937530266', '107354197'], ['2527210819', '4090588051', '169682907'], ['1790905587', '709028729', '190077867'], ['2499607103', '3824046398', '27603716'], ['1585667080', '258899175', '202905707'], ['671794761', '3419524014', '51700770'], ['3403149709', '2491174387', '62766639'], ['228474519', '2044884463', '76954315'], ['3660454354', '2553941026', '108604181'], ['305428834', '2137798902', '257793234'], ['879463197', '3875784101', '2198921'], ['2696893726', '3471224784', '352821614'], ['1345101200', '3319630500', '74877429'], ['98977923', '4031648460', '58939591'], ['1541962677', '1698820914', '43704403'], ['3465916348', '2940252088', '15367793'], ['1419978629', '3909664412', '121984048'], ['723495531', '1837289665', '100240601'], ['563222068', '3908445916', '1218496'], ['198011625', '3877983022', '30462894'], ['light-to-temperature', 'map:'], ['2138957924', '2867100637', '394375633'], ['1108145028', '3261476270', '27971395'], ['2732973434', '712143665', '259385506'], ['642453123', '1589178663', '51870752'], ['316125718', '164593015', '67732689'], ['0', '145842404', '18750611'], ['1861017768', '2758655274', '29719920'], ['2130609825', '2858752538', '8348099'], ['828190830', '2187066385', '73864838'], ['18750611', '0', '126160197'], ['144910808', '376698573', '26842041'], ['383858407', '126160197', '19682207'], ['2533333557', '3337386080', '199639877'], ['1507332395', '1950588856', '215367909'], ['3619117542', '3537025957', '51848058'], ['1740303803', '1763491162', '21707209'], ['3793407347', '4140330531', '154636765'], ['477829952', '3588874015', '164623171'], ['1722700304', '1432603163', '17603499'], ['1890737688', '493381148', '218762517'], ['4255326359', '1549537726', '39640937'], ['1408001331', '1450206662', '99331064'], ['2992358940', '2260931223', '497724051'], ['429891537', '3289447665', '47938415'], ['3670965600', '1641049415', '122441747'], ['171752849', '232325704', '144372869'], ['3504169105', '3753497186', '114948437'], ['2109500205', '2165956765', '21109620'], ['4113434597', '1290711401', '141891762'], ['3490082991', '1070535927', '14086114'], ['1136116423', '3868445623', '271884908'], ['757813486', '2788375194', '70377344'], ['3948044112', '1785198371', '165390485'], ['694323875', '429891537', '63489611'], ['1762011012', '971529171', '99006756'], ['902055668', '1084622041', '206089360'], ['temperature-to-humidity', 'map:'], ['480269915', '557576190', '100117705'], ['2489408207', '1585236324', '410693151'], ['2900101358', '422045351', '135530839'], ['666327594', '779006907', '28457451'], ['1945409298', '807464358', '543998909'], ['96132998', '2440771002', '3096292'], ['1295929224', '2746460169', '2283706'], ['1298212930', '2022055443', '99310345'], ['3547441134', '3503466915', '344864128'], ['1659646920', '325230280', '96815071'], ['4125576596', '3928494543', '169390700'], ['3035632197', '1351463267', '233773057'], ['1397523275', '2592671813', '109157546'], ['1032938960', '2748743875', '109076238'], ['1756461991', '2276586008', '92935317'], ['3968917823', '4097885243', '156658773'], ['595077917', '2369521325', '71249677'], ['1593864657', '3027700045', '65782263'], ['850005265', '657693895', '121313012'], ['1506680821', '2505487977', '87183836'], ['1186646008', '0', '109283216'], ['1849397308', '3389340328', '96011990'], ['3496945571', '4254544016', '40423280'], ['3898826606', '3858403326', '70091217'], ['99229290', '3189615306', '199725022'], ['468834244', '1995929475', '11435671'], ['3269405254', '109283216', '215947064'], ['580387620', '2007365146', '14690297'], ['0', '3093482308', '96132998'], ['971318277', '2443867294', '61620683'], ['3892305262', '3496945571', '6521344'], ['298954312', '2857820113', '169879932'], ['1142015198', '2701829359', '44630810'], ['694785045', '2121365788', '155220220'], ['3537368851', '3848331043', '10072283'], ['humidity-to-location', 'map:'], ['3490144003', '1623866227', '218040905'], ['1709610578', '1620839197', '3027030'], ['105449249', '586389428', '113279526'], ['1899604338', '2167886292', '348178199'], ['1712637608', '2678624215', '186966730'], ['218728775', '0', '245776251'], ['2472992580', '923734334', '143670388'], ['2616662968', '3670169885', '15297294'], ['2247782537', '1395629154', '225210043'], ['0', '480940179', '105449249'], ['4113852846', '3959729057', '159909096'], ['3322784653', '1067404722', '167359350'], ['923734334', '4119638153', '175329143'], ['1534964496', '2516064491', '162559724'], ['2631960262', '3496028440', '140849733'], ['2862695906', '1234764072', '97988355'], ['1697524220', '3636878173', '12086358'], ['2985646048', '1332752427', '62876727'], ['1099063477', '2970241510', '435901019'], ['4009202281', '2865590945', '104650565'], ['2960684261', '2142924505', '24961787'], ['2772809995', '3406142529', '89885911'], ['4273761942', '3648964531', '21205354'], ['3708184908', '1841907132', '301017373'], ['464505026', '245776251', '235163928'], ['3048522775', '3685467179', '274261878'], ['seed-to-soil', 'map:']]\n",
            "range [3169137700, 3440855309]\n",
            "range [3522125441, 3545501536]\n",
            "range [1233948799, 2045782636]\n",
            "range [280549587, 984416942]\n",
            "range [166086528, 210853524]\n",
            "range [2326968141, 2396130363]\n",
            "range [2698492851, 2713095920]\n",
            "range [2755327667, 3104327198]\n",
            "range [2600461189, 2692794035]\n",
            "range [1054656969, 1223756736]\n",
            "84206669\n"
          ]
        }
      ],
      "source": [
        "import csv\n",
        "\n",
        "with open('/content/aoc5input.txt') as file_obj:\n",
        "\n",
        "    # Create reader object by passing the file object to reader method\n",
        "    reader_obj = csv.reader(file_obj, delimiter=';')\n",
        "\n",
        "    # Iterate over each row in the csv file using reader object\n",
        "    array = []\n",
        "    #constraints = {'r': 12, 'g': 13, 'b': 14}\n",
        "    for row in reader_obj:\n",
        "        #my_string = row[0]\n",
        "        if len(row)>0:\n",
        "            array.append(row[0].split())\n",
        "\n",
        "    #print (ranges, seeds, array)\n",
        "    for i in range(len(seeds)):\n",
        "        if i % 2 == 0:\n",
        "            seedRange = [int(seeds[i]), int(seeds[i]) + int(seeds[i + 1])]\n",
        "            ranges.append(seedRange)\n",
        "    array.append(array[1])\n",
        "    array = array[2:]\n",
        "    print(ranges,array)\n",
        "    min = 999999999999999\n",
        "    for r in ranges:\n",
        "        print(f'range {r}')\n",
        "        lowest_loc = aoc52(array, r)\n",
        "        if lowest_loc<min:\n",
        "            min = lowest_loc\n",
        "    print(min)"
      ]
    }
  ]
}