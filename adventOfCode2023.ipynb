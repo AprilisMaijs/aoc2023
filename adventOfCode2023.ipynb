{
  "nbformat": 4,
  "nbformat_minor": 0,
  "metadata": {
    "colab": {
      "provenance": [],
      "authorship_tag": "ABX9TyNRL7xY05QMebcEpKOgWWUq",
      "include_colab_link": true
    },
    "kernelspec": {
      "name": "python3",
      "display_name": "Python 3"
    },
    "language_info": {
      "name": "python"
    }
  },
  "cells": [
    {
      "cell_type": "markdown",
      "metadata": {
        "id": "view-in-github",
        "colab_type": "text"
      },
      "source": [
        "<a href=\"https://colab.research.google.com/github/AprilisMaijs/aoc2023/blob/main/adventOfCode2023.ipynb\" target=\"_parent\"><img src=\"https://colab.research.google.com/assets/colab-badge.svg\" alt=\"Open In Colab\"/></a>"
      ]
    },
    {
      "cell_type": "code",
      "source": [
        "import pandas as pd\n",
        "import numpy as np\n",
        "digit_numbers = {'0', '1', '2', '3', '4', '5', '6', '7', '8', '9'}"
      ],
      "metadata": {
        "id": "YJqrL_j3_ioF"
      },
      "execution_count": null,
      "outputs": []
    },
    {
      "cell_type": "code",
      "source": [
        "#returns calculation for 1 line of input, these can then be summed for result\n",
        "def aoc11(my_string):\n",
        "    my_list = ['0', '1', '2', '3', '4', '5', '6', '7', '8', '9']\n",
        "    length = len(my_string)\n",
        "    rez=\"\"\n",
        "    firstDigit = False\n",
        "    secondDigit = False\n",
        "    for index, char in enumerate(my_string):\n",
        "        if char in my_list and not firstDigit:\n",
        "            rez = char + rez\n",
        "            firstDigit = True\n",
        "            if secondDigit:\n",
        "                break\n",
        "\n",
        "        rev_index = length - 1 - index\n",
        "        if my_string[rev_index] in my_list and not secondDigit:\n",
        "            rez = rez + my_string[rev_index]\n",
        "            secondDigit = True\n",
        "            if firstDigit:\n",
        "                break\n",
        "\n",
        "    return(int(rez))\n",
        "\n"
      ],
      "metadata": {
        "id": "tCLnK-4gLreI"
      },
      "execution_count": null,
      "outputs": []
    },
    {
      "cell_type": "code",
      "source": [
        "# returns the pattern that has the FIRST match in a string\n",
        "def find_first_match(input_string, string_list):\n",
        "    first_match = None\n",
        "    index = 999\n",
        "    for pattern in string_list:\n",
        "        if pattern in input_string:\n",
        "            if input_string.find(pattern)<index:\n",
        "                first_match = pattern\n",
        "                index = input_string.find(pattern)\n",
        "\n",
        "    return first_match"
      ],
      "metadata": {
        "id": "mYtg7SIITmSD"
      },
      "execution_count": null,
      "outputs": []
    },
    {
      "cell_type": "code",
      "source": [
        "# returns the pattern that has the LAST match in a string\n",
        "def find_last_match(input_string, string_list):\n",
        "    last_match = None\n",
        "    index = 0\n",
        "    for pattern in string_list:\n",
        "        if pattern in input_string:\n",
        "             if input_string.rfind(pattern)>index:\n",
        "                last_match = pattern\n",
        "                index = input_string.rfind(pattern)\n",
        "    return last_match"
      ],
      "metadata": {
        "id": "luBbGyULTsmr"
      },
      "execution_count": null,
      "outputs": []
    },
    {
      "cell_type": "code",
      "source": [
        "#returns calculation for 1 line of input, these can then be summed for result\n",
        "def aoc12(my_string):\n",
        "    digit_numbers = [\"0\", \"1\", \"2\", \"3\", \"4\", \"5\", \"6\", \"7\", \"8\", \"9\"]\n",
        "    digit_words = [\"one\", \"two\", \"three\", \"four\", \"five\", \"six\", \"seven\", \"eight\", \"nine\"]\n",
        "    combo = digit_numbers + digit_words\n",
        "    result=0\n",
        "    firstDigit = find_first_match(my_string, combo)\n",
        "    lastDigit = find_last_match(my_string, combo)\n",
        "    if (firstDigit == None):\n",
        "        firstDigit = lastDigit\n",
        "    if (lastDigit == None):\n",
        "        lastDigit = firstDigit\n",
        "\n",
        "    if firstDigit in digit_words:\n",
        "        firstDigit = digit_numbers[digit_words.index(firstDigit)+1]\n",
        "    if lastDigit in digit_words:\n",
        "        lastDigit = digit_numbers[digit_words.index(lastDigit)+1]\n",
        "    return firstDigit+lastDigit\n"
      ],
      "metadata": {
        "id": "b8CDbPITUK8l"
      },
      "execution_count": null,
      "outputs": []
    },
    {
      "cell_type": "code",
      "source": [
        "#returns calculation for 1 line of input, these can then be summed for result\n",
        "def aoc21 (gameList, constraints):\n",
        "    gameID = gameList[0]\n",
        "    for set in gameList[1:]:\n",
        "        colors = set.split(',')\n",
        "        for num_color in colors:\n",
        "            color = num_color[len(num_color)-1]\n",
        "            amount = int(num_color.replace(' ','').replace('r','').replace('g','').replace('b',''))\n",
        "            if (constraints[color]<amount):\n",
        "                return 0\n",
        "    return int(gameID)"
      ],
      "metadata": {
        "id": "qD_x4ZuV-vxk"
      },
      "execution_count": null,
      "outputs": []
    },
    {
      "cell_type": "code",
      "source": [
        "#returns calculation for 1 line of input, these can then be summed for result\n",
        "def aoc22 (gameList):\n",
        "    gameID = gameList[0]\n",
        "    minAmounts = {'r': 0, 'g': 0, 'b': 0}\n",
        "    for set in gameList[1:]:\n",
        "        colors = set.split(',')\n",
        "        for num_color in colors:\n",
        "            color = num_color[len(num_color)-1]\n",
        "            amount = int(num_color.replace(' ','').replace('r','').replace('g','').replace('b',''))\n",
        "            if (amount > minAmounts[color]):\n",
        "                minAmounts[color] = amount\n",
        "    power = minAmounts['r']*minAmounts['g']*minAmounts['b']\n",
        "    return power"
      ],
      "metadata": {
        "id": "AcPzV9veGq52"
      },
      "execution_count": null,
      "outputs": []
    },
    {
      "cell_type": "code",
      "source": [
        "def check_for_symbols(array, index, indexes):\n",
        "    valid_index_range = range(len(array))\n",
        "    valid_i_range = range(len(array[0][0]))\n",
        "    for i in indexes:\n",
        "        list_of_checks = [\n",
        "            [index, i-1],\n",
        "            [index-1, i-1],\n",
        "            [index-1, i],\n",
        "            [index-1, i+1],\n",
        "            [index, i+1],\n",
        "            [index+1, i-1],\n",
        "            [index+1, i],\n",
        "            [index+1, i+1]]\n",
        "        for pos in list_of_checks:\n",
        "            if(pos[0] in valid_index_range and pos[1] in valid_i_range):\n",
        "                symbol = array[pos[0]][0][pos[1]]\n",
        "                if(symbol != '.' and symbol not in digit_numbers):\n",
        "                    return True\n",
        "    return False"
      ],
      "metadata": {
        "id": "93pBWEuoO8J2"
      },
      "execution_count": null,
      "outputs": []
    },
    {
      "cell_type": "code",
      "source": [
        "def aoc31(array):\n",
        "    result = 0\n",
        "    digit_numbers = {'0', '1', '2', '3', '4', '5', '6', '7', '8', '9'}  # Use a set for faster membership checks\n",
        "\n",
        "    for i in range(len(array)):  # Iterate over rows directly\n",
        "        my_string = array[i][0]\n",
        "        j = 0\n",
        "        while(j<len(my_string)):\n",
        "            if my_string[j] in digit_numbers:\n",
        "                part_number, indexes = find_full_number(my_string, j)\n",
        "                j = indexes[-1] + 1\n",
        "                isPart = check_for_symbols(array, i, indexes)\n",
        "                if isPart:\n",
        "                    result += part_number\n",
        "            j+=1\n",
        "    return result"
      ],
      "metadata": {
        "id": "qtwuuPGnLW4B"
      },
      "execution_count": null,
      "outputs": []
    },
    {
      "cell_type": "code",
      "source": [
        "def check_for_numbers(array, row, column):\n",
        "    valid_row_range = range(len(array))\n",
        "    valid_column_range = range(len(array[0][0]))\n",
        "    found_numbers = []\n",
        "    do_not_check = {}\n",
        "    list_of_checks = [\n",
        "        [row, column-1],\n",
        "        [row-1, column-1],\n",
        "        [row-1, column],\n",
        "        [row-1, column+1],\n",
        "        [row, column+1],\n",
        "        [row+1, column-1],\n",
        "        [row+1, column],\n",
        "        [row+1, column+1]]\n",
        "    for pos in list_of_checks:\n",
        "        if(pos[0] in valid_row_range and pos[1] in valid_column_range):\n",
        "            if(pos[0] in do_not_check):\n",
        "                if(pos[1]  in do_not_check[pos[0]]):\n",
        "                    continue\n",
        "            symbol = array[pos[0]][0][pos[1]]\n",
        "            if(symbol in digit_numbers):\n",
        "                num, indexes = (find_full_number(array[pos[0]][0],pos[1]))\n",
        "                found_numbers.append(num)\n",
        "                do_not_check[pos[0]] = indexes\n",
        "    return found_numbers"
      ],
      "metadata": {
        "id": "4xt5uNKzgd8c"
      },
      "execution_count": null,
      "outputs": []
    },
    {
      "cell_type": "code",
      "source": [
        "def find_full_number(my_string, index):\n",
        "    beginningFound = False\n",
        "    while(not beginningFound):\n",
        "        if(index - 1 >= 0):\n",
        "            if(my_string[index - 1] not in digit_numbers):\n",
        "                beginningFound = True\n",
        "                break\n",
        "        else:\n",
        "            beginningFound = True\n",
        "            break\n",
        "        index += -1\n",
        "    char = my_string[index]\n",
        "    indexes = []\n",
        "    number = \"\"\n",
        "    while(char in digit_numbers and index < len(my_string)):\n",
        "        indexes.append(index)\n",
        "        number += char\n",
        "        index += 1\n",
        "        if (index < len(my_string)):\n",
        "            char = my_string[index]\n",
        "    return int(number), indexes"
      ],
      "metadata": {
        "id": "Z_FKmionNAns"
      },
      "execution_count": null,
      "outputs": []
    },
    {
      "cell_type": "code",
      "source": [
        "def aoc32(array):\n",
        "    result = 0\n",
        "    for i in range(len(array)):  # Iterate over rows directly\n",
        "        my_string = array[i][0]\n",
        "        j = 0\n",
        "        while(j<len(my_string)):\n",
        "            if my_string[j] == '*':\n",
        "                print('gear found...')\n",
        "                unique_values = check_for_numbers(array, i, j)\n",
        "                print('part numbers found ')\n",
        "                print(unique_values)\n",
        "                if(len(unique_values) == 2):\n",
        "                    result += unique_values[0]*unique_values[1]\n",
        "            j+=1\n",
        "    return result"
      ],
      "metadata": {
        "id": "N_RvSsrdeXLV"
      },
      "execution_count": null,
      "outputs": []
    },
    {
      "cell_type": "code",
      "source": [
        "def aoc41(array):\n",
        "    result = 0\n",
        "\n",
        "    for row in array:\n",
        "        winningNumbers = []\n",
        "        yourNumbers = []\n",
        "        points = 0\n",
        "        matches = 0\n",
        "        delimiterReached = False\n",
        "        for i in range(1,len(row)):\n",
        "            if delimiterReached:\n",
        "                yourNumbers.append(row[i])\n",
        "            else:\n",
        "                if row[i] == '|':\n",
        "                    delimiterReached = True\n",
        "                else:\n",
        "                    winningNumbers.append(row[i])\n",
        "        for num in winningNumbers:\n",
        "            matches += yourNumbers.count(num)\n",
        "        if matches != 0:\n",
        "            points = 2**(matches-1)\n",
        "        result += points\n",
        "        #print(row,matches,2**(matches-1) ,points,result)\n",
        "    return result"
      ],
      "metadata": {
        "id": "R_li_LWwPLEP"
      },
      "execution_count": null,
      "outputs": []
    },
    {
      "cell_type": "code",
      "source": [
        "text = \"\"\n",
        "for i in range(len(text)):\n",
        "    print(\"hey\")"
      ],
      "metadata": {
        "id": "4uiQT_u0e1Hm"
      },
      "execution_count": null,
      "outputs": []
    },
    {
      "cell_type": "code",
      "source": [
        "def aoc42(array):\n",
        "    result = 0\n",
        "    matches = {}\n",
        "    cards = {}\n",
        "    for i in range(len(array)):\n",
        "        cards[array[i][0]]=1\n",
        "        winningNumbers = []\n",
        "        yourNumbers = []\n",
        "        points = 0\n",
        "        delimiterReached = False\n",
        "        for j in range(1,len(array[i])):\n",
        "            if delimiterReached:\n",
        "                yourNumbers.append(array[i][j])\n",
        "            else:\n",
        "                if array[i][j] == '|':\n",
        "                    delimiterReached = True\n",
        "                else:\n",
        "                    winningNumbers.append(array[i][j])\n",
        "        for num in winningNumbers:\n",
        "            if array[i][0] in matches:\n",
        "                matches[array[i][0]] += yourNumbers.count(num)\n",
        "            else:\n",
        "                matches[array[i][0]] = yourNumbers.count(num)\n",
        "    #iterate over cards AGAIN\n",
        "    for key in cards:\n",
        "        next_keys = list(cards.keys())[list(cards.keys()).index(key) + 1:list(cards.keys()).index(key) + matches[key] + 1]\n",
        "        for next_key in next_keys:\n",
        "            if next_key in cards:\n",
        "                cards[next_key] += 1*cards[key]  # Update the value to a new value\n",
        "\n",
        "\n",
        "    result = sum(cards.values())\n",
        "\n",
        "    return result"
      ],
      "metadata": {
        "id": "9U2ED0ePWzVW"
      },
      "execution_count": null,
      "outputs": []
    },
    {
      "cell_type": "code",
      "source": [
        "def aoc51(array, seeds):\n",
        "    lowest_loc = 999999999999\n",
        "    for i in range(len(array)):\n",
        "        #print(seeds)\n",
        "        if (array[i][-1] == 'map:'):\n",
        "            mapped = {}\n",
        "            continue\n",
        "        else:\n",
        "            outputStart = int(array[i][0])\n",
        "            sourceStart = int(array[i][1])\n",
        "            rangeLength = int(array[i][2])\n",
        "            #print(outputStart,sourceStart,rangeLength)\n",
        "            for j in range(len(seeds)):\n",
        "                #print(range(sourceStart, sourceStart + rangeLength), seeds[j] in range(sourceStart, sourceStart + rangeLength), seeds[j] not in mapped)\n",
        "                if (seeds[j] in range(sourceStart, sourceStart + rangeLength) and seeds[j] not in mapped):\n",
        "                    seeds[j] = seeds[j] + (outputStart - sourceStart)\n",
        "                    mapped[seeds[j]] = 1\n",
        "        #print(dict)\n",
        "        #print(seeds)\n",
        "\n",
        "    for seed in seeds:\n",
        "        if int(seed) < lowest_loc:\n",
        "            lowest_loc = int(seed)\n",
        "    return lowest_loc"
      ],
      "metadata": {
        "id": "4m_ogV3rZ4Xt"
      },
      "execution_count": null,
      "outputs": []
    },
    {
      "cell_type": "code",
      "source": [
        "def aoc52_old(array, seeds):\n",
        "    location = 0\n",
        "    mapped = False\n",
        "    while(True):\n",
        "        startingLoc = location\n",
        "        if(location%1000==0):\n",
        "            print(f'checking location {startingLoc}')\n",
        "        for i in range(len(array)):\n",
        "            if (array[i][-1] == 'map:'):\n",
        "                mapped = False\n",
        "                continue\n",
        "            else:\n",
        "                outputStart = int(array[i][0])\n",
        "                sourceStart = int(array[i][1])\n",
        "                rangeLength = int(array[i][2])\n",
        "                #print(outputStart,sourceStart,rangeLength)\n",
        "                if (location in range(outputStart, outputStart + rangeLength) and not mapped):\n",
        "                    location = location - (outputStart - sourceStart)\n",
        "                    mapped = True\n",
        "        for seed in seeds:\n",
        "            #print(f'starting location {startingLoc} yielded seed {location}, checking range {seed, seeds[seed]}, which yields {location in range(seed, seeds[seed])}')\n",
        "            if location in range(seed, seed + seeds[seed]):\n",
        "                return startingLoc\n",
        "        location = startingLoc + 1\n",
        "    return -1"
      ],
      "metadata": {
        "id": "3qg1KRUG9zS5"
      },
      "execution_count": 52,
      "outputs": []
    },
    {
      "cell_type": "code",
      "source": [
        "value1 = 2\n",
        "try:\n",
        "  vset = set(value1)\n",
        "except TypeError:\n",
        "  vset = set([value1])\n",
        "vset"
      ],
      "metadata": {
        "colab": {
          "base_uri": "https://localhost:8080/"
        },
        "id": "5NXOj34tla7e",
        "outputId": "6f0d5ba5-06b6-4261-d91a-7dda822c83ce"
      },
      "execution_count": null,
      "outputs": [
        {
          "output_type": "execute_result",
          "data": {
            "text/plain": [
              "{2}"
            ]
          },
          "metadata": {},
          "execution_count": 27
        }
      ]
    },
    {
      "cell_type": "code",
      "source": [
        "print(f'running aoc52 on {len(keys)} key ranges {keys}')\n",
        "print(aoc52(array, keys))"
      ],
      "metadata": {
        "id": "LGxWvDW1ulkn"
      },
      "execution_count": null,
      "outputs": []
    },
    {
      "cell_type": "code",
      "source": [
        "def range_mapper(seedRange, mapRange, delta):\n",
        "    if seedRange[0] in range(mapRange[0],mapRange[1]):\n",
        "        if seedRange[1] in range(mapRange[0],mapRange[1]):\n",
        "            rangeList = [[seedRange[0]+delta, seedRange[1]+delta]]\n",
        "        else:\n",
        "            rangeList = [[seedRange[0] + delta, mapRange[1] + delta],\n",
        "                         [mapRange[1], seedRange[1]]]\n",
        "    elif seedRange[1] in range(mapRange[0],mapRange[1]):\n",
        "        rangeList = [[seedRange[0], mapRange[0]],\n",
        "         [mapRange[0] + delta, seedRange[1] + delta]]\n",
        "    elif mapRange[0] in range(seedRange[0],seedRange[1]) and mapRange[1] in range(seedRange[0],seedRange[1]):\n",
        "        rangeList = [[seedRange[0], mapRange[0]],\n",
        "            [mapRange[0] + delta, mapRange[1] + delta],\n",
        "            [mapRange[1], seedRange[1]]]\n",
        "    else:\n",
        "        rangeList = seedRange\n",
        "    return rangeList"
      ],
      "metadata": {
        "id": "SODaJjVIlxU8"
      },
      "execution_count": 45,
      "outputs": []
    },
    {
      "cell_type": "code",
      "source": [
        "def aoc52(array, ranges):\n",
        "    for i in range(len(array)):\n",
        "        if (array[i][-1] == 'map:'):\n",
        "            mapped = {}\n",
        "            continue\n",
        "        else:\n",
        "            outputStart = int(array[i][0])\n",
        "            sourceStart = int(array[i][1])\n",
        "            rangeLength = int(array[i][2])\n",
        "            mapRange = [sourceStart, sourceStart + rangeLength]\n",
        "            delta = outputStart - sourceStart\n",
        "            tempRanges = []\n",
        "            rangeCount = len(ranges)\n",
        "            for i in range(rangeCount):\n",
        "                if array[i][0] in ranges[i]:\n",
        "                    tempRanges.append(range_mapper(ranges[i], mapRange, delta))\n",
        "\n",
        "            for tempList in tempRanges:\n",
        "                for item in tempList:\n",
        "                    ranges.append(item)\n",
        "\n",
        "    min = 9999999999\n",
        "    for final in ranges:\n",
        "        print final\n",
        "        if final[0]<min:\n",
        "            min = final[0]\n",
        "    return min\n",
        "        #print(seeds)"
      ],
      "metadata": {
        "colab": {
          "base_uri": "https://localhost:8080/",
          "height": 145
        },
        "id": "XnrVYTHPi_MI",
        "outputId": "49565890-7171-48d8-8aed-b2533540db8f"
      },
      "execution_count": 59,
      "outputs": [
        {
          "output_type": "error",
          "ename": "SyntaxError",
          "evalue": "ignored",
          "traceback": [
            "\u001b[0;36m  File \u001b[0;32m\"<ipython-input-59-dddad6bbfb88>\"\u001b[0;36m, line \u001b[0;32m24\u001b[0m\n\u001b[0;31m    print final\u001b[0m\n\u001b[0m    ^\u001b[0m\n\u001b[0;31mSyntaxError\u001b[0m\u001b[0;31m:\u001b[0m Missing parentheses in call to 'print'. Did you mean print(...)?\n"
          ]
        }
      ]
    },
    {
      "cell_type": "code",
      "source": [
        "times=[35696887]\n",
        "distances = [213116810861248]\n",
        "\n",
        "def aoc6(times, distances):\n",
        "    result = 1\n",
        "\n",
        "    for i in range(len(times)):\n",
        "        if i%10000==0:\n",
        "            print(f'checked {i} times')\n",
        "        maxDistance = distances[i]\n",
        "        raceResult = 0\n",
        "        for ms in range(times[i]):\n",
        "            distance = ms * (times[i]-ms)\n",
        "            if distance > maxDistance:\n",
        "                raceResult = raceResult + 1\n",
        "        result = result * raceResult\n",
        "    return result\n",
        "\n",
        "print(aoc6(times, distances))"
      ],
      "metadata": {
        "colab": {
          "base_uri": "https://localhost:8080/"
        },
        "id": "Wjp25aVCi49i",
        "outputId": "6b2ff0d5-a7a7-4766-e685-a05ecb335516"
      },
      "execution_count": 13,
      "outputs": [
        {
          "output_type": "stream",
          "name": "stdout",
          "text": [
            "checked 0 times\n",
            "20537782\n"
          ]
        }
      ]
    },
    {
      "cell_type": "code",
      "execution_count": 51,
      "metadata": {
        "colab": {
          "base_uri": "https://localhost:8080/"
        },
        "id": "sMM515voLBrX",
        "outputId": "5fb270ea-6507-4ca8-eb05-df51290cb6ba"
      },
      "outputs": [
        {
          "output_type": "stream",
          "name": "stdout",
          "text": [
            "[] ['79', '14', '55', '13'] [['seeds:', '79', '14', '55', '13'], ['seed-to-soil', 'map:'], ['50', '98', '2'], ['52', '50', '48'], ['soil-to-fertilizer', 'map:'], ['0', '15', '37'], ['37', '52', '2'], ['39', '0', '15'], ['fertilizer-to-water', 'map:'], ['49', '53', '8'], ['0', '11', '42'], ['42', '0', '7'], ['57', '7', '4'], ['water-to-light', 'map:'], ['88', '18', '7'], ['18', '25', '70'], ['light-to-temperature', 'map:'], ['45', '77', '23'], ['81', '45', '19'], ['68', '64', '13'], ['temperature-to-humidity', 'map:'], ['0', '69', '1'], ['1', '0', '69'], ['humidity-to-location', 'map:'], ['60', '56', '37'], ['56', '93', '4']]\n",
            "0\n",
            "2\n",
            "[[79, 93], [55, 68]] [['seed-to-soil', 'map:'], ['50', '98', '2'], ['52', '50', '48'], ['soil-to-fertilizer', 'map:'], ['0', '15', '37'], ['37', '52', '2'], ['39', '0', '15'], ['fertilizer-to-water', 'map:'], ['49', '53', '8'], ['0', '11', '42'], ['42', '0', '7'], ['57', '7', '4'], ['water-to-light', 'map:'], ['88', '18', '7'], ['18', '25', '70'], ['light-to-temperature', 'map:'], ['45', '77', '23'], ['81', '45', '19'], ['68', '64', '13'], ['temperature-to-humidity', 'map:'], ['0', '69', '1'], ['1', '0', '69'], ['humidity-to-location', 'map:'], ['60', '56', '37'], ['56', '93', '4']]\n"
          ]
        }
      ],
      "source": [
        "import csv\n",
        "\n",
        "with open('/content/aoc5test.txt') as file_obj:\n",
        "\n",
        "    # Create reader object by passing the file object to reader method\n",
        "    reader_obj = csv.reader(file_obj, delimiter=';')\n",
        "\n",
        "    # Iterate over each row in the csv file using reader object\n",
        "    array = []\n",
        "    #constraints = {'r': 12, 'g': 13, 'b': 14}\n",
        "    for row in reader_obj:\n",
        "        #my_string = row[0]\n",
        "        if len(row)>0:\n",
        "            array.append(row[0].split())\n",
        "    seeds = array[0][1:]\n",
        "    ranges = []\n",
        "    print (ranges, seeds, array)\n",
        "    for i in range(len(seeds)):\n",
        "        if i % 2 == 0:\n",
        "            print(i)\n",
        "            seedRange = [int(seeds[i]), int(seeds[i]) + int(seeds[i + 1])]\n",
        "            ranges.append(seedRange)\n",
        "    array = array[1:]\n",
        "    print(ranges,array)"
      ]
    },
    {
      "cell_type": "code",
      "source": [
        "print(f'running aoc52 on {len(keys)} key ranges {keys}')\n",
        "print(aoc52(array, ranges))"
      ],
      "metadata": {
        "id": "hgh3Q7iQIUur",
        "colab": {
          "base_uri": "https://localhost:8080/"
        },
        "outputId": "33d7104a-af10-48cd-da2e-798f1bb25c79"
      },
      "execution_count": 60,
      "outputs": [
        {
          "output_type": "stream",
          "name": "stdout",
          "text": [
            "running aoc52 on 10 key ranges {3169137700: 271717609, 3522125441: 23376095, 1233948799: 811833837, 280549587: 703867355, 166086528: 44766996, 2326968141: 69162222, 2698492851: 14603069, 2755327667: 348999531, 2600461189: 92332846, 1054656969: 169099767}\n",
            "9999999999\n"
          ]
        }
      ]
    }
  ]
}